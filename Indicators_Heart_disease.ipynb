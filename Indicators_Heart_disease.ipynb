{
 "cells": [
  {
   "attachments": {},
   "cell_type": "markdown",
   "id": "0d0b5a09-dcfa-4cac-a732-d3d899a3beec",
   "metadata": {},
   "source": [
    "# Final Project Group 12\n",
    "## <p style=\"color:blue;\">Exploring the Impact of Health Indicators on Heart Disease\n",
    "Group member：Ari Bernstein, Huai Hsuan Huang, Gokul Kumar Kesavan, Deepankar Makwana, Carissa Paul, Rui Yang\n",
    "\n",
    "\n"
   ]
  },
  {
   "cell_type": "markdown",
   "id": "0fb28b05-a634-4808-b0ef-0381462c5d06",
   "metadata": {},
   "source": [
    "## ■ Setup\n",
    "#### Create some database tables using PostgreSQL. Droping old database and creating a new one for final project. Connecting as owner student"
   ]
  },
  {
   "cell_type": "markdown",
   "id": "bd9d1094-3650-43a3-8697-9a263fc4951f",
   "metadata": {},
   "source": [
    "- Using the `!dropdb` command to drop the `final_project` database if it already exists."
   ]
  },
  {
   "cell_type": "code",
   "execution_count": 1,
   "id": "70c77ddf-79b8-494b-ab67-22a8f25455f7",
   "metadata": {},
   "outputs": [],
   "source": [
    "!dropdb -U postgres final_project"
   ]
  },
  {
   "cell_type": "markdown",
   "id": "e7419f9f-439f-4be1-9380-2d98c52488e9",
   "metadata": {},
   "source": [
    "- Using the `!createdb` command to create a new PostgreSQL database named `final_project`.\n",
    "\n",
    "- The `-U postgres` flag specifies the username (`postgres`) for database creation."
   ]
  },
  {
   "cell_type": "code",
   "execution_count": 2,
   "id": "53194f4e-a428-42d0-b0c4-288c3691513d",
   "metadata": {},
   "outputs": [],
   "source": [
    "!createdb -U postgres final_project"
   ]
  },
  {
   "cell_type": "markdown",
   "id": "b5f9e286-0995-4857-b288-22cf1f031a45",
   "metadata": {},
   "source": [
    "- Using `%load_ext sql` to load the SQL extension in the Jupyter Notebook environment, enabling SQL commands to be run directly in the notebook.\n",
    "\n",
    "- Using `%sql` to establish a connection to the `final_project` database hosted on PostgreSQL with the specified credentials (username: `postgres`, no password provided)."
   ]
  },
  {
   "cell_type": "code",
   "execution_count": 3,
   "id": "5d0c3f79-0cb6-4bed-9052-fb0bc198ed94",
   "metadata": {},
   "outputs": [],
   "source": [
    "%load_ext sql"
   ]
  },
  {
   "cell_type": "markdown",
   "id": "4ad9eebc-8238-4679-b6fa-0a857f4e0d67",
   "metadata": {},
   "source": [
    "- Using `%sql` to establish a connection to the `final_project` database hosted on PostgreSQL \n",
    "- The specified credentials is (username: `postgres`, no password provided)."
   ]
  },
  {
   "cell_type": "code",
   "execution_count": 4,
   "id": "e353171f-5def-4a74-80c0-6f1c4e035088",
   "metadata": {},
   "outputs": [
    {
     "data": {
      "text/html": [
       "<span style=\"None\">Connecting to &#x27;postgresql://postgres@/final_project&#x27;</span>"
      ],
      "text/plain": [
       "Connecting to 'postgresql://postgres@/final_project'"
      ]
     },
     "metadata": {},
     "output_type": "display_data"
    }
   ],
   "source": [
    "%sql postgresql://postgres@/final_project"
   ]
  },
  {
   "cell_type": "markdown",
   "id": "2024fd92-f1e7-4857-b182-476cfe1eed50",
   "metadata": {},
   "source": [
    "## ■ Ask 1：About dataset"
   ]
  },
  {
   "cell_type": "markdown",
   "id": "2cfc7e41-34a4-4518-a89c-6eab27c8a6d9",
   "metadata": {
    "jp-MarkdownHeadingCollapsed": true
   },
   "source": [
    "#### 1-1. Identify and briefly describe your dataset: Indicators of Heart Disease\n",
    "The dataset is derived from the 2020 annual CDC Behavioral Risk Factor Surveillance System (BRFSS), which includes over 300,000 adult records, making it one of the largest and most comprehensive surveys on health behaviors in the United States. It focuses on key indicators that are associated with heart disease, such as Body Mass Index (BMI), smoking habits, alcohol consumption, physical activity, sleep duration and chronic health conditions like diabetes and asthma.\n",
    "\n",
    "This dataset not only highlights individual-level health metrics but also provides valuable demographic details such as age, sex, race and general health status, enabling in-depth analysis of heart disease trends across diverse population groups. Its scale and coverage allow for regional comparisons, which can be useful for identifying geographic patterns of heart disease prevalence and guiding localized intervention strategies.\n",
    "\n",
    "Link：https://www.kaggle.com/datasets/kamilpytlak/personal-key-indicators-of-heart-disease\n",
    "\n",
    "Questionnaire for the survey：https://www.cdc.gov/brfss/questionnaires/pdf-ques/2020-BRFSS-Questionnaire-508.pdf　"
   ]
  },
  {
   "cell_type": "markdown",
   "id": "ee7da1da-addd-45e0-8292-55fbd184bf7b",
   "metadata": {},
   "source": [
    "#### 1-2. Identify the owner of the dataset source：Kamil Pytlak"
   ]
  },
  {
   "cell_type": "markdown",
   "id": "6f530985-6df2-416e-ba39-56ad22f7eaf4",
   "metadata": {},
   "source": [
    "#### 1-3. Brief description of why the dataset is important and what appeals to you about it：\n",
    "The dataset is important because it offers comprehensive data that can be used to understand the relationship between various health behaviors and the risk of heart disease. It includes demographic information such as age, gender, race and region, all of which are critical in understanding how these factors contribute to heart disease risk across different populations. Moreover, this dataset provides insights into the impact of behavioral factors like physical activity, smoking, and alcohol consumption as well as chronic conditions like diabetes and asthma, on heart health.\n",
    "\n",
    "Its significance lies in its ability to facilitate the identification of key risk factors and trends that may inform public health policies, preventive measures, and resource allocation. The inclusion of data from over 300,000 adults allows for robust statistical analysis, making it ideal for uncovering patterns that might be overlooked in smaller datasets. Additionally, the dataset's structure, with both quantitative and categorical variables, supports a wide range of analyses, from predictive modeling to hypothesis testing, making it a valuable resource for healthcare research and decision-making."
   ]
  },
  {
   "attachments": {},
   "cell_type": "markdown",
   "id": "99bab039-1665-4b47-8cbf-b2a711d5f01f",
   "metadata": {},
   "source": [
    "#### 1-4. Describe the analytical questions you want to answer with the data：\n",
    "\n",
    "\n",
    "    ■ Impact of Demographics and General Health on Heart DiseaseExamine the role of demographic factors (e.g., sex, age, race) and general health indicators (e.g., BMI, self-reported health status) in predicting heart disease.\n",
    "\n",
    "    ■ Effect of Health Behaviors on Heart DiseaseAnalyze how health behaviors (e.g., smoking, alcohol consumption, physical activity, and sleep duration) influence the prevalence of heart disease. \n",
    "\n",
    "    ■ Impact of Other Diseases on Heart DiseaseInvestigate the relationship between chronic diseases (e.g., diabetes, asthma, kidney disease, stroke, and skin cancer) and heart disease."
   ]
  },
  {
   "attachments": {},
   "cell_type": "markdown",
   "id": "f3f7811b-56b5-4ad1-9d72-dea9e516b349",
   "metadata": {},
   "source": [
    "\n",
    "#### 1-5. Briefly describe any concerns with the data and changes you expect to overcome:\n",
    "\n",
    "- Imbalanced Data: Several Boolean variables, such as HeartDisease, Smoking, AlcoholDrinking, and Stroke, show significant imbalances. For example, the HeartDisease column has 292,422 \"False\" entries and only 27,373 \"True\" entries. This imbalance could impact any analysis or dimensional modeling, as it may lead to biased results. To address this, you may consider weighting or stratifying the data when analyzing or visualizing it, though in dimensional modeling, this concern may not be as significant.\n",
    "\n",
    "- Extreme Values: The BMI column contains extreme values, with the smallest value being 12.02 and the largest value being 94.85. These extreme values could be outliers or data entry errors. You may need to clean or cap these values to ensure they don't distort analysis. A typical approach might involve limiting the BMI values to a more reasonable range or identifying and handling outliers separately.\n",
    "\n",
    "- Skewed Distribution of Health Data: The PhysicalHealth and MentalHealth columns have a large proportion of \"0\" values, indicating no reported health problems. This could lead to a skewed distribution, making it harder to analyze meaningful differences in health status. To address this, you might consider categorizing these values into broader groups (e.g., mild, moderate, severe health issues) or focusing on the non-zero values for deeper analysis.\n",
    "\n",
    "- Ambiguous Categories: The Diabetic and GenHealth variables have categories that may be ambiguous or require further clarification. For example, Diabetic includes categories like \"No, borderline diabetes\" and \"Yes, during pregnancy,\" which could be combined or recategorized to simplify analysis. Standardizing these categories will help avoid misinterpretation during the analysis phase.\n",
    "\n",
    "- Text Data Standardization: The Sex, Race, and AgeCategory columns include text data that may not be consistent (e.g., different spellings, cases, or formatting). For instance, Sex could have variations like \"male\" and \"Male,\" which need to be standardized to ensure uniformity. Standardizing the text data (e.g., making everything lowercase) will help maintain consistency and reduce errors when merging data or analyzing the dataset."
   ]
  },
  {
   "cell_type": "markdown",
   "id": "7d07dde8-3747-4a54-9fcf-8fdccb1b8b1b",
   "metadata": {},
   "source": [
    "## Ask 2: Wrangling the data"
   ]
  },
  {
   "cell_type": "markdown",
   "id": "38100229-058c-4538-bd97-a2cd0389d2f2",
   "metadata": {},
   "source": [
    "Acquire the data, survey it and wrangle it to suitable format. "
   ]
  },
  {
   "cell_type": "markdown",
   "id": "2099ef02-4864-4879-962c-49eff3540caa",
   "metadata": {},
   "source": [
    "- Verify the current working directory to ensure we are in the right path"
   ]
  },
  {
   "cell_type": "markdown",
   "id": "c20c8967-a865-4645-9e68-0e91ca3bfa4b",
   "metadata": {},
   "source": [
    "#### 2-1. Upload the zip file containing the data to AWS: heart_2020_cleaned.zip"
   ]
  },
  {
   "cell_type": "code",
   "execution_count": 5,
   "id": "b9cb80b5-0969-4f84-a38e-c4bcc095a501",
   "metadata": {},
   "outputs": [
    {
     "name": "stdout",
     "output_type": "stream",
     "text": [
      "/home/ubuntu\n"
     ]
    }
   ],
   "source": [
    "!pwd"
   ]
  },
  {
   "cell_type": "markdown",
   "id": "1524bed7-358a-4197-9c51-7a89b8eb9632",
   "metadata": {},
   "source": [
    "#### 2-2. Check if the file named heart_2020_cleaned.zip exists in the current directory. Then Unzip it and store it in a new directory called Data.\n",
    "\n",
    "- Using the `!ls` command to list the contents of the `./Data/` directory. To verify the files present within the `Data` directory."
   ]
  },
  {
   "cell_type": "code",
   "execution_count": 21,
   "id": "ce5da679-93a9-4d42-b002-8f4cdc508194",
   "metadata": {},
   "outputs": [
    {
     "name": "stdout",
     "output_type": "stream",
     "text": [
      "heart_2020_cleaned.zip\n"
     ]
    }
   ],
   "source": [
    "!ls heart_2020_cleaned.zip"
   ]
  },
  {
   "cell_type": "markdown",
   "id": "9b26c06d-8722-4273-8cec-e38ac613a236",
   "metadata": {},
   "source": [
    "- Using the `!unzip` command to Unzip the required file.\n",
    "- Using `-o` in case there are files existing with the same name to overwrite/replace them.\n",
    "- Using `-d` to create a directory called Data to store the unziped file"
   ]
  },
  {
   "cell_type": "code",
   "execution_count": 22,
   "id": "81151005-4b21-40bc-a658-51ad6ab2cd18",
   "metadata": {},
   "outputs": [
    {
     "name": "stdout",
     "output_type": "stream",
     "text": [
      "Archive:  heart_2020_cleaned.zip\n",
      "  inflating: ./Data/heart_2020_cleaned.csv  \n"
     ]
    }
   ],
   "source": [
    "!unzip -o heart_2020_cleaned.zip -d ./Data/"
   ]
  },
  {
   "cell_type": "markdown",
   "id": "9641f706-2fba-4900-a11c-c28ef36a0982",
   "metadata": {},
   "source": [
    "- Change the current working directory to the 'Data' folder\n",
    "- %cd: A Jupyter Notebook magic command used to navigate directories\n",
    "- '/home/ubuntu/Data': The absolute path to the target directory"
   ]
  },
  {
   "cell_type": "code",
   "execution_count": 6,
   "id": "d1535625-b38c-4f16-bd42-eae73715814d",
   "metadata": {},
   "outputs": [
    {
     "name": "stdout",
     "output_type": "stream",
     "text": [
      "/home/ubuntu/Data\n"
     ]
    }
   ],
   "source": [
    "%cd /home/ubuntu/Data"
   ]
  },
  {
   "cell_type": "markdown",
   "id": "db405858-0096-45c6-abb9-7079a1ba33b4",
   "metadata": {},
   "source": [
    "Checking the csv file for any errors, such as malformed rows or incorrect delimiters, before further processing.\n",
    "\n",
    "- Using the `!csvclean` command to clean the `heart_2020_cleaned.csv` file.\n",
    "- The `-n` option is used to check the CSV file for any formatting issues or errors without making any changes to the file."
   ]
  },
  {
   "cell_type": "code",
   "execution_count": 7,
   "id": "eb4b507d-585d-4777-aec7-d85af00ec25c",
   "metadata": {},
   "outputs": [
    {
     "name": "stdout",
     "output_type": "stream",
     "text": [
      "No errors.\n"
     ]
    }
   ],
   "source": [
    "!csvclean -n heart_2020_cleaned.csv"
   ]
  },
  {
   "cell_type": "markdown",
   "id": "5e90072f-19c4-4b04-9cf4-393d4279ce81",
   "metadata": {},
   "source": [
    "- Using the `!wc` command to count the number of words, lines and characters in the unzipped `heart_2020_cleaned.csv` file.\n",
    "- Using `-l` to specify the `!wc` command to only count rows and give us an output"
   ]
  },
  {
   "cell_type": "code",
   "execution_count": 8,
   "id": "3712bef1-2307-4ac7-97ec-0a6d23541bdd",
   "metadata": {},
   "outputs": [
    {
     "name": "stdout",
     "output_type": "stream",
     "text": [
      "319796 heart_2020_cleaned.csv\n"
     ]
    }
   ],
   "source": [
    "!wc -l heart_2020_cleaned.csv"
   ]
  },
  {
   "cell_type": "markdown",
   "id": "bab0a9ff-d55b-4922-a9a3-b0a08e61ad87",
   "metadata": {},
   "source": [
    "#### 2-3. Using CSVCut to show all column names of file heart_2020_cleaned.csv.\n",
    " \n",
    "- Using the `!csvcut` command to display the column names from the CSV file.\n",
    "- Using the `-n` option to list all the column names without displaying the actual data.\n",
    "- The file `Data/heart_2020_cleaned.csv` is the file path to specify the input file."
   ]
  },
  {
   "cell_type": "code",
   "execution_count": 9,
   "id": "2b5f647f-d75a-407f-8ab5-af2740487259",
   "metadata": {},
   "outputs": [
    {
     "name": "stdout",
     "output_type": "stream",
     "text": [
      "  1: HeartDisease\n",
      "  2: BMI\n",
      "  3: Smoking\n",
      "  4: AlcoholDrinking\n",
      "  5: Stroke\n",
      "  6: PhysicalHealth\n",
      "  7: MentalHealth\n",
      "  8: DiffWalking\n",
      "  9: Sex\n",
      " 10: AgeCategory\n",
      " 11: Race\n",
      " 12: Diabetic\n",
      " 13: PhysicalActivity\n",
      " 14: GenHealth\n",
      " 15: SleepTime\n",
      " 16: Asthma\n",
      " 17: KidneyDisease\n",
      " 18: SkinCancer\n"
     ]
    }
   ],
   "source": [
    "!csvcut -n  heart_2020_cleaned.csv"
   ]
  },
  {
   "cell_type": "markdown",
   "id": "0c58dbd6-a528-405a-a3b1-518c9f8b4f5c",
   "metadata": {},
   "source": [
    "#### 2-4. Using CSVStat to find out all the details of all the attributes. Like data type, null values and other stats. \n",
    "\n",
    "- Using the `!head` command to display lines of the CSV file.\n",
    "- Using the `-n 1000000` option to specify the number of lines to display from the beginning of the file.\n",
    "- Piping the output of `head` into `csvstat` to generate summary statistics for the displayed portion of the CSV file.\n",
    "- The file `Data/data.csv` is the file path to specify the input file."
   ]
  },
  {
   "cell_type": "code",
   "execution_count": 10,
   "id": "0f4f44fe-d531-4b40-a4d5-b7e3201ca56f",
   "metadata": {},
   "outputs": [
    {
     "name": "stdout",
     "output_type": "stream",
     "text": [
      "  1. \"HeartDisease\"\n",
      "\n",
      "\tType of data:          Boolean\n",
      "\tContains null values:  False\n",
      "\tNon-null values:       319795\n",
      "\tUnique values:         2\n",
      "\tMost common values:    False (292422x)\n",
      "\t                       True (27373x)\n",
      "\n",
      "  2. \"BMI\"\n",
      "\n",
      "\tType of data:          Number\n",
      "\tContains null values:  False\n",
      "\tNon-null values:       319795\n",
      "\tUnique values:         3604\n",
      "\tSmallest value:        12.02\n",
      "\tLargest value:         94.85\n",
      "\tSum:                   9058320.82\n",
      "\tMean:                  28.325\n",
      "\tMedian:                27.34\n",
      "\tStDev:                 6.356\n",
      "\tMost decimal places:   2\n",
      "\tMost common values:    26.63 (3762x)\n",
      "\t                       27.46 (2767x)\n",
      "\t                       27.44 (2723x)\n",
      "\t                       24.41 (2696x)\n",
      "\t                       27.12 (2525x)\n",
      "\n",
      "  3. \"Smoking\"\n",
      "\n",
      "\tType of data:          Boolean\n",
      "\tContains null values:  False\n",
      "\tNon-null values:       319795\n",
      "\tUnique values:         2\n",
      "\tMost common values:    False (187887x)\n",
      "\t                       True (131908x)\n",
      "\n",
      "  4. \"AlcoholDrinking\"\n",
      "\n",
      "\tType of data:          Boolean\n",
      "\tContains null values:  False\n",
      "\tNon-null values:       319795\n",
      "\tUnique values:         2\n",
      "\tMost common values:    False (298018x)\n",
      "\t                       True (21777x)\n",
      "\n",
      "  5. \"Stroke\"\n",
      "\n",
      "\tType of data:          Boolean\n",
      "\tContains null values:  False\n",
      "\tNon-null values:       319795\n",
      "\tUnique values:         2\n",
      "\tMost common values:    False (307726x)\n",
      "\t                       True (12069x)\n",
      "\n",
      "  6. \"PhysicalHealth\"\n",
      "\n",
      "\tType of data:          Number\n",
      "\tContains null values:  False\n",
      "\tNon-null values:       319795\n",
      "\tUnique values:         31\n",
      "\tSmallest value:        0\n",
      "\tLargest value:         30\n",
      "\tSum:                   1078256\n",
      "\tMean:                  3.372\n",
      "\tMedian:                0\n",
      "\tStDev:                 7.951\n",
      "\tMost decimal places:   0\n",
      "\tMost common values:    0 (226589x)\n",
      "\t                       30 (19509x)\n",
      "\t                       2 (14880x)\n",
      "\t                       1 (10489x)\n",
      "\t                       3 (8617x)\n",
      "\n",
      "  7. \"MentalHealth\"\n",
      "\n",
      "\tType of data:          Number\n",
      "\tContains null values:  False\n",
      "\tNon-null values:       319795\n",
      "\tUnique values:         31\n",
      "\tSmallest value:        0\n",
      "\tLargest value:         30\n",
      "\tSum:                   1246678\n",
      "\tMean:                  3.898\n",
      "\tMedian:                0\n",
      "\tStDev:                 7.955\n",
      "\tMost decimal places:   0\n",
      "\tMost common values:    0 (205401x)\n",
      "\t                       30 (17373x)\n",
      "\t                       2 (16495x)\n",
      "\t                       5 (14149x)\n",
      "\t                       10 (10513x)\n",
      "\n",
      "  8. \"DiffWalking\"\n",
      "\n",
      "\tType of data:          Boolean\n",
      "\tContains null values:  False\n",
      "\tNon-null values:       319795\n",
      "\tUnique values:         2\n",
      "\tMost common values:    False (275385x)\n",
      "\t                       True (44410x)\n",
      "\n",
      "  9. \"Sex\"\n",
      "\n",
      "\tType of data:          Text\n",
      "\tContains null values:  False\n",
      "\tNon-null values:       319795\n",
      "\tUnique values:         2\n",
      "\tLongest value:         6 characters\n",
      "\tMost common values:    Female (167805x)\n",
      "\t                       Male (151990x)\n",
      "\n",
      " 10. \"AgeCategory\"\n",
      "\n",
      "\tType of data:          Text\n",
      "\tContains null values:  False\n",
      "\tNon-null values:       319795\n",
      "\tUnique values:         13\n",
      "\tLongest value:         11 characters\n",
      "\tMost common values:    65-69 (34151x)\n",
      "\t                       60-64 (33686x)\n",
      "\t                       70-74 (31065x)\n",
      "\t                       55-59 (29757x)\n",
      "\t                       50-54 (25382x)\n",
      "\n",
      " 11. \"Race\"\n",
      "\n",
      "\tType of data:          Text\n",
      "\tContains null values:  False\n",
      "\tNon-null values:       319795\n",
      "\tUnique values:         6\n",
      "\tLongest value:         30 characters\n",
      "\tMost common values:    White (245212x)\n",
      "\t                       Hispanic (27446x)\n",
      "\t                       Black (22939x)\n",
      "\t                       Other (10928x)\n",
      "\t                       Asian (8068x)\n",
      "\n",
      " 12. \"Diabetic\"\n",
      "\n",
      "\tType of data:          Text\n",
      "\tContains null values:  False\n",
      "\tNon-null values:       319795\n",
      "\tUnique values:         4\n",
      "\tLongest value:         23 characters\n",
      "\tMost common values:    No (269653x)\n",
      "\t                       Yes (40802x)\n",
      "\t                       No, borderline diabetes (6781x)\n",
      "\t                       Yes (during pregnancy) (2559x)\n",
      "\n",
      " 13. \"PhysicalActivity\"\n",
      "\n",
      "\tType of data:          Boolean\n",
      "\tContains null values:  False\n",
      "\tNon-null values:       319795\n",
      "\tUnique values:         2\n",
      "\tMost common values:    True (247957x)\n",
      "\t                       False (71838x)\n",
      "\n",
      " 14. \"GenHealth\"\n",
      "\n",
      "\tType of data:          Text\n",
      "\tContains null values:  False\n",
      "\tNon-null values:       319795\n",
      "\tUnique values:         5\n",
      "\tLongest value:         9 characters\n",
      "\tMost common values:    Very good (113858x)\n",
      "\t                       Good (93129x)\n",
      "\t                       Excellent (66842x)\n",
      "\t                       Fair (34677x)\n",
      "\t                       Poor (11289x)\n",
      "\n",
      " 15. \"SleepTime\"\n",
      "\n",
      "\tType of data:          Number\n",
      "\tContains null values:  False\n",
      "\tNon-null values:       319795\n",
      "\tUnique values:         24\n",
      "\tSmallest value:        1\n",
      "\tLargest value:         24\n",
      "\tSum:                   2269609\n",
      "\tMean:                  7.097\n",
      "\tMedian:                7\n",
      "\tStDev:                 1.436\n",
      "\tMost decimal places:   0\n",
      "\tMost common values:    7 (97751x)\n",
      "\t                       8 (97602x)\n",
      "\t                       6 (66721x)\n",
      "\t                       5 (19184x)\n",
      "\t                       9 (16041x)\n",
      "\n",
      " 16. \"Asthma\"\n",
      "\n",
      "\tType of data:          Boolean\n",
      "\tContains null values:  False\n",
      "\tNon-null values:       319795\n",
      "\tUnique values:         2\n",
      "\tMost common values:    False (276923x)\n",
      "\t                       True (42872x)\n",
      "\n",
      " 17. \"KidneyDisease\"\n",
      "\n",
      "\tType of data:          Boolean\n",
      "\tContains null values:  False\n",
      "\tNon-null values:       319795\n",
      "\tUnique values:         2\n",
      "\tMost common values:    False (308016x)\n",
      "\t                       True (11779x)\n",
      "\n",
      " 18. \"SkinCancer\"\n",
      "\n",
      "\tType of data:          Boolean\n",
      "\tContains null values:  False\n",
      "\tNon-null values:       319795\n",
      "\tUnique values:         2\n",
      "\tMost common values:    False (289976x)\n",
      "\t                       True (29819x)\n",
      "\n",
      "Row count: 319795\n"
     ]
    }
   ],
   "source": [
    "!head -n 1000000 heart_2020_cleaned.csv | csvstat"
   ]
  },
  {
   "cell_type": "markdown",
   "id": "0e7aa911-734c-4690-9d26-043c0a49ccc5",
   "metadata": {},
   "source": [
    "<p style=\"color:red;\">Based on these values, I expect we can work with the following:"
   ]
  },
  {
   "cell_type": "markdown",
   "id": "7551bd4e-4f02-41f8-ae46-b71011bb603f",
   "metadata": {},
   "source": [
    "#### 2-5. Create Table and Import"
   ]
  },
  {
   "cell_type": "markdown",
   "id": "ee0b58cb-16c2-43e6-9150-aaae2786d506",
   "metadata": {},
   "source": [
    "- Using `%%sql` to execute SQL commands directly within the Jupyter Notebook.\n",
    "- The `DROP TABLE IF EXISTS heartdisease;` command ensures that if the `heartdisease` table already exists, it will be deleted before creating a new one.\n",
    "- The `CREATE TABLE` command creates a new table called `heartdisease` with the specified columns.\n",
    "- Each column is defined with a specific data type and a `NOT NULL` constraint, meaning values for these columns must be provided.\n",
    "  - For example, `HeartDisease` is a BOOLEAN type, `BMI` is a DECIMAL type with 5 digits and 2 decimal places, and `Sex` is a VARCHAR with a length of 10 characters.\n",
    "- The table includes various health-related attributes, such as `HeartDisease`, `Smoking`, `PhysicalHealth`, `Sex`, and `AgeCategory`, among others."
   ]
  },
  {
   "cell_type": "code",
   "execution_count": 11,
   "id": "18c1c6c8-1e72-4f0f-b698-cc580caa5190",
   "metadata": {},
   "outputs": [
    {
     "data": {
      "text/html": [
       "<span style=\"None\">Running query in &#x27;postgresql://postgres@/final_project&#x27;</span>"
      ],
      "text/plain": [
       "Running query in 'postgresql://postgres@/final_project'"
      ]
     },
     "metadata": {},
     "output_type": "display_data"
    },
    {
     "data": {
      "text/html": [
       "<table>\n",
       "    <thead>\n",
       "        <tr>\n",
       "        </tr>\n",
       "    </thead>\n",
       "    <tbody>\n",
       "    </tbody>\n",
       "</table>"
      ],
      "text/plain": [
       "++\n",
       "||\n",
       "++\n",
       "++"
      ]
     },
     "execution_count": 11,
     "metadata": {},
     "output_type": "execute_result"
    }
   ],
   "source": [
    "%%sql\n",
    "DROP TABLE IF EXISTS heartdisease;\n",
    "\n",
    "CREATE TABLE heartdisease (\n",
    "    HeartDisease BOOLEAN NOT NULL,     \n",
    "    BMI DECIMAL(5,2) NOT NULL,       \n",
    "    Smoking BOOLEAN NOT NULL,           \n",
    "    AlcoholDrinking BOOLEAN NOT NULL,    \n",
    "    Stroke BOOLEAN NOT NULL,           \n",
    "    PhysicalHealth FLOAT NOT NULL,    \n",
    "    MentalHealth FLOAT NOT NULL,     \n",
    "    DiffWalking BOOLEAN NOT NULL,        \n",
    "    Sex VARCHAR(10) NOT NULL,           \n",
    "    AgeCategory VARCHAR(20) NOT NULL,    \n",
    "    Race VARCHAR(30) NOT NULL,           \n",
    "    Diabetic VARCHAR(50) NOT NULL,       \n",
    "    PhysicalActivity BOOLEAN NOT NULL,   \n",
    "    GenHealth VARCHAR(20) NOT NULL,      \n",
    "    SleepTime FLOAT NOT NULL,         \n",
    "    Asthma BOOLEAN NOT NULL,             \n",
    "    KidneyDisease BOOLEAN NOT NULL,     \n",
    "    SkinCancer BOOLEAN NOT NULL        \n",
    ");"
   ]
  },
  {
   "cell_type": "code",
   "execution_count": 12,
   "id": "28af1c89-0356-4b73-9af5-74691763c667",
   "metadata": {},
   "outputs": [
    {
     "name": "stdout",
     "output_type": "stream",
     "text": [
      "/home/ubuntu/Data\n"
     ]
    }
   ],
   "source": [
    "!pwd"
   ]
  },
  {
   "cell_type": "code",
   "execution_count": 10,
   "id": "e1e29d1c-9086-4e80-ae71-e14d535bea8e",
   "metadata": {},
   "outputs": [],
   "source": [
    "!chmod guo+r /home/ubuntu/Data/heart_2020_cleaned.csv"
   ]
  },
  {
   "cell_type": "code",
   "execution_count": 13,
   "id": "65f2e68a-d750-4fff-a0ca-b77ac4f9f972",
   "metadata": {},
   "outputs": [
    {
     "name": "stdout",
     "output_type": "stream",
     "text": [
      "HeartDisease,BMI,Smoking,AlcoholDrinking,Stroke,PhysicalHealth,MentalHealth,DiffWalking,Sex,AgeCategory,Race,Diabetic,PhysicalActivity,GenHealth,SleepTime,Asthma,KidneyDisease,SkinCancer\n",
      "No,16.6,Yes,No,No,3.0,30.0,No,Female,55-59,White,Yes,Yes,Very good,5.0,Yes,No,Yes\n",
      "No,20.34,No,No,Yes,0.0,0.0,No,Female,80 or older,White,No,Yes,Very good,7.0,No,No,No\n",
      "No,26.58,Yes,No,No,20.0,30.0,No,Male,65-69,White,Yes,Yes,Fair,8.0,Yes,No,No\n",
      "No,24.21,No,No,No,0.0,0.0,No,Female,75-79,White,No,No,Good,6.0,No,No,Yes\n",
      "No,23.71,No,No,No,28.0,0.0,Yes,Female,40-44,White,No,Yes,Very good,8.0,No,No,No\n",
      "Yes,28.87,Yes,No,No,6.0,0.0,Yes,Female,75-79,Black,No,No,Fair,12.0,No,No,No\n",
      "No,21.63,No,No,No,15.0,0.0,No,Female,70-74,White,No,Yes,Fair,4.0,Yes,No,Yes\n",
      "No,31.64,Yes,No,No,5.0,0.0,Yes,Female,80 or older,White,Yes,No,Good,9.0,Yes,No,No\n",
      "No,26.45,No,No,No,0.0,0.0,No,Female,80 or older,White,\"No, borderline diabetes\",No,Fair,5.0,No,Yes,No\n"
     ]
    }
   ],
   "source": [
    "!head heart_2020_cleaned.csv"
   ]
  },
  {
   "cell_type": "markdown",
   "id": "6f03078e-1169-408e-9e37-ab797a9ec8ae",
   "metadata": {},
   "source": [
    "Load the data directly using `COPY` command.  Note that this **requires** the use of an absolute path, so adjust it to the location:\n",
    "\n",
    "- Using `%%sql` to execute SQL commands directly within the Jupyter Notebook.\n",
    "- The `COPY` command loads data into the `heartdisease` table from a CSV file located at `/home/ubuntu/Data/heart_2020_cleaned.csv`.\n",
    "- The `CSV` option specifies that the data being loaded is in CSV format.\n",
    "- The `HEADER` option indicates that the first row of the CSV file contains column headers, which should be used to map the data to the table's columns."
   ]
  },
  {
   "cell_type": "code",
   "execution_count": 14,
   "id": "40cd34a1-a73d-49a7-bf50-958c620184d0",
   "metadata": {},
   "outputs": [
    {
     "data": {
      "text/html": [
       "<span style=\"None\">Running query in &#x27;postgresql://postgres@/final_project&#x27;</span>"
      ],
      "text/plain": [
       "Running query in 'postgresql://postgres@/final_project'"
      ]
     },
     "metadata": {},
     "output_type": "display_data"
    },
    {
     "data": {
      "text/html": [
       "<span style=\"color: green\">319795 rows affected.</span>"
      ],
      "text/plain": [
       "319795 rows affected."
      ]
     },
     "metadata": {},
     "output_type": "display_data"
    },
    {
     "data": {
      "text/html": [
       "<table>\n",
       "    <thead>\n",
       "        <tr>\n",
       "        </tr>\n",
       "    </thead>\n",
       "    <tbody>\n",
       "    </tbody>\n",
       "</table>"
      ],
      "text/plain": [
       "++\n",
       "||\n",
       "++\n",
       "++"
      ]
     },
     "execution_count": 14,
     "metadata": {},
     "output_type": "execute_result"
    }
   ],
   "source": [
    "%%sql\n",
    "\n",
    "COPY heartdisease FROM  '/home/ubuntu/Data/heart_2020_cleaned.csv'\n",
    "CSV\n",
    "\n",
    "HEADER;"
   ]
  },
  {
   "cell_type": "markdown",
   "id": "f588e894-2f47-4767-b300-354c682058f2",
   "metadata": {},
   "source": [
    "#### 2-6. Ensure that the fact table contains the right number of records \n",
    "\n",
    "- Using `%%sql` to execute SQL commands directly within the Jupyter Notebook.\n",
    "- The `SELECT COUNT(*)` query is used to count the total number of records (rows) in the `heartdisease` table."
   ]
  },
  {
   "cell_type": "code",
   "execution_count": 15,
   "id": "126a02db-2907-456e-99c8-f655c5730654",
   "metadata": {},
   "outputs": [
    {
     "data": {
      "text/html": [
       "<span style=\"None\">Running query in &#x27;postgresql://postgres@/final_project&#x27;</span>"
      ],
      "text/plain": [
       "Running query in 'postgresql://postgres@/final_project'"
      ]
     },
     "metadata": {},
     "output_type": "display_data"
    },
    {
     "data": {
      "text/html": [
       "<span style=\"color: green\">1 rows affected.</span>"
      ],
      "text/plain": [
       "1 rows affected."
      ]
     },
     "metadata": {},
     "output_type": "display_data"
    },
    {
     "data": {
      "text/html": [
       "<table>\n",
       "    <thead>\n",
       "        <tr>\n",
       "            <th>count</th>\n",
       "        </tr>\n",
       "    </thead>\n",
       "    <tbody>\n",
       "        <tr>\n",
       "            <td>319795</td>\n",
       "        </tr>\n",
       "    </tbody>\n",
       "</table>"
      ],
      "text/plain": [
       "+--------+\n",
       "| count  |\n",
       "+--------+\n",
       "| 319795 |\n",
       "+--------+"
      ]
     },
     "execution_count": 15,
     "metadata": {},
     "output_type": "execute_result"
    }
   ],
   "source": [
    "%%sql\n",
    "SELECT COUNT(*) FROM heartdisease;"
   ]
  },
  {
   "cell_type": "markdown",
   "id": "4ad399df-1e41-41df-948e-1f384ffc4978",
   "metadata": {},
   "source": [
    "- Using `%%sql` to execute SQL commands directly within the Jupyter Notebook.\n",
    "- The `SELECT *` query retrieves all columns from the `heartdisease` table.\n",
    "- The `LIMIT 10` clause restricts the result to the first 10 rows of the table, allowing for a quick preview of the data without displaying the entire dataset."
   ]
  },
  {
   "cell_type": "code",
   "execution_count": 16,
   "id": "02fedcc7-d3ca-44de-a0da-d87b5b43ed01",
   "metadata": {},
   "outputs": [
    {
     "data": {
      "text/html": [
       "<span style=\"None\">Running query in &#x27;postgresql://postgres@/final_project&#x27;</span>"
      ],
      "text/plain": [
       "Running query in 'postgresql://postgres@/final_project'"
      ]
     },
     "metadata": {},
     "output_type": "display_data"
    },
    {
     "data": {
      "text/html": [
       "<span style=\"color: green\">10 rows affected.</span>"
      ],
      "text/plain": [
       "10 rows affected."
      ]
     },
     "metadata": {},
     "output_type": "display_data"
    },
    {
     "data": {
      "text/html": [
       "<table>\n",
       "    <thead>\n",
       "        <tr>\n",
       "            <th>heartdisease</th>\n",
       "            <th>bmi</th>\n",
       "            <th>smoking</th>\n",
       "            <th>alcoholdrinking</th>\n",
       "            <th>stroke</th>\n",
       "            <th>physicalhealth</th>\n",
       "            <th>mentalhealth</th>\n",
       "            <th>diffwalking</th>\n",
       "            <th>sex</th>\n",
       "            <th>agecategory</th>\n",
       "            <th>race</th>\n",
       "            <th>diabetic</th>\n",
       "            <th>physicalactivity</th>\n",
       "            <th>genhealth</th>\n",
       "            <th>sleeptime</th>\n",
       "            <th>asthma</th>\n",
       "            <th>kidneydisease</th>\n",
       "            <th>skincancer</th>\n",
       "        </tr>\n",
       "    </thead>\n",
       "    <tbody>\n",
       "        <tr>\n",
       "            <td>False</td>\n",
       "            <td>16.60</td>\n",
       "            <td>True</td>\n",
       "            <td>False</td>\n",
       "            <td>False</td>\n",
       "            <td>3.0</td>\n",
       "            <td>30.0</td>\n",
       "            <td>False</td>\n",
       "            <td>Female</td>\n",
       "            <td>55-59</td>\n",
       "            <td>White</td>\n",
       "            <td>Yes</td>\n",
       "            <td>True</td>\n",
       "            <td>Very good</td>\n",
       "            <td>5.0</td>\n",
       "            <td>True</td>\n",
       "            <td>False</td>\n",
       "            <td>True</td>\n",
       "        </tr>\n",
       "        <tr>\n",
       "            <td>False</td>\n",
       "            <td>20.34</td>\n",
       "            <td>False</td>\n",
       "            <td>False</td>\n",
       "            <td>True</td>\n",
       "            <td>0.0</td>\n",
       "            <td>0.0</td>\n",
       "            <td>False</td>\n",
       "            <td>Female</td>\n",
       "            <td>80 or older</td>\n",
       "            <td>White</td>\n",
       "            <td>No</td>\n",
       "            <td>True</td>\n",
       "            <td>Very good</td>\n",
       "            <td>7.0</td>\n",
       "            <td>False</td>\n",
       "            <td>False</td>\n",
       "            <td>False</td>\n",
       "        </tr>\n",
       "        <tr>\n",
       "            <td>False</td>\n",
       "            <td>26.58</td>\n",
       "            <td>True</td>\n",
       "            <td>False</td>\n",
       "            <td>False</td>\n",
       "            <td>20.0</td>\n",
       "            <td>30.0</td>\n",
       "            <td>False</td>\n",
       "            <td>Male</td>\n",
       "            <td>65-69</td>\n",
       "            <td>White</td>\n",
       "            <td>Yes</td>\n",
       "            <td>True</td>\n",
       "            <td>Fair</td>\n",
       "            <td>8.0</td>\n",
       "            <td>True</td>\n",
       "            <td>False</td>\n",
       "            <td>False</td>\n",
       "        </tr>\n",
       "        <tr>\n",
       "            <td>False</td>\n",
       "            <td>24.21</td>\n",
       "            <td>False</td>\n",
       "            <td>False</td>\n",
       "            <td>False</td>\n",
       "            <td>0.0</td>\n",
       "            <td>0.0</td>\n",
       "            <td>False</td>\n",
       "            <td>Female</td>\n",
       "            <td>75-79</td>\n",
       "            <td>White</td>\n",
       "            <td>No</td>\n",
       "            <td>False</td>\n",
       "            <td>Good</td>\n",
       "            <td>6.0</td>\n",
       "            <td>False</td>\n",
       "            <td>False</td>\n",
       "            <td>True</td>\n",
       "        </tr>\n",
       "        <tr>\n",
       "            <td>False</td>\n",
       "            <td>23.71</td>\n",
       "            <td>False</td>\n",
       "            <td>False</td>\n",
       "            <td>False</td>\n",
       "            <td>28.0</td>\n",
       "            <td>0.0</td>\n",
       "            <td>True</td>\n",
       "            <td>Female</td>\n",
       "            <td>40-44</td>\n",
       "            <td>White</td>\n",
       "            <td>No</td>\n",
       "            <td>True</td>\n",
       "            <td>Very good</td>\n",
       "            <td>8.0</td>\n",
       "            <td>False</td>\n",
       "            <td>False</td>\n",
       "            <td>False</td>\n",
       "        </tr>\n",
       "        <tr>\n",
       "            <td>True</td>\n",
       "            <td>28.87</td>\n",
       "            <td>True</td>\n",
       "            <td>False</td>\n",
       "            <td>False</td>\n",
       "            <td>6.0</td>\n",
       "            <td>0.0</td>\n",
       "            <td>True</td>\n",
       "            <td>Female</td>\n",
       "            <td>75-79</td>\n",
       "            <td>Black</td>\n",
       "            <td>No</td>\n",
       "            <td>False</td>\n",
       "            <td>Fair</td>\n",
       "            <td>12.0</td>\n",
       "            <td>False</td>\n",
       "            <td>False</td>\n",
       "            <td>False</td>\n",
       "        </tr>\n",
       "        <tr>\n",
       "            <td>False</td>\n",
       "            <td>21.63</td>\n",
       "            <td>False</td>\n",
       "            <td>False</td>\n",
       "            <td>False</td>\n",
       "            <td>15.0</td>\n",
       "            <td>0.0</td>\n",
       "            <td>False</td>\n",
       "            <td>Female</td>\n",
       "            <td>70-74</td>\n",
       "            <td>White</td>\n",
       "            <td>No</td>\n",
       "            <td>True</td>\n",
       "            <td>Fair</td>\n",
       "            <td>4.0</td>\n",
       "            <td>True</td>\n",
       "            <td>False</td>\n",
       "            <td>True</td>\n",
       "        </tr>\n",
       "        <tr>\n",
       "            <td>False</td>\n",
       "            <td>31.64</td>\n",
       "            <td>True</td>\n",
       "            <td>False</td>\n",
       "            <td>False</td>\n",
       "            <td>5.0</td>\n",
       "            <td>0.0</td>\n",
       "            <td>True</td>\n",
       "            <td>Female</td>\n",
       "            <td>80 or older</td>\n",
       "            <td>White</td>\n",
       "            <td>Yes</td>\n",
       "            <td>False</td>\n",
       "            <td>Good</td>\n",
       "            <td>9.0</td>\n",
       "            <td>True</td>\n",
       "            <td>False</td>\n",
       "            <td>False</td>\n",
       "        </tr>\n",
       "        <tr>\n",
       "            <td>False</td>\n",
       "            <td>26.45</td>\n",
       "            <td>False</td>\n",
       "            <td>False</td>\n",
       "            <td>False</td>\n",
       "            <td>0.0</td>\n",
       "            <td>0.0</td>\n",
       "            <td>False</td>\n",
       "            <td>Female</td>\n",
       "            <td>80 or older</td>\n",
       "            <td>White</td>\n",
       "            <td>No, borderline diabetes</td>\n",
       "            <td>False</td>\n",
       "            <td>Fair</td>\n",
       "            <td>5.0</td>\n",
       "            <td>False</td>\n",
       "            <td>True</td>\n",
       "            <td>False</td>\n",
       "        </tr>\n",
       "        <tr>\n",
       "            <td>False</td>\n",
       "            <td>40.69</td>\n",
       "            <td>False</td>\n",
       "            <td>False</td>\n",
       "            <td>False</td>\n",
       "            <td>0.0</td>\n",
       "            <td>0.0</td>\n",
       "            <td>True</td>\n",
       "            <td>Male</td>\n",
       "            <td>65-69</td>\n",
       "            <td>White</td>\n",
       "            <td>No</td>\n",
       "            <td>True</td>\n",
       "            <td>Good</td>\n",
       "            <td>10.0</td>\n",
       "            <td>False</td>\n",
       "            <td>False</td>\n",
       "            <td>False</td>\n",
       "        </tr>\n",
       "    </tbody>\n",
       "</table>\n",
       "<span style=\"font-style:italic;text-align:center;\">Truncated to <a href=\"https://jupysql.ploomber.io/en/latest/api/configuration.html#displaylimit\">displaylimit</a> of 10.</span>"
      ],
      "text/plain": [
       "+--------------+-------+---------+-----------------+--------+----------------+--------------+-------------+--------+-------------+-------+-------------------------+------------------+-----------+-----------+--------+---------------+------------+\n",
       "| heartdisease |  bmi  | smoking | alcoholdrinking | stroke | physicalhealth | mentalhealth | diffwalking |  sex   | agecategory |  race |         diabetic        | physicalactivity | genhealth | sleeptime | asthma | kidneydisease | skincancer |\n",
       "+--------------+-------+---------+-----------------+--------+----------------+--------------+-------------+--------+-------------+-------+-------------------------+------------------+-----------+-----------+--------+---------------+------------+\n",
       "|    False     | 16.60 |   True  |      False      | False  |      3.0       |     30.0     |    False    | Female |    55-59    | White |           Yes           |       True       | Very good |    5.0    |  True  |     False     |    True    |\n",
       "|    False     | 20.34 |  False  |      False      |  True  |      0.0       |     0.0      |    False    | Female | 80 or older | White |            No           |       True       | Very good |    7.0    | False  |     False     |   False    |\n",
       "|    False     | 26.58 |   True  |      False      | False  |      20.0      |     30.0     |    False    |  Male  |    65-69    | White |           Yes           |       True       |    Fair   |    8.0    |  True  |     False     |   False    |\n",
       "|    False     | 24.21 |  False  |      False      | False  |      0.0       |     0.0      |    False    | Female |    75-79    | White |            No           |      False       |    Good   |    6.0    | False  |     False     |    True    |\n",
       "|    False     | 23.71 |  False  |      False      | False  |      28.0      |     0.0      |     True    | Female |    40-44    | White |            No           |       True       | Very good |    8.0    | False  |     False     |   False    |\n",
       "|     True     | 28.87 |   True  |      False      | False  |      6.0       |     0.0      |     True    | Female |    75-79    | Black |            No           |      False       |    Fair   |    12.0   | False  |     False     |   False    |\n",
       "|    False     | 21.63 |  False  |      False      | False  |      15.0      |     0.0      |    False    | Female |    70-74    | White |            No           |       True       |    Fair   |    4.0    |  True  |     False     |    True    |\n",
       "|    False     | 31.64 |   True  |      False      | False  |      5.0       |     0.0      |     True    | Female | 80 or older | White |           Yes           |      False       |    Good   |    9.0    |  True  |     False     |   False    |\n",
       "|    False     | 26.45 |  False  |      False      | False  |      0.0       |     0.0      |    False    | Female | 80 or older | White | No, borderline diabetes |      False       |    Fair   |    5.0    | False  |      True     |   False    |\n",
       "|    False     | 40.69 |  False  |      False      | False  |      0.0       |     0.0      |     True    |  Male  |    65-69    | White |            No           |       True       |    Good   |    10.0   | False  |     False     |   False    |\n",
       "+--------------+-------+---------+-----------------+--------+----------------+--------------+-------------+--------+-------------+-------+-------------------------+------------------+-----------+-----------+--------+---------------+------------+\n",
       "Truncated to displaylimit of 10."
      ]
     },
     "execution_count": 16,
     "metadata": {},
     "output_type": "execute_result"
    }
   ],
   "source": [
    "%%sql\n",
    "SELECT * FROM heartdisease\n",
    "LIMIT 10"
   ]
  },
  {
   "cell_type": "markdown",
   "id": "94c71f4b-feb6-47b2-9255-78a3b40cb6e9",
   "metadata": {},
   "source": [
    "#### 2-7. Data Wrangling\n",
    "\n",
    "##### Converting the mentalhealth, physicalhealth and sleeptime columns in the heartdisease table from FLOAT to INTEGER data type for consistency and clarity.\n",
    "\n",
    "##### Why are we doing this?:\n",
    "- These columns represent whole-number values (e.g., count of days), so INTEGER is the appropriate data type.\n",
    "- Storing such data as FLOAT is unnecessary, as it increases storage space and can lead to confusion (e.g., seeing 3.0 instead of 3).\n",
    "- Converting to INTEGER improves data integrity, reduces potential errors, and ensures cleaner outputs for analysis and visualization.\n",
    "- The `ALTER TABLE` command is used to modify the column data type.\n",
    "- The `USING` clause ensures the correct conversion of data while avoiding errors."
   ]
  },
  {
   "cell_type": "code",
   "execution_count": 17,
   "id": "71c56682-5feb-47c0-9617-d5ce051aee22",
   "metadata": {},
   "outputs": [
    {
     "data": {
      "text/html": [
       "<span style=\"None\">Running query in &#x27;postgresql://postgres@/final_project&#x27;</span>"
      ],
      "text/plain": [
       "Running query in 'postgresql://postgres@/final_project'"
      ]
     },
     "metadata": {},
     "output_type": "display_data"
    },
    {
     "data": {
      "text/html": [
       "<table>\n",
       "    <thead>\n",
       "        <tr>\n",
       "        </tr>\n",
       "    </thead>\n",
       "    <tbody>\n",
       "    </tbody>\n",
       "</table>"
      ],
      "text/plain": [
       "++\n",
       "||\n",
       "++\n",
       "++"
      ]
     },
     "execution_count": 17,
     "metadata": {},
     "output_type": "execute_result"
    }
   ],
   "source": [
    "%%sql\n",
    "ALTER TABLE heartdisease\n",
    "ALTER COLUMN mentalhealth TYPE INTEGER USING mentalhealth::INTEGER;\n",
    "\n",
    "ALTER TABLE heartdisease\n",
    "ALTER COLUMN physicalhealth TYPE INTEGER USING physicalhealth::INTEGER;\n",
    "\n",
    "ALTER TABLE heartdisease\n",
    "ALTER COLUMN sleeptime TYPE INTEGER USING sleeptime::INTEGER;"
   ]
  },
  {
   "cell_type": "markdown",
   "id": "83856266-63cd-4ee8-b518-f5ac5870150c",
   "metadata": {},
   "source": [
    "- Query to check the updated values of physicalhealth, mentalhealth and sleeptime\n",
    "- Using `%%sql` to execute SQL commands directly within the Jupyter Notebook.\n",
    "- The `SELECT *` query retrieves all columns from the `heartdisease` table.\n",
    "- The `LIMIT 10` clause restricts the result to the first 10 rows of the table, allowing for a quick preview of the data without displaying the entire dataset.\n",
    "- The data in mentalhealth, physicalhealth and sleeptime column have been changed to integers"
   ]
  },
  {
   "cell_type": "code",
   "execution_count": 18,
   "id": "93866a1b-da44-4d5a-8cb7-f6776afe46ad",
   "metadata": {},
   "outputs": [
    {
     "data": {
      "text/html": [
       "<span style=\"None\">Running query in &#x27;postgresql://postgres@/final_project&#x27;</span>"
      ],
      "text/plain": [
       "Running query in 'postgresql://postgres@/final_project'"
      ]
     },
     "metadata": {},
     "output_type": "display_data"
    },
    {
     "data": {
      "text/html": [
       "<span style=\"color: green\">10 rows affected.</span>"
      ],
      "text/plain": [
       "10 rows affected."
      ]
     },
     "metadata": {},
     "output_type": "display_data"
    },
    {
     "data": {
      "text/html": [
       "<table>\n",
       "    <thead>\n",
       "        <tr>\n",
       "            <th>heartdisease</th>\n",
       "            <th>bmi</th>\n",
       "            <th>smoking</th>\n",
       "            <th>alcoholdrinking</th>\n",
       "            <th>stroke</th>\n",
       "            <th>physicalhealth</th>\n",
       "            <th>mentalhealth</th>\n",
       "            <th>diffwalking</th>\n",
       "            <th>sex</th>\n",
       "            <th>agecategory</th>\n",
       "            <th>race</th>\n",
       "            <th>diabetic</th>\n",
       "            <th>physicalactivity</th>\n",
       "            <th>genhealth</th>\n",
       "            <th>sleeptime</th>\n",
       "            <th>asthma</th>\n",
       "            <th>kidneydisease</th>\n",
       "            <th>skincancer</th>\n",
       "        </tr>\n",
       "    </thead>\n",
       "    <tbody>\n",
       "        <tr>\n",
       "            <td>False</td>\n",
       "            <td>16.60</td>\n",
       "            <td>True</td>\n",
       "            <td>False</td>\n",
       "            <td>False</td>\n",
       "            <td>3</td>\n",
       "            <td>30</td>\n",
       "            <td>False</td>\n",
       "            <td>Female</td>\n",
       "            <td>55-59</td>\n",
       "            <td>White</td>\n",
       "            <td>Yes</td>\n",
       "            <td>True</td>\n",
       "            <td>Very good</td>\n",
       "            <td>5</td>\n",
       "            <td>True</td>\n",
       "            <td>False</td>\n",
       "            <td>True</td>\n",
       "        </tr>\n",
       "        <tr>\n",
       "            <td>False</td>\n",
       "            <td>20.34</td>\n",
       "            <td>False</td>\n",
       "            <td>False</td>\n",
       "            <td>True</td>\n",
       "            <td>0</td>\n",
       "            <td>0</td>\n",
       "            <td>False</td>\n",
       "            <td>Female</td>\n",
       "            <td>80 or older</td>\n",
       "            <td>White</td>\n",
       "            <td>No</td>\n",
       "            <td>True</td>\n",
       "            <td>Very good</td>\n",
       "            <td>7</td>\n",
       "            <td>False</td>\n",
       "            <td>False</td>\n",
       "            <td>False</td>\n",
       "        </tr>\n",
       "        <tr>\n",
       "            <td>False</td>\n",
       "            <td>26.58</td>\n",
       "            <td>True</td>\n",
       "            <td>False</td>\n",
       "            <td>False</td>\n",
       "            <td>20</td>\n",
       "            <td>30</td>\n",
       "            <td>False</td>\n",
       "            <td>Male</td>\n",
       "            <td>65-69</td>\n",
       "            <td>White</td>\n",
       "            <td>Yes</td>\n",
       "            <td>True</td>\n",
       "            <td>Fair</td>\n",
       "            <td>8</td>\n",
       "            <td>True</td>\n",
       "            <td>False</td>\n",
       "            <td>False</td>\n",
       "        </tr>\n",
       "        <tr>\n",
       "            <td>False</td>\n",
       "            <td>24.21</td>\n",
       "            <td>False</td>\n",
       "            <td>False</td>\n",
       "            <td>False</td>\n",
       "            <td>0</td>\n",
       "            <td>0</td>\n",
       "            <td>False</td>\n",
       "            <td>Female</td>\n",
       "            <td>75-79</td>\n",
       "            <td>White</td>\n",
       "            <td>No</td>\n",
       "            <td>False</td>\n",
       "            <td>Good</td>\n",
       "            <td>6</td>\n",
       "            <td>False</td>\n",
       "            <td>False</td>\n",
       "            <td>True</td>\n",
       "        </tr>\n",
       "        <tr>\n",
       "            <td>False</td>\n",
       "            <td>23.71</td>\n",
       "            <td>False</td>\n",
       "            <td>False</td>\n",
       "            <td>False</td>\n",
       "            <td>28</td>\n",
       "            <td>0</td>\n",
       "            <td>True</td>\n",
       "            <td>Female</td>\n",
       "            <td>40-44</td>\n",
       "            <td>White</td>\n",
       "            <td>No</td>\n",
       "            <td>True</td>\n",
       "            <td>Very good</td>\n",
       "            <td>8</td>\n",
       "            <td>False</td>\n",
       "            <td>False</td>\n",
       "            <td>False</td>\n",
       "        </tr>\n",
       "        <tr>\n",
       "            <td>True</td>\n",
       "            <td>28.87</td>\n",
       "            <td>True</td>\n",
       "            <td>False</td>\n",
       "            <td>False</td>\n",
       "            <td>6</td>\n",
       "            <td>0</td>\n",
       "            <td>True</td>\n",
       "            <td>Female</td>\n",
       "            <td>75-79</td>\n",
       "            <td>Black</td>\n",
       "            <td>No</td>\n",
       "            <td>False</td>\n",
       "            <td>Fair</td>\n",
       "            <td>12</td>\n",
       "            <td>False</td>\n",
       "            <td>False</td>\n",
       "            <td>False</td>\n",
       "        </tr>\n",
       "        <tr>\n",
       "            <td>False</td>\n",
       "            <td>21.63</td>\n",
       "            <td>False</td>\n",
       "            <td>False</td>\n",
       "            <td>False</td>\n",
       "            <td>15</td>\n",
       "            <td>0</td>\n",
       "            <td>False</td>\n",
       "            <td>Female</td>\n",
       "            <td>70-74</td>\n",
       "            <td>White</td>\n",
       "            <td>No</td>\n",
       "            <td>True</td>\n",
       "            <td>Fair</td>\n",
       "            <td>4</td>\n",
       "            <td>True</td>\n",
       "            <td>False</td>\n",
       "            <td>True</td>\n",
       "        </tr>\n",
       "        <tr>\n",
       "            <td>False</td>\n",
       "            <td>31.64</td>\n",
       "            <td>True</td>\n",
       "            <td>False</td>\n",
       "            <td>False</td>\n",
       "            <td>5</td>\n",
       "            <td>0</td>\n",
       "            <td>True</td>\n",
       "            <td>Female</td>\n",
       "            <td>80 or older</td>\n",
       "            <td>White</td>\n",
       "            <td>Yes</td>\n",
       "            <td>False</td>\n",
       "            <td>Good</td>\n",
       "            <td>9</td>\n",
       "            <td>True</td>\n",
       "            <td>False</td>\n",
       "            <td>False</td>\n",
       "        </tr>\n",
       "        <tr>\n",
       "            <td>False</td>\n",
       "            <td>26.45</td>\n",
       "            <td>False</td>\n",
       "            <td>False</td>\n",
       "            <td>False</td>\n",
       "            <td>0</td>\n",
       "            <td>0</td>\n",
       "            <td>False</td>\n",
       "            <td>Female</td>\n",
       "            <td>80 or older</td>\n",
       "            <td>White</td>\n",
       "            <td>No, borderline diabetes</td>\n",
       "            <td>False</td>\n",
       "            <td>Fair</td>\n",
       "            <td>5</td>\n",
       "            <td>False</td>\n",
       "            <td>True</td>\n",
       "            <td>False</td>\n",
       "        </tr>\n",
       "        <tr>\n",
       "            <td>False</td>\n",
       "            <td>40.69</td>\n",
       "            <td>False</td>\n",
       "            <td>False</td>\n",
       "            <td>False</td>\n",
       "            <td>0</td>\n",
       "            <td>0</td>\n",
       "            <td>True</td>\n",
       "            <td>Male</td>\n",
       "            <td>65-69</td>\n",
       "            <td>White</td>\n",
       "            <td>No</td>\n",
       "            <td>True</td>\n",
       "            <td>Good</td>\n",
       "            <td>10</td>\n",
       "            <td>False</td>\n",
       "            <td>False</td>\n",
       "            <td>False</td>\n",
       "        </tr>\n",
       "    </tbody>\n",
       "</table>\n",
       "<span style=\"font-style:italic;text-align:center;\">Truncated to <a href=\"https://jupysql.ploomber.io/en/latest/api/configuration.html#displaylimit\">displaylimit</a> of 10.</span>"
      ],
      "text/plain": [
       "+--------------+-------+---------+-----------------+--------+----------------+--------------+-------------+--------+-------------+-------+-------------------------+------------------+-----------+-----------+--------+---------------+------------+\n",
       "| heartdisease |  bmi  | smoking | alcoholdrinking | stroke | physicalhealth | mentalhealth | diffwalking |  sex   | agecategory |  race |         diabetic        | physicalactivity | genhealth | sleeptime | asthma | kidneydisease | skincancer |\n",
       "+--------------+-------+---------+-----------------+--------+----------------+--------------+-------------+--------+-------------+-------+-------------------------+------------------+-----------+-----------+--------+---------------+------------+\n",
       "|    False     | 16.60 |   True  |      False      | False  |       3        |      30      |    False    | Female |    55-59    | White |           Yes           |       True       | Very good |     5     |  True  |     False     |    True    |\n",
       "|    False     | 20.34 |  False  |      False      |  True  |       0        |      0       |    False    | Female | 80 or older | White |            No           |       True       | Very good |     7     | False  |     False     |   False    |\n",
       "|    False     | 26.58 |   True  |      False      | False  |       20       |      30      |    False    |  Male  |    65-69    | White |           Yes           |       True       |    Fair   |     8     |  True  |     False     |   False    |\n",
       "|    False     | 24.21 |  False  |      False      | False  |       0        |      0       |    False    | Female |    75-79    | White |            No           |      False       |    Good   |     6     | False  |     False     |    True    |\n",
       "|    False     | 23.71 |  False  |      False      | False  |       28       |      0       |     True    | Female |    40-44    | White |            No           |       True       | Very good |     8     | False  |     False     |   False    |\n",
       "|     True     | 28.87 |   True  |      False      | False  |       6        |      0       |     True    | Female |    75-79    | Black |            No           |      False       |    Fair   |     12    | False  |     False     |   False    |\n",
       "|    False     | 21.63 |  False  |      False      | False  |       15       |      0       |    False    | Female |    70-74    | White |            No           |       True       |    Fair   |     4     |  True  |     False     |    True    |\n",
       "|    False     | 31.64 |   True  |      False      | False  |       5        |      0       |     True    | Female | 80 or older | White |           Yes           |      False       |    Good   |     9     |  True  |     False     |   False    |\n",
       "|    False     | 26.45 |  False  |      False      | False  |       0        |      0       |    False    | Female | 80 or older | White | No, borderline diabetes |      False       |    Fair   |     5     | False  |      True     |   False    |\n",
       "|    False     | 40.69 |  False  |      False      | False  |       0        |      0       |     True    |  Male  |    65-69    | White |            No           |       True       |    Good   |     10    | False  |     False     |   False    |\n",
       "+--------------+-------+---------+-----------------+--------+----------------+--------------+-------------+--------+-------------+-------+-------------------------+------------------+-----------+-----------+--------+---------------+------------+\n",
       "Truncated to displaylimit of 10."
      ]
     },
     "execution_count": 18,
     "metadata": {},
     "output_type": "execute_result"
    }
   ],
   "source": [
    "%%sql\n",
    "SELECT * FROM heartdisease\n",
    "LIMIT 10"
   ]
  },
  {
   "cell_type": "markdown",
   "id": "84fbbc14-c420-4b96-81e8-e20f41af10cb",
   "metadata": {},
   "source": [
    "#### Categorizing BMI into Specific Weight Categories  \n",
    "- **Purpose**: This query creates a new column `bmicategory` to classify BMI values into predefined weight categories for clearer analysis.\n",
    "\n",
    "1. **ALTER TABLE**:  \n",
    "   - Adds a new column `bmicategory` of type `VARCHAR(20)` to store the BMI classification.\n",
    "\n",
    "2. **UPDATE Statement**:  \n",
    "   - Uses a `CASE` statement to categorize BMI values into the following weight ranges:  \n",
    "     - **`bmi < 18.50` → 'Underweight'**  \n",
    "     - **`18.50 <= bmi < 25.00` → 'Healthy weight'**  \n",
    "     - **`25.00 <= bmi < 30.00` → 'Overweight'**  \n",
    "     - **`30.00 <= bmi < 40.00` → 'Obese'**  \n",
    "     - **`bmi >= 40.00` → 'Severely Obese'**  \n",
    "\n",
    "3. **Outcome**:  \n",
    "   - Each record now has a `bmicategory` value based on the BMI range.  \n",
    "   - This allows for simplified grouping and analysis of individuals based on weight classifications.\n"
   ]
  },
  {
   "cell_type": "code",
   "execution_count": 19,
   "id": "b82f03d6-a574-4975-af6f-4e6dd1e3f1ae",
   "metadata": {},
   "outputs": [
    {
     "data": {
      "text/html": [
       "<span style=\"None\">Running query in &#x27;postgresql://postgres@/final_project&#x27;</span>"
      ],
      "text/plain": [
       "Running query in 'postgresql://postgres@/final_project'"
      ]
     },
     "metadata": {},
     "output_type": "display_data"
    },
    {
     "data": {
      "text/html": [
       "<span style=\"color: green\">319795 rows affected.</span>"
      ],
      "text/plain": [
       "319795 rows affected."
      ]
     },
     "metadata": {},
     "output_type": "display_data"
    },
    {
     "data": {
      "text/html": [
       "<table>\n",
       "    <thead>\n",
       "        <tr>\n",
       "        </tr>\n",
       "    </thead>\n",
       "    <tbody>\n",
       "    </tbody>\n",
       "</table>"
      ],
      "text/plain": [
       "++\n",
       "||\n",
       "++\n",
       "++"
      ]
     },
     "execution_count": 19,
     "metadata": {},
     "output_type": "execute_result"
    }
   ],
   "source": [
    "%%sql\n",
    "ALTER TABLE heartdisease\n",
    "ADD COLUMN bmicategory VARCHAR(20);\n",
    "\n",
    "UPDATE heartdisease\n",
    "SET bmicategory = \n",
    "  CASE\n",
    "    WHEN bmi < 18.50 THEN 'Underweight'\n",
    "    WHEN bmi >= 18.50 AND bmi < 25.00 THEN 'Healthy weight'\n",
    "    WHEN bmi >= 25.00 AND bmi < 30.00 THEN 'Overweight'\n",
    "    WHEN bmi >= 30.00 AND bmi < 40.00 THEN 'Obese'\n",
    "    WHEN bmi >= 40.00 THEN 'Severly Obese'\n",
    "  END;"
   ]
  },
  {
   "cell_type": "markdown",
   "id": "0f220789-b92f-4f4b-8d13-e7179606f31c",
   "metadata": {},
   "source": [
    "- Query to Preview the Table After Adding bmicategory Column\n",
    "- Using `%%sql` to execute SQL commands directly within the Jupyter Notebook.\n",
    "- The `SELECT *` query retrieves all columns from the `heartdisease` table.\n",
    "- The `LIMIT 10` clause restricts the result to the first 10 rows of the table, allowing for a quick preview of the data without displaying the entire dataset.\n",
    "- A attribute bmicategory is added into the table."
   ]
  },
  {
   "cell_type": "code",
   "execution_count": 20,
   "id": "fd49c310-a4d7-491d-b88e-335b48fd6c64",
   "metadata": {},
   "outputs": [
    {
     "data": {
      "text/html": [
       "<span style=\"None\">Running query in &#x27;postgresql://postgres@/final_project&#x27;</span>"
      ],
      "text/plain": [
       "Running query in 'postgresql://postgres@/final_project'"
      ]
     },
     "metadata": {},
     "output_type": "display_data"
    },
    {
     "data": {
      "text/html": [
       "<span style=\"color: green\">10 rows affected.</span>"
      ],
      "text/plain": [
       "10 rows affected."
      ]
     },
     "metadata": {},
     "output_type": "display_data"
    },
    {
     "data": {
      "text/html": [
       "<table>\n",
       "    <thead>\n",
       "        <tr>\n",
       "            <th>heartdisease</th>\n",
       "            <th>bmi</th>\n",
       "            <th>smoking</th>\n",
       "            <th>alcoholdrinking</th>\n",
       "            <th>stroke</th>\n",
       "            <th>physicalhealth</th>\n",
       "            <th>mentalhealth</th>\n",
       "            <th>diffwalking</th>\n",
       "            <th>sex</th>\n",
       "            <th>agecategory</th>\n",
       "            <th>race</th>\n",
       "            <th>diabetic</th>\n",
       "            <th>physicalactivity</th>\n",
       "            <th>genhealth</th>\n",
       "            <th>sleeptime</th>\n",
       "            <th>asthma</th>\n",
       "            <th>kidneydisease</th>\n",
       "            <th>skincancer</th>\n",
       "            <th>bmicategory</th>\n",
       "        </tr>\n",
       "    </thead>\n",
       "    <tbody>\n",
       "        <tr>\n",
       "            <td>False</td>\n",
       "            <td>25.10</td>\n",
       "            <td>False</td>\n",
       "            <td>True</td>\n",
       "            <td>False</td>\n",
       "            <td>0</td>\n",
       "            <td>4</td>\n",
       "            <td>False</td>\n",
       "            <td>Male</td>\n",
       "            <td>30-34</td>\n",
       "            <td>White</td>\n",
       "            <td>No</td>\n",
       "            <td>True</td>\n",
       "            <td>Excellent</td>\n",
       "            <td>6</td>\n",
       "            <td>False</td>\n",
       "            <td>False</td>\n",
       "            <td>False</td>\n",
       "            <td>Overweight</td>\n",
       "        </tr>\n",
       "        <tr>\n",
       "            <td>False</td>\n",
       "            <td>29.26</td>\n",
       "            <td>True</td>\n",
       "            <td>False</td>\n",
       "            <td>False</td>\n",
       "            <td>0</td>\n",
       "            <td>0</td>\n",
       "            <td>False</td>\n",
       "            <td>Female</td>\n",
       "            <td>70-74</td>\n",
       "            <td>White</td>\n",
       "            <td>Yes</td>\n",
       "            <td>True</td>\n",
       "            <td>Good</td>\n",
       "            <td>9</td>\n",
       "            <td>False</td>\n",
       "            <td>False</td>\n",
       "            <td>False</td>\n",
       "            <td>Overweight</td>\n",
       "        </tr>\n",
       "        <tr>\n",
       "            <td>False</td>\n",
       "            <td>32.69</td>\n",
       "            <td>False</td>\n",
       "            <td>False</td>\n",
       "            <td>False</td>\n",
       "            <td>0</td>\n",
       "            <td>0</td>\n",
       "            <td>False</td>\n",
       "            <td>Male</td>\n",
       "            <td>70-74</td>\n",
       "            <td>White</td>\n",
       "            <td>No</td>\n",
       "            <td>True</td>\n",
       "            <td>Fair</td>\n",
       "            <td>8</td>\n",
       "            <td>True</td>\n",
       "            <td>False</td>\n",
       "            <td>False</td>\n",
       "            <td>Obese</td>\n",
       "        </tr>\n",
       "        <tr>\n",
       "            <td>False</td>\n",
       "            <td>27.26</td>\n",
       "            <td>True</td>\n",
       "            <td>False</td>\n",
       "            <td>False</td>\n",
       "            <td>6</td>\n",
       "            <td>0</td>\n",
       "            <td>False</td>\n",
       "            <td>Male</td>\n",
       "            <td>55-59</td>\n",
       "            <td>White</td>\n",
       "            <td>Yes</td>\n",
       "            <td>True</td>\n",
       "            <td>Good</td>\n",
       "            <td>5</td>\n",
       "            <td>False</td>\n",
       "            <td>False</td>\n",
       "            <td>False</td>\n",
       "            <td>Overweight</td>\n",
       "        </tr>\n",
       "        <tr>\n",
       "            <td>False</td>\n",
       "            <td>31.93</td>\n",
       "            <td>False</td>\n",
       "            <td>False</td>\n",
       "            <td>False</td>\n",
       "            <td>30</td>\n",
       "            <td>0</td>\n",
       "            <td>True</td>\n",
       "            <td>Male</td>\n",
       "            <td>60-64</td>\n",
       "            <td>White</td>\n",
       "            <td>No</td>\n",
       "            <td>True</td>\n",
       "            <td>Good</td>\n",
       "            <td>4</td>\n",
       "            <td>False</td>\n",
       "            <td>False</td>\n",
       "            <td>False</td>\n",
       "            <td>Obese</td>\n",
       "        </tr>\n",
       "        <tr>\n",
       "            <td>False</td>\n",
       "            <td>33.82</td>\n",
       "            <td>False</td>\n",
       "            <td>False</td>\n",
       "            <td>False</td>\n",
       "            <td>10</td>\n",
       "            <td>0</td>\n",
       "            <td>False</td>\n",
       "            <td>Male</td>\n",
       "            <td>55-59</td>\n",
       "            <td>Black</td>\n",
       "            <td>Yes</td>\n",
       "            <td>True</td>\n",
       "            <td>Good</td>\n",
       "            <td>8</td>\n",
       "            <td>True</td>\n",
       "            <td>False</td>\n",
       "            <td>False</td>\n",
       "            <td>Obese</td>\n",
       "        </tr>\n",
       "        <tr>\n",
       "            <td>False</td>\n",
       "            <td>34.44</td>\n",
       "            <td>False</td>\n",
       "            <td>False</td>\n",
       "            <td>False</td>\n",
       "            <td>0</td>\n",
       "            <td>0</td>\n",
       "            <td>False</td>\n",
       "            <td>Male</td>\n",
       "            <td>70-74</td>\n",
       "            <td>White</td>\n",
       "            <td>No</td>\n",
       "            <td>True</td>\n",
       "            <td>Good</td>\n",
       "            <td>6</td>\n",
       "            <td>False</td>\n",
       "            <td>False</td>\n",
       "            <td>True</td>\n",
       "            <td>Obese</td>\n",
       "        </tr>\n",
       "        <tr>\n",
       "            <td>False</td>\n",
       "            <td>38.01</td>\n",
       "            <td>True</td>\n",
       "            <td>False</td>\n",
       "            <td>False</td>\n",
       "            <td>10</td>\n",
       "            <td>0</td>\n",
       "            <td>True</td>\n",
       "            <td>Male</td>\n",
       "            <td>70-74</td>\n",
       "            <td>White</td>\n",
       "            <td>No</td>\n",
       "            <td>False</td>\n",
       "            <td>Fair</td>\n",
       "            <td>7</td>\n",
       "            <td>False</td>\n",
       "            <td>False</td>\n",
       "            <td>False</td>\n",
       "            <td>Obese</td>\n",
       "        </tr>\n",
       "        <tr>\n",
       "            <td>False</td>\n",
       "            <td>31.17</td>\n",
       "            <td>True</td>\n",
       "            <td>False</td>\n",
       "            <td>False</td>\n",
       "            <td>0</td>\n",
       "            <td>0</td>\n",
       "            <td>False</td>\n",
       "            <td>Male</td>\n",
       "            <td>65-69</td>\n",
       "            <td>White</td>\n",
       "            <td>No</td>\n",
       "            <td>True</td>\n",
       "            <td>Very good</td>\n",
       "            <td>7</td>\n",
       "            <td>False</td>\n",
       "            <td>False</td>\n",
       "            <td>False</td>\n",
       "            <td>Obese</td>\n",
       "        </tr>\n",
       "        <tr>\n",
       "            <td>False</td>\n",
       "            <td>36.52</td>\n",
       "            <td>False</td>\n",
       "            <td>False</td>\n",
       "            <td>False</td>\n",
       "            <td>3</td>\n",
       "            <td>5</td>\n",
       "            <td>False</td>\n",
       "            <td>Male</td>\n",
       "            <td>60-64</td>\n",
       "            <td>White</td>\n",
       "            <td>Yes</td>\n",
       "            <td>False</td>\n",
       "            <td>Fair</td>\n",
       "            <td>8</td>\n",
       "            <td>False</td>\n",
       "            <td>False</td>\n",
       "            <td>True</td>\n",
       "            <td>Obese</td>\n",
       "        </tr>\n",
       "    </tbody>\n",
       "</table>\n",
       "<span style=\"font-style:italic;text-align:center;\">Truncated to <a href=\"https://jupysql.ploomber.io/en/latest/api/configuration.html#displaylimit\">displaylimit</a> of 10.</span>"
      ],
      "text/plain": [
       "+--------------+-------+---------+-----------------+--------+----------------+--------------+-------------+--------+-------------+-------+----------+------------------+-----------+-----------+--------+---------------+------------+-------------+\n",
       "| heartdisease |  bmi  | smoking | alcoholdrinking | stroke | physicalhealth | mentalhealth | diffwalking |  sex   | agecategory |  race | diabetic | physicalactivity | genhealth | sleeptime | asthma | kidneydisease | skincancer | bmicategory |\n",
       "+--------------+-------+---------+-----------------+--------+----------------+--------------+-------------+--------+-------------+-------+----------+------------------+-----------+-----------+--------+---------------+------------+-------------+\n",
       "|    False     | 25.10 |  False  |       True      | False  |       0        |      4       |    False    |  Male  |    30-34    | White |    No    |       True       | Excellent |     6     | False  |     False     |   False    |  Overweight |\n",
       "|    False     | 29.26 |   True  |      False      | False  |       0        |      0       |    False    | Female |    70-74    | White |   Yes    |       True       |    Good   |     9     | False  |     False     |   False    |  Overweight |\n",
       "|    False     | 32.69 |  False  |      False      | False  |       0        |      0       |    False    |  Male  |    70-74    | White |    No    |       True       |    Fair   |     8     |  True  |     False     |   False    |    Obese    |\n",
       "|    False     | 27.26 |   True  |      False      | False  |       6        |      0       |    False    |  Male  |    55-59    | White |   Yes    |       True       |    Good   |     5     | False  |     False     |   False    |  Overweight |\n",
       "|    False     | 31.93 |  False  |      False      | False  |       30       |      0       |     True    |  Male  |    60-64    | White |    No    |       True       |    Good   |     4     | False  |     False     |   False    |    Obese    |\n",
       "|    False     | 33.82 |  False  |      False      | False  |       10       |      0       |    False    |  Male  |    55-59    | Black |   Yes    |       True       |    Good   |     8     |  True  |     False     |   False    |    Obese    |\n",
       "|    False     | 34.44 |  False  |      False      | False  |       0        |      0       |    False    |  Male  |    70-74    | White |    No    |       True       |    Good   |     6     | False  |     False     |    True    |    Obese    |\n",
       "|    False     | 38.01 |   True  |      False      | False  |       10       |      0       |     True    |  Male  |    70-74    | White |    No    |      False       |    Fair   |     7     | False  |     False     |   False    |    Obese    |\n",
       "|    False     | 31.17 |   True  |      False      | False  |       0        |      0       |    False    |  Male  |    65-69    | White |    No    |       True       | Very good |     7     | False  |     False     |   False    |    Obese    |\n",
       "|    False     | 36.52 |  False  |      False      | False  |       3        |      5       |    False    |  Male  |    60-64    | White |   Yes    |      False       |    Fair   |     8     | False  |     False     |    True    |    Obese    |\n",
       "+--------------+-------+---------+-----------------+--------+----------------+--------------+-------------+--------+-------------+-------+----------+------------------+-----------+-----------+--------+---------------+------------+-------------+\n",
       "Truncated to displaylimit of 10."
      ]
     },
     "execution_count": 20,
     "metadata": {},
     "output_type": "execute_result"
    }
   ],
   "source": [
    "%%sql\n",
    "SELECT * FROM heartdisease\n",
    "LIMIT 10"
   ]
  },
  {
   "cell_type": "markdown",
   "id": "0cdec644-dc56-454b-b6ad-fe4c24a3f658",
   "metadata": {},
   "source": [
    "- The `SELECT DISTINCT` statement is used to fetch only unique values from the `bmicategory` column.\n",
    "- This query helps identify all the distinct BMI categories present in the `heartdisease` table.\n",
    "- It ensures there are no duplicate values, providing a clear overview of the available BMI classifications."
   ]
  },
  {
   "cell_type": "code",
   "execution_count": 21,
   "id": "61d5096e-a48f-4b09-a0a0-9f93e940034b",
   "metadata": {},
   "outputs": [
    {
     "data": {
      "text/html": [
       "<span style=\"None\">Running query in &#x27;postgresql://postgres@/final_project&#x27;</span>"
      ],
      "text/plain": [
       "Running query in 'postgresql://postgres@/final_project'"
      ]
     },
     "metadata": {},
     "output_type": "display_data"
    },
    {
     "data": {
      "text/html": [
       "<span style=\"color: green\">5 rows affected.</span>"
      ],
      "text/plain": [
       "5 rows affected."
      ]
     },
     "metadata": {},
     "output_type": "display_data"
    },
    {
     "data": {
      "text/html": [
       "<table>\n",
       "    <thead>\n",
       "        <tr>\n",
       "            <th>bmicategory</th>\n",
       "        </tr>\n",
       "    </thead>\n",
       "    <tbody>\n",
       "        <tr>\n",
       "            <td>Healthy weight</td>\n",
       "        </tr>\n",
       "        <tr>\n",
       "            <td>Obese</td>\n",
       "        </tr>\n",
       "        <tr>\n",
       "            <td>Overweight</td>\n",
       "        </tr>\n",
       "        <tr>\n",
       "            <td>Severly Obese</td>\n",
       "        </tr>\n",
       "        <tr>\n",
       "            <td>Underweight</td>\n",
       "        </tr>\n",
       "    </tbody>\n",
       "</table>"
      ],
      "text/plain": [
       "+----------------+\n",
       "|  bmicategory   |\n",
       "+----------------+\n",
       "| Healthy weight |\n",
       "|     Obese      |\n",
       "|   Overweight   |\n",
       "| Severly Obese  |\n",
       "|  Underweight   |\n",
       "+----------------+"
      ]
     },
     "execution_count": 21,
     "metadata": {},
     "output_type": "execute_result"
    }
   ],
   "source": [
    "%%sql\n",
    "SELECT DISTINCT bmicategory\n",
    "from heartdisease"
   ]
  },
  {
   "cell_type": "markdown",
   "id": "d1916fc4-4115-4738-bd72-a3188e159e70",
   "metadata": {},
   "source": [
    "  - The `SELECT DISTINCT` statement is used to fetch unique values from the `agecategory` column.  \n",
    "- This query helps identify all the distinct age group categories present in the `heartdisease` table.  \n",
    "- It ensures there are no duplicate values, providing a concise list of all age groups available in the dataset.  "
   ]
  },
  {
   "cell_type": "code",
   "execution_count": 22,
   "id": "0289d6c3-352c-4c72-ac84-dabcc6da3b6a",
   "metadata": {},
   "outputs": [
    {
     "data": {
      "text/html": [
       "<span style=\"None\">Running query in &#x27;postgresql://postgres@/final_project&#x27;</span>"
      ],
      "text/plain": [
       "Running query in 'postgresql://postgres@/final_project'"
      ]
     },
     "metadata": {},
     "output_type": "display_data"
    },
    {
     "data": {
      "text/html": [
       "<span style=\"color: green\">13 rows affected.</span>"
      ],
      "text/plain": [
       "13 rows affected."
      ]
     },
     "metadata": {},
     "output_type": "display_data"
    },
    {
     "data": {
      "text/html": [
       "<table>\n",
       "    <thead>\n",
       "        <tr>\n",
       "            <th>agecategory</th>\n",
       "        </tr>\n",
       "    </thead>\n",
       "    <tbody>\n",
       "        <tr>\n",
       "            <td>18-24</td>\n",
       "        </tr>\n",
       "        <tr>\n",
       "            <td>25-29</td>\n",
       "        </tr>\n",
       "        <tr>\n",
       "            <td>30-34</td>\n",
       "        </tr>\n",
       "        <tr>\n",
       "            <td>35-39</td>\n",
       "        </tr>\n",
       "        <tr>\n",
       "            <td>40-44</td>\n",
       "        </tr>\n",
       "        <tr>\n",
       "            <td>45-49</td>\n",
       "        </tr>\n",
       "        <tr>\n",
       "            <td>50-54</td>\n",
       "        </tr>\n",
       "        <tr>\n",
       "            <td>55-59</td>\n",
       "        </tr>\n",
       "        <tr>\n",
       "            <td>60-64</td>\n",
       "        </tr>\n",
       "        <tr>\n",
       "            <td>65-69</td>\n",
       "        </tr>\n",
       "    </tbody>\n",
       "</table>\n",
       "<span style=\"font-style:italic;text-align:center;\">Truncated to <a href=\"https://jupysql.ploomber.io/en/latest/api/configuration.html#displaylimit\">displaylimit</a> of 10.</span>"
      ],
      "text/plain": [
       "+-------------+\n",
       "| agecategory |\n",
       "+-------------+\n",
       "|    18-24    |\n",
       "|    25-29    |\n",
       "|    30-34    |\n",
       "|    35-39    |\n",
       "|    40-44    |\n",
       "|    45-49    |\n",
       "|    50-54    |\n",
       "|    55-59    |\n",
       "|    60-64    |\n",
       "|    65-69    |\n",
       "+-------------+\n",
       "Truncated to displaylimit of 10."
      ]
     },
     "execution_count": 22,
     "metadata": {},
     "output_type": "execute_result"
    }
   ],
   "source": [
    "%%sql\n",
    "SELECT DISTINCT agecategory\n",
    "From heartdisease"
   ]
  },
  {
   "cell_type": "markdown",
   "id": "275edaf4-c57a-4bcb-a520-1926ec102e0e",
   "metadata": {},
   "source": [
    "#### Categorizing Age Groups into Custom Categories  \n",
    "- **Purpose**: This query adds a new column `age_category` to the `heartdisease` table, which classifies age groups into broader, custom categories for better analysis.\n",
    "\n",
    "1. **ALTER TABLE**:  \n",
    "   - Adds a new column `age_category` of type `VARCHAR(20)` to store the age group labels.\n",
    "\n",
    "2. **UPDATE Statement**:  \n",
    "   - Uses a `CASE` statement to categorize existing `agecategory` values into broader categories:  \n",
    "     - `18-24`, `25-29`, `30-34` → **'Young Adult'**  \n",
    "     - `35-39`, `40-44`, `45-49` → **'Prime Adult'**  \n",
    "     - `50-54`, `55-59`, `60-64` → **'Mature Adult'**  \n",
    "     - `65-69`, `70-74`, `75-79`, `80 or older` → **'Senior Citizen'**  \n",
    "\n",
    "3. **Outcome**:  \n",
    "   - Each record in the table now has a corresponding `age_category` value based on the `agecategory` column.  \n",
    "   - This makes it easier to group and analyze data at a higher level.  "
   ]
  },
  {
   "cell_type": "code",
   "execution_count": 23,
   "id": "393b9b42-f383-44fc-bb84-76c87edbe2a3",
   "metadata": {},
   "outputs": [
    {
     "data": {
      "text/html": [
       "<span style=\"None\">Running query in &#x27;postgresql://postgres@/final_project&#x27;</span>"
      ],
      "text/plain": [
       "Running query in 'postgresql://postgres@/final_project'"
      ]
     },
     "metadata": {},
     "output_type": "display_data"
    },
    {
     "data": {
      "text/html": [
       "<span style=\"color: green\">319795 rows affected.</span>"
      ],
      "text/plain": [
       "319795 rows affected."
      ]
     },
     "metadata": {},
     "output_type": "display_data"
    },
    {
     "data": {
      "text/html": [
       "<table>\n",
       "    <thead>\n",
       "        <tr>\n",
       "        </tr>\n",
       "    </thead>\n",
       "    <tbody>\n",
       "    </tbody>\n",
       "</table>"
      ],
      "text/plain": [
       "++\n",
       "||\n",
       "++\n",
       "++"
      ]
     },
     "execution_count": 23,
     "metadata": {},
     "output_type": "execute_result"
    }
   ],
   "source": [
    "%%sql\n",
    "ALTER TABLE heartdisease\n",
    "ADD COLUMN age_category VARCHAR(20);\n",
    "\n",
    "UPDATE heartdisease\n",
    "SET age_category =\n",
    "  CASE\n",
    "    WHEN agecategory IN ('18-24', '25-29', '30-34') THEN 'Young Adult'\n",
    "    WHEN agecategory IN ('35-39', '40-44', '45-49') THEN 'Prime Adult'\n",
    "    WHEN agecategory IN ('50-54', '55-59', '60-64') THEN 'Mature Adult'\n",
    "    WHEN agecategory IN ('65-69', '70-74', '75-79', '80 or older') THEN 'Senior Citizen'\n",
    "  END;"
   ]
  },
  {
   "cell_type": "markdown",
   "id": "fc490c7c-f738-4314-a2e9-9dae546819a5",
   "metadata": {},
   "source": [
    "- Query to Retrieve Unique Age Categories and Their Mapped Values  \n",
    "- The `SELECT DISTINCT` statement is used to fetch unique combinations of values from the `agecategory` and `age_category` columns.  \n",
    "- This query helps verify that the `agecategory` column has been correctly mapped to its corresponding `age_category` values.  \n",
    "- The `ORDER BY` clause sorts the results based on the `agecategory` column for better readability.  \n",
    "- It ensures that there are no duplicate mappings and provides a clear overview of the age groupings."
   ]
  },
  {
   "cell_type": "code",
   "execution_count": 24,
   "id": "dbb4a130-0b11-447f-96af-283894689fd6",
   "metadata": {},
   "outputs": [
    {
     "data": {
      "text/html": [
       "<span style=\"None\">Running query in &#x27;postgresql://postgres@/final_project&#x27;</span>"
      ],
      "text/plain": [
       "Running query in 'postgresql://postgres@/final_project'"
      ]
     },
     "metadata": {},
     "output_type": "display_data"
    },
    {
     "data": {
      "text/html": [
       "<span style=\"color: green\">13 rows affected.</span>"
      ],
      "text/plain": [
       "13 rows affected."
      ]
     },
     "metadata": {},
     "output_type": "display_data"
    },
    {
     "data": {
      "text/html": [
       "<table>\n",
       "    <thead>\n",
       "        <tr>\n",
       "            <th>agecategory</th>\n",
       "            <th>age_category</th>\n",
       "        </tr>\n",
       "    </thead>\n",
       "    <tbody>\n",
       "        <tr>\n",
       "            <td>18-24</td>\n",
       "            <td>Young Adult</td>\n",
       "        </tr>\n",
       "        <tr>\n",
       "            <td>25-29</td>\n",
       "            <td>Young Adult</td>\n",
       "        </tr>\n",
       "        <tr>\n",
       "            <td>30-34</td>\n",
       "            <td>Young Adult</td>\n",
       "        </tr>\n",
       "        <tr>\n",
       "            <td>35-39</td>\n",
       "            <td>Prime Adult</td>\n",
       "        </tr>\n",
       "        <tr>\n",
       "            <td>40-44</td>\n",
       "            <td>Prime Adult</td>\n",
       "        </tr>\n",
       "        <tr>\n",
       "            <td>45-49</td>\n",
       "            <td>Prime Adult</td>\n",
       "        </tr>\n",
       "        <tr>\n",
       "            <td>50-54</td>\n",
       "            <td>Mature Adult</td>\n",
       "        </tr>\n",
       "        <tr>\n",
       "            <td>55-59</td>\n",
       "            <td>Mature Adult</td>\n",
       "        </tr>\n",
       "        <tr>\n",
       "            <td>60-64</td>\n",
       "            <td>Mature Adult</td>\n",
       "        </tr>\n",
       "        <tr>\n",
       "            <td>65-69</td>\n",
       "            <td>Senior Citizen</td>\n",
       "        </tr>\n",
       "    </tbody>\n",
       "</table>\n",
       "<span style=\"font-style:italic;text-align:center;\">Truncated to <a href=\"https://jupysql.ploomber.io/en/latest/api/configuration.html#displaylimit\">displaylimit</a> of 10.</span>"
      ],
      "text/plain": [
       "+-------------+----------------+\n",
       "| agecategory |  age_category  |\n",
       "+-------------+----------------+\n",
       "|    18-24    |  Young Adult   |\n",
       "|    25-29    |  Young Adult   |\n",
       "|    30-34    |  Young Adult   |\n",
       "|    35-39    |  Prime Adult   |\n",
       "|    40-44    |  Prime Adult   |\n",
       "|    45-49    |  Prime Adult   |\n",
       "|    50-54    |  Mature Adult  |\n",
       "|    55-59    |  Mature Adult  |\n",
       "|    60-64    |  Mature Adult  |\n",
       "|    65-69    | Senior Citizen |\n",
       "+-------------+----------------+\n",
       "Truncated to displaylimit of 10."
      ]
     },
     "execution_count": 24,
     "metadata": {},
     "output_type": "execute_result"
    }
   ],
   "source": [
    "%%sql\n",
    "SELECT DISTINCT agecategory, age_category\n",
    "FROM heartdisease\n",
    "ORDER BY agecategory;"
   ]
  },
  {
   "cell_type": "markdown",
   "id": "e1de303e-0a9a-4ab6-a240-5ea9a60f22c2",
   "metadata": {},
   "source": [
    "- Query to Preview the Table After Adding age_category Column  \n",
    "- The `SELECT *` statement retrieves all columns from the `heartdisease` table.  \n",
    "- The `LIMIT 10` clause restricts the result to the first 10 rows of the table, allowing a quick preview.  \n",
    "- This query is used to confirm that the new `age_category` column has been successfully added and populated with the correct values.  \n",
    "- By displaying a subset of the table, we can validate that the changes are reflected as expected without querying the entire dataset."
   ]
  },
  {
   "cell_type": "code",
   "execution_count": 25,
   "id": "c092f9eb-9bf4-44ce-b008-10ac4f4e759b",
   "metadata": {},
   "outputs": [
    {
     "data": {
      "text/html": [
       "<span style=\"None\">Running query in &#x27;postgresql://postgres@/final_project&#x27;</span>"
      ],
      "text/plain": [
       "Running query in 'postgresql://postgres@/final_project'"
      ]
     },
     "metadata": {},
     "output_type": "display_data"
    },
    {
     "data": {
      "text/html": [
       "<span style=\"color: green\">10 rows affected.</span>"
      ],
      "text/plain": [
       "10 rows affected."
      ]
     },
     "metadata": {},
     "output_type": "display_data"
    },
    {
     "data": {
      "text/html": [
       "<table>\n",
       "    <thead>\n",
       "        <tr>\n",
       "            <th>heartdisease</th>\n",
       "            <th>bmi</th>\n",
       "            <th>smoking</th>\n",
       "            <th>alcoholdrinking</th>\n",
       "            <th>stroke</th>\n",
       "            <th>physicalhealth</th>\n",
       "            <th>mentalhealth</th>\n",
       "            <th>diffwalking</th>\n",
       "            <th>sex</th>\n",
       "            <th>agecategory</th>\n",
       "            <th>race</th>\n",
       "            <th>diabetic</th>\n",
       "            <th>physicalactivity</th>\n",
       "            <th>genhealth</th>\n",
       "            <th>sleeptime</th>\n",
       "            <th>asthma</th>\n",
       "            <th>kidneydisease</th>\n",
       "            <th>skincancer</th>\n",
       "            <th>bmicategory</th>\n",
       "            <th>age_category</th>\n",
       "        </tr>\n",
       "    </thead>\n",
       "    <tbody>\n",
       "        <tr>\n",
       "            <td>False</td>\n",
       "            <td>36.52</td>\n",
       "            <td>False</td>\n",
       "            <td>False</td>\n",
       "            <td>False</td>\n",
       "            <td>3</td>\n",
       "            <td>5</td>\n",
       "            <td>False</td>\n",
       "            <td>Male</td>\n",
       "            <td>60-64</td>\n",
       "            <td>White</td>\n",
       "            <td>Yes</td>\n",
       "            <td>False</td>\n",
       "            <td>Fair</td>\n",
       "            <td>8</td>\n",
       "            <td>False</td>\n",
       "            <td>False</td>\n",
       "            <td>True</td>\n",
       "            <td>Obese</td>\n",
       "            <td>Mature Adult</td>\n",
       "        </tr>\n",
       "        <tr>\n",
       "            <td>False</td>\n",
       "            <td>29.18</td>\n",
       "            <td>True</td>\n",
       "            <td>False</td>\n",
       "            <td>False</td>\n",
       "            <td>0</td>\n",
       "            <td>15</td>\n",
       "            <td>False</td>\n",
       "            <td>Female</td>\n",
       "            <td>65-69</td>\n",
       "            <td>White</td>\n",
       "            <td>No</td>\n",
       "            <td>True</td>\n",
       "            <td>Good</td>\n",
       "            <td>7</td>\n",
       "            <td>False</td>\n",
       "            <td>False</td>\n",
       "            <td>False</td>\n",
       "            <td>Overweight</td>\n",
       "            <td>Senior Citizen</td>\n",
       "        </tr>\n",
       "        <tr>\n",
       "            <td>True</td>\n",
       "            <td>34.67</td>\n",
       "            <td>True</td>\n",
       "            <td>False</td>\n",
       "            <td>False</td>\n",
       "            <td>0</td>\n",
       "            <td>15</td>\n",
       "            <td>False</td>\n",
       "            <td>Male</td>\n",
       "            <td>40-44</td>\n",
       "            <td>White</td>\n",
       "            <td>Yes</td>\n",
       "            <td>True</td>\n",
       "            <td>Good</td>\n",
       "            <td>7</td>\n",
       "            <td>False</td>\n",
       "            <td>False</td>\n",
       "            <td>False</td>\n",
       "            <td>Obese</td>\n",
       "            <td>Prime Adult</td>\n",
       "        </tr>\n",
       "        <tr>\n",
       "            <td>False</td>\n",
       "            <td>32.28</td>\n",
       "            <td>False</td>\n",
       "            <td>False</td>\n",
       "            <td>False</td>\n",
       "            <td>0</td>\n",
       "            <td>2</td>\n",
       "            <td>False</td>\n",
       "            <td>Male</td>\n",
       "            <td>18-24</td>\n",
       "            <td>Asian</td>\n",
       "            <td>No</td>\n",
       "            <td>True</td>\n",
       "            <td>Good</td>\n",
       "            <td>8</td>\n",
       "            <td>False</td>\n",
       "            <td>False</td>\n",
       "            <td>False</td>\n",
       "            <td>Obese</td>\n",
       "            <td>Young Adult</td>\n",
       "        </tr>\n",
       "        <tr>\n",
       "            <td>False</td>\n",
       "            <td>31.93</td>\n",
       "            <td>False</td>\n",
       "            <td>False</td>\n",
       "            <td>False</td>\n",
       "            <td>0</td>\n",
       "            <td>0</td>\n",
       "            <td>False</td>\n",
       "            <td>Female</td>\n",
       "            <td>45-49</td>\n",
       "            <td>Hispanic</td>\n",
       "            <td>No</td>\n",
       "            <td>True</td>\n",
       "            <td>Fair</td>\n",
       "            <td>7</td>\n",
       "            <td>False</td>\n",
       "            <td>False</td>\n",
       "            <td>False</td>\n",
       "            <td>Obese</td>\n",
       "            <td>Prime Adult</td>\n",
       "        </tr>\n",
       "        <tr>\n",
       "            <td>False</td>\n",
       "            <td>20.67</td>\n",
       "            <td>False</td>\n",
       "            <td>False</td>\n",
       "            <td>False</td>\n",
       "            <td>0</td>\n",
       "            <td>15</td>\n",
       "            <td>False</td>\n",
       "            <td>Female</td>\n",
       "            <td>35-39</td>\n",
       "            <td>Other</td>\n",
       "            <td>No</td>\n",
       "            <td>True</td>\n",
       "            <td>Excellent</td>\n",
       "            <td>8</td>\n",
       "            <td>True</td>\n",
       "            <td>False</td>\n",
       "            <td>False</td>\n",
       "            <td>Healthy weight</td>\n",
       "            <td>Prime Adult</td>\n",
       "        </tr>\n",
       "        <tr>\n",
       "            <td>False</td>\n",
       "            <td>31.65</td>\n",
       "            <td>True</td>\n",
       "            <td>False</td>\n",
       "            <td>False</td>\n",
       "            <td>6</td>\n",
       "            <td>0</td>\n",
       "            <td>False</td>\n",
       "            <td>Male</td>\n",
       "            <td>35-39</td>\n",
       "            <td>White</td>\n",
       "            <td>No</td>\n",
       "            <td>True</td>\n",
       "            <td>Good</td>\n",
       "            <td>8</td>\n",
       "            <td>False</td>\n",
       "            <td>False</td>\n",
       "            <td>False</td>\n",
       "            <td>Obese</td>\n",
       "            <td>Prime Adult</td>\n",
       "        </tr>\n",
       "        <tr>\n",
       "            <td>False</td>\n",
       "            <td>30.47</td>\n",
       "            <td>False</td>\n",
       "            <td>False</td>\n",
       "            <td>False</td>\n",
       "            <td>0</td>\n",
       "            <td>0</td>\n",
       "            <td>False</td>\n",
       "            <td>Female</td>\n",
       "            <td>55-59</td>\n",
       "            <td>Hispanic</td>\n",
       "            <td>No</td>\n",
       "            <td>True</td>\n",
       "            <td>Good</td>\n",
       "            <td>6</td>\n",
       "            <td>False</td>\n",
       "            <td>False</td>\n",
       "            <td>False</td>\n",
       "            <td>Obese</td>\n",
       "            <td>Mature Adult</td>\n",
       "        </tr>\n",
       "        <tr>\n",
       "            <td>True</td>\n",
       "            <td>35.58</td>\n",
       "            <td>True</td>\n",
       "            <td>False</td>\n",
       "            <td>True</td>\n",
       "            <td>30</td>\n",
       "            <td>0</td>\n",
       "            <td>True</td>\n",
       "            <td>Male</td>\n",
       "            <td>55-59</td>\n",
       "            <td>White</td>\n",
       "            <td>Yes</td>\n",
       "            <td>False</td>\n",
       "            <td>Poor</td>\n",
       "            <td>8</td>\n",
       "            <td>False</td>\n",
       "            <td>False</td>\n",
       "            <td>False</td>\n",
       "            <td>Obese</td>\n",
       "            <td>Mature Adult</td>\n",
       "        </tr>\n",
       "        <tr>\n",
       "            <td>False</td>\n",
       "            <td>20.98</td>\n",
       "            <td>False</td>\n",
       "            <td>False</td>\n",
       "            <td>False</td>\n",
       "            <td>0</td>\n",
       "            <td>0</td>\n",
       "            <td>False</td>\n",
       "            <td>Female</td>\n",
       "            <td>80 or older</td>\n",
       "            <td>White</td>\n",
       "            <td>No</td>\n",
       "            <td>False</td>\n",
       "            <td>Good</td>\n",
       "            <td>8</td>\n",
       "            <td>False</td>\n",
       "            <td>False</td>\n",
       "            <td>False</td>\n",
       "            <td>Healthy weight</td>\n",
       "            <td>Senior Citizen</td>\n",
       "        </tr>\n",
       "    </tbody>\n",
       "</table>\n",
       "<span style=\"font-style:italic;text-align:center;\">Truncated to <a href=\"https://jupysql.ploomber.io/en/latest/api/configuration.html#displaylimit\">displaylimit</a> of 10.</span>"
      ],
      "text/plain": [
       "+--------------+-------+---------+-----------------+--------+----------------+--------------+-------------+--------+-------------+----------+----------+------------------+-----------+-----------+--------+---------------+------------+----------------+----------------+\n",
       "| heartdisease |  bmi  | smoking | alcoholdrinking | stroke | physicalhealth | mentalhealth | diffwalking |  sex   | agecategory |   race   | diabetic | physicalactivity | genhealth | sleeptime | asthma | kidneydisease | skincancer |  bmicategory   |  age_category  |\n",
       "+--------------+-------+---------+-----------------+--------+----------------+--------------+-------------+--------+-------------+----------+----------+------------------+-----------+-----------+--------+---------------+------------+----------------+----------------+\n",
       "|    False     | 36.52 |  False  |      False      | False  |       3        |      5       |    False    |  Male  |    60-64    |  White   |   Yes    |      False       |    Fair   |     8     | False  |     False     |    True    |     Obese      |  Mature Adult  |\n",
       "|    False     | 29.18 |   True  |      False      | False  |       0        |      15      |    False    | Female |    65-69    |  White   |    No    |       True       |    Good   |     7     | False  |     False     |   False    |   Overweight   | Senior Citizen |\n",
       "|     True     | 34.67 |   True  |      False      | False  |       0        |      15      |    False    |  Male  |    40-44    |  White   |   Yes    |       True       |    Good   |     7     | False  |     False     |   False    |     Obese      |  Prime Adult   |\n",
       "|    False     | 32.28 |  False  |      False      | False  |       0        |      2       |    False    |  Male  |    18-24    |  Asian   |    No    |       True       |    Good   |     8     | False  |     False     |   False    |     Obese      |  Young Adult   |\n",
       "|    False     | 31.93 |  False  |      False      | False  |       0        |      0       |    False    | Female |    45-49    | Hispanic |    No    |       True       |    Fair   |     7     | False  |     False     |   False    |     Obese      |  Prime Adult   |\n",
       "|    False     | 20.67 |  False  |      False      | False  |       0        |      15      |    False    | Female |    35-39    |  Other   |    No    |       True       | Excellent |     8     |  True  |     False     |   False    | Healthy weight |  Prime Adult   |\n",
       "|    False     | 31.65 |   True  |      False      | False  |       6        |      0       |    False    |  Male  |    35-39    |  White   |    No    |       True       |    Good   |     8     | False  |     False     |   False    |     Obese      |  Prime Adult   |\n",
       "|    False     | 30.47 |  False  |      False      | False  |       0        |      0       |    False    | Female |    55-59    | Hispanic |    No    |       True       |    Good   |     6     | False  |     False     |   False    |     Obese      |  Mature Adult  |\n",
       "|     True     | 35.58 |   True  |      False      |  True  |       30       |      0       |     True    |  Male  |    55-59    |  White   |   Yes    |      False       |    Poor   |     8     | False  |     False     |   False    |     Obese      |  Mature Adult  |\n",
       "|    False     | 20.98 |  False  |      False      | False  |       0        |      0       |    False    | Female | 80 or older |  White   |    No    |      False       |    Good   |     8     | False  |     False     |   False    | Healthy weight | Senior Citizen |\n",
       "+--------------+-------+---------+-----------------+--------+----------------+--------------+-------------+--------+-------------+----------+----------+------------------+-----------+-----------+--------+---------------+------------+----------------+----------------+\n",
       "Truncated to displaylimit of 10."
      ]
     },
     "execution_count": 25,
     "metadata": {},
     "output_type": "execute_result"
    }
   ],
   "source": [
    "%%sql\n",
    "SELECT * FROM heartdisease\n",
    "LIMIT 10"
   ]
  },
  {
   "cell_type": "markdown",
   "id": "0b6b20fd-a3cc-46f6-a8e7-a5a48c924d5e",
   "metadata": {},
   "source": [
    "#### 2-8. Model data using dimensional modeling"
   ]
  },
  {
   "cell_type": "markdown",
   "id": "b6666503-b69a-4edc-866c-429f43ba38de",
   "metadata": {},
   "source": [
    "- Importing the `Image` class from the `IPython.display` module to display images within the Jupyter Notebook.\n",
    "- Using `Image(\"disease.jpg\", width=800)` to display the image file `disease.jpg` with a specified width of 800 pixels."
   ]
  },
  {
   "cell_type": "code",
   "execution_count": 1,
   "id": "c7652a24-dce0-40e0-a3a3-e4dfde166af1",
   "metadata": {},
   "outputs": [
    {
     "data": {
      "image/jpeg": "[encoded data removed]",
      "text/plain": [
       "<IPython.core.display.Image object>"
      ]
     },
     "execution_count": 1,
     "metadata": {
      "image/jpeg": {
       "width": 800
      }
     },
     "output_type": "execute_result"
    }
   ],
   "source": [
    "from IPython.display import Image\n",
    "Image(\"disease.jpg\", width=800) "
   ]
  },
  {
   "cell_type": "markdown",
   "id": "a5c25885-e29a-4dff-b632-5d66b823168a",
   "metadata": {},
   "source": [
    "#### 2-8-1. Dimension Table\n",
    "\n",
    "- Importing the `Image` class from the `IPython.display` module to display images within the Jupyter Notebook.\n",
    "- Using `Image(\"dimension.jpg\", width=800)` to display the image file `dimension.jpg` with a specified width of 800 pixels."
   ]
  },
  {
   "cell_type": "code",
   "execution_count": 2,
   "id": "a00db6c7-eed9-4a17-9248-2d56c78a2e65",
   "metadata": {},
   "outputs": [
    {
     "data": {
      "image/jpeg": "[encoded data removed]",
      "text/plain": [
       "<IPython.core.display.Image object>"
      ]
     },
     "execution_count": 2,
     "metadata": {
      "image/jpeg": {
       "width": 800
      }
     },
     "output_type": "execute_result"
    }
   ],
   "source": [
    "from IPython.display import Image\n",
    "Image(\"dimension.jpg\", width=800)  "
   ]
  },
  {
   "cell_type": "markdown",
   "id": "2a94a548-667f-4294-b1a9-6847ebb14829",
   "metadata": {},
   "source": [
    "#### 2-8-2. Create all dimension table"
   ]
  },
  {
   "cell_type": "markdown",
   "id": "dc7e28fb-98e9-46bc-b945-7ab26b58ab2a",
   "metadata": {},
   "source": [
    "#### A. Demographic dimension"
   ]
  },
  {
   "cell_type": "markdown",
   "id": "6975e16c-ff63-41e6-b005-1012fcd713d7",
   "metadata": {},
   "source": [
    "Survey main table \n",
    "\n",
    "- Using `%%sql` to execute SQL commands directly within the Jupyter Notebook.\n",
    "- The `SELECT DISTINCT` query retrieves unique combinations of the `Sex`, `AgeCategory`, `Age_Category` and `Race` columns from the `heartdisease` table.\n",
    "- The `ORDER BY Sex` clause sorts the results by the `Sex` column in ascending order."
   ]
  },
  {
   "cell_type": "code",
   "execution_count": 26,
   "id": "7bb8acfb-592e-4aa4-bb54-6727fd0be25a",
   "metadata": {},
   "outputs": [
    {
     "data": {
      "text/html": [
       "<span style=\"None\">Running query in &#x27;postgresql://postgres@/final_project&#x27;</span>"
      ],
      "text/plain": [
       "Running query in 'postgresql://postgres@/final_project'"
      ]
     },
     "metadata": {},
     "output_type": "display_data"
    },
    {
     "data": {
      "text/html": [
       "<span style=\"color: green\">10 rows affected.</span>"
      ],
      "text/plain": [
       "10 rows affected."
      ]
     },
     "metadata": {},
     "output_type": "display_data"
    },
    {
     "data": {
      "text/html": [
       "<table>\n",
       "    <thead>\n",
       "        <tr>\n",
       "            <th>sex</th>\n",
       "            <th>agecategory</th>\n",
       "            <th>age_category</th>\n",
       "            <th>race</th>\n",
       "        </tr>\n",
       "    </thead>\n",
       "    <tbody>\n",
       "        <tr>\n",
       "            <td>Female</td>\n",
       "            <td>65-69</td>\n",
       "            <td>Senior Citizen</td>\n",
       "            <td>American Indian/Alaskan Native</td>\n",
       "        </tr>\n",
       "        <tr>\n",
       "            <td>Female</td>\n",
       "            <td>75-79</td>\n",
       "            <td>Senior Citizen</td>\n",
       "            <td>Hispanic</td>\n",
       "        </tr>\n",
       "        <tr>\n",
       "            <td>Female</td>\n",
       "            <td>40-44</td>\n",
       "            <td>Prime Adult</td>\n",
       "            <td>American Indian/Alaskan Native</td>\n",
       "        </tr>\n",
       "        <tr>\n",
       "            <td>Female</td>\n",
       "            <td>80 or older</td>\n",
       "            <td>Senior Citizen</td>\n",
       "            <td>Other</td>\n",
       "        </tr>\n",
       "        <tr>\n",
       "            <td>Female</td>\n",
       "            <td>60-64</td>\n",
       "            <td>Mature Adult</td>\n",
       "            <td>American Indian/Alaskan Native</td>\n",
       "        </tr>\n",
       "        <tr>\n",
       "            <td>Female</td>\n",
       "            <td>30-34</td>\n",
       "            <td>Young Adult</td>\n",
       "            <td>White</td>\n",
       "        </tr>\n",
       "        <tr>\n",
       "            <td>Female</td>\n",
       "            <td>45-49</td>\n",
       "            <td>Prime Adult</td>\n",
       "            <td>Black</td>\n",
       "        </tr>\n",
       "        <tr>\n",
       "            <td>Female</td>\n",
       "            <td>30-34</td>\n",
       "            <td>Young Adult</td>\n",
       "            <td>Other</td>\n",
       "        </tr>\n",
       "        <tr>\n",
       "            <td>Female</td>\n",
       "            <td>18-24</td>\n",
       "            <td>Young Adult</td>\n",
       "            <td>Other</td>\n",
       "        </tr>\n",
       "        <tr>\n",
       "            <td>Female</td>\n",
       "            <td>30-34</td>\n",
       "            <td>Young Adult</td>\n",
       "            <td>Black</td>\n",
       "        </tr>\n",
       "    </tbody>\n",
       "</table>\n",
       "<span style=\"font-style:italic;text-align:center;\">Truncated to <a href=\"https://jupysql.ploomber.io/en/latest/api/configuration.html#displaylimit\">displaylimit</a> of 10.</span>"
      ],
      "text/plain": [
       "+--------+-------------+----------------+--------------------------------+\n",
       "|  sex   | agecategory |  age_category  |              race              |\n",
       "+--------+-------------+----------------+--------------------------------+\n",
       "| Female |    65-69    | Senior Citizen | American Indian/Alaskan Native |\n",
       "| Female |    75-79    | Senior Citizen |            Hispanic            |\n",
       "| Female |    40-44    |  Prime Adult   | American Indian/Alaskan Native |\n",
       "| Female | 80 or older | Senior Citizen |             Other              |\n",
       "| Female |    60-64    |  Mature Adult  | American Indian/Alaskan Native |\n",
       "| Female |    30-34    |  Young Adult   |             White              |\n",
       "| Female |    45-49    |  Prime Adult   |             Black              |\n",
       "| Female |    30-34    |  Young Adult   |             Other              |\n",
       "| Female |    18-24    |  Young Adult   |             Other              |\n",
       "| Female |    30-34    |  Young Adult   |             Black              |\n",
       "+--------+-------------+----------------+--------------------------------+\n",
       "Truncated to displaylimit of 10."
      ]
     },
     "execution_count": 26,
     "metadata": {},
     "output_type": "execute_result"
    }
   ],
   "source": [
    "%%sql\n",
    "SELECT DISTINCT sex, agecategory, age_category, Race\n",
    "FROM heartdisease\n",
    "ORDER BY sex\n",
    "LIMIT 10;"
   ]
  },
  {
   "cell_type": "markdown",
   "id": "3a390562-bc02-4516-98f6-fbdda466e19c",
   "metadata": {},
   "source": [
    "Create table\n",
    "\n",
    "- Using `%%sql` to execute SQL commands directly within the Jupyter Notebook.\n",
    "- The `DROP TABLE IF EXISTS demographic;` command ensures that if the `demographic` table already exists, it will be deleted before creating a new one.\n",
    "- The `CREATE TABLE` command creates a new table called `demographic` with the specified columns.\n",
    "- Each column is defined with a specific data type and a `NOT NULL` constraint, meaning values for these columns must be provided.\n",
    "- The table includes various Demographic attributes, such as `Sex`, `AgeCategory`, `Age_Category` and `Race`."
   ]
  },
  {
   "cell_type": "code",
   "execution_count": 27,
   "id": "eb24e134-ca00-48a4-ac6c-01d02f97f7a9",
   "metadata": {},
   "outputs": [
    {
     "data": {
      "text/html": [
       "<span style=\"None\">Running query in &#x27;postgresql://postgres@/final_project&#x27;</span>"
      ],
      "text/plain": [
       "Running query in 'postgresql://postgres@/final_project'"
      ]
     },
     "metadata": {},
     "output_type": "display_data"
    },
    {
     "data": {
      "text/html": [
       "<table>\n",
       "    <thead>\n",
       "        <tr>\n",
       "        </tr>\n",
       "    </thead>\n",
       "    <tbody>\n",
       "    </tbody>\n",
       "</table>"
      ],
      "text/plain": [
       "++\n",
       "||\n",
       "++\n",
       "++"
      ]
     },
     "execution_count": 27,
     "metadata": {},
     "output_type": "execute_result"
    }
   ],
   "source": [
    "%%sql\n",
    "DROP TABLE IF EXISTS demographic;\n",
    "\n",
    "CREATE TABLE demographic (\n",
    "    demographic_key SERIAL PRIMARY KEY,\n",
    "    Sex VARCHAR(10) NOT NULL,\n",
    "    Age VARCHAR(20) NOT NULL,\n",
    "    Age_Category VARCHAR(20) NOT NULL,\n",
    "    Race VARCHAR(30) NOT NULL\n",
    ");"
   ]
  },
  {
   "cell_type": "markdown",
   "id": "c93b133f-918e-4c75-be35-73f94a77aca8",
   "metadata": {},
   "source": [
    "Insert value from fact table \n",
    "\n",
    "- Using `%%sql` to execute SQL commands directly within the Jupyter Notebook.\n",
    "- The `INSERT INTO demographic` statement inserts distinct values into the `demographic` table for the columns `Sex`, `AgeCategory`, `Age_Category` and `Race`.\n",
    "- The `SELECT DISTINCT` query retrieves unique combinations of `Sex`, `AgeCategory`, and `Race` from the `heartdisease` table.\n",
    "- This operation helps populate the `demographic` table with unique demographic data from the `heartdisease` table without duplicates."
   ]
  },
  {
   "cell_type": "code",
   "execution_count": 28,
   "id": "cab42588-f2f9-4ae2-ade5-0476110ec2e9",
   "metadata": {},
   "outputs": [
    {
     "data": {
      "text/html": [
       "<span style=\"None\">Running query in &#x27;postgresql://postgres@/final_project&#x27;</span>"
      ],
      "text/plain": [
       "Running query in 'postgresql://postgres@/final_project'"
      ]
     },
     "metadata": {},
     "output_type": "display_data"
    },
    {
     "data": {
      "text/html": [
       "<span style=\"color: green\">156 rows affected.</span>"
      ],
      "text/plain": [
       "156 rows affected."
      ]
     },
     "metadata": {},
     "output_type": "display_data"
    },
    {
     "data": {
      "text/html": [
       "<table>\n",
       "    <thead>\n",
       "        <tr>\n",
       "        </tr>\n",
       "    </thead>\n",
       "    <tbody>\n",
       "    </tbody>\n",
       "</table>"
      ],
      "text/plain": [
       "++\n",
       "||\n",
       "++\n",
       "++"
      ]
     },
     "execution_count": 28,
     "metadata": {},
     "output_type": "execute_result"
    }
   ],
   "source": [
    "%%sql\n",
    "INSERT INTO demographic (sex, age, age_category, race)\n",
    "SELECT DISTINCT sex AS Sex, \n",
    "       agecategory AS Age,\n",
    "       age_category AS Age_Category,\n",
    "       race AS Race\n",
    "FROM heartdisease"
   ]
  },
  {
   "cell_type": "markdown",
   "id": "c838792e-162a-4c71-8427-19b6e1c7f2ea",
   "metadata": {},
   "source": [
    "Check if data was inserted as intended.\n",
    "\n",
    "- Using `%%sql` to execute SQL commands directly within the Jupyter Notebook.\n",
    "- The `SELECT *` query retrieves all columns from the `demographic` table.\n",
    "- The `LIMIT 10` clause restricts the result to the first 10 rows, providing a quick preview of the data stored in the `demographic` table."
   ]
  },
  {
   "cell_type": "code",
   "execution_count": 29,
   "id": "30110944-269c-4569-b082-8e26f295c5b6",
   "metadata": {},
   "outputs": [
    {
     "data": {
      "text/html": [
       "<span style=\"None\">Running query in &#x27;postgresql://postgres@/final_project&#x27;</span>"
      ],
      "text/plain": [
       "Running query in 'postgresql://postgres@/final_project'"
      ]
     },
     "metadata": {},
     "output_type": "display_data"
    },
    {
     "data": {
      "text/html": [
       "<span style=\"color: green\">10 rows affected.</span>"
      ],
      "text/plain": [
       "10 rows affected."
      ]
     },
     "metadata": {},
     "output_type": "display_data"
    },
    {
     "data": {
      "text/html": [
       "<table>\n",
       "    <thead>\n",
       "        <tr>\n",
       "            <th>demographic_key</th>\n",
       "            <th>sex</th>\n",
       "            <th>age</th>\n",
       "            <th>age_category</th>\n",
       "            <th>race</th>\n",
       "        </tr>\n",
       "    </thead>\n",
       "    <tbody>\n",
       "        <tr>\n",
       "            <td>1</td>\n",
       "            <td>Male</td>\n",
       "            <td>45-49</td>\n",
       "            <td>Prime Adult</td>\n",
       "            <td>Black</td>\n",
       "        </tr>\n",
       "        <tr>\n",
       "            <td>2</td>\n",
       "            <td>Female</td>\n",
       "            <td>30-34</td>\n",
       "            <td>Young Adult</td>\n",
       "            <td>Other</td>\n",
       "        </tr>\n",
       "        <tr>\n",
       "            <td>3</td>\n",
       "            <td>Female</td>\n",
       "            <td>75-79</td>\n",
       "            <td>Senior Citizen</td>\n",
       "            <td>Hispanic</td>\n",
       "        </tr>\n",
       "        <tr>\n",
       "            <td>4</td>\n",
       "            <td>Female</td>\n",
       "            <td>45-49</td>\n",
       "            <td>Prime Adult</td>\n",
       "            <td>Black</td>\n",
       "        </tr>\n",
       "        <tr>\n",
       "            <td>5</td>\n",
       "            <td>Female</td>\n",
       "            <td>80 or older</td>\n",
       "            <td>Senior Citizen</td>\n",
       "            <td>Other</td>\n",
       "        </tr>\n",
       "        <tr>\n",
       "            <td>6</td>\n",
       "            <td>Female</td>\n",
       "            <td>60-64</td>\n",
       "            <td>Mature Adult</td>\n",
       "            <td>American Indian/Alaskan Native</td>\n",
       "        </tr>\n",
       "        <tr>\n",
       "            <td>7</td>\n",
       "            <td>Female</td>\n",
       "            <td>30-34</td>\n",
       "            <td>Young Adult</td>\n",
       "            <td>White</td>\n",
       "        </tr>\n",
       "        <tr>\n",
       "            <td>8</td>\n",
       "            <td>Male</td>\n",
       "            <td>30-34</td>\n",
       "            <td>Young Adult</td>\n",
       "            <td>American Indian/Alaskan Native</td>\n",
       "        </tr>\n",
       "        <tr>\n",
       "            <td>9</td>\n",
       "            <td>Male</td>\n",
       "            <td>35-39</td>\n",
       "            <td>Prime Adult</td>\n",
       "            <td>White</td>\n",
       "        </tr>\n",
       "        <tr>\n",
       "            <td>10</td>\n",
       "            <td>Female</td>\n",
       "            <td>18-24</td>\n",
       "            <td>Young Adult</td>\n",
       "            <td>Other</td>\n",
       "        </tr>\n",
       "    </tbody>\n",
       "</table>\n",
       "<span style=\"font-style:italic;text-align:center;\">Truncated to <a href=\"https://jupysql.ploomber.io/en/latest/api/configuration.html#displaylimit\">displaylimit</a> of 10.</span>"
      ],
      "text/plain": [
       "+-----------------+--------+-------------+----------------+--------------------------------+\n",
       "| demographic_key |  sex   |     age     |  age_category  |              race              |\n",
       "+-----------------+--------+-------------+----------------+--------------------------------+\n",
       "|        1        |  Male  |    45-49    |  Prime Adult   |             Black              |\n",
       "|        2        | Female |    30-34    |  Young Adult   |             Other              |\n",
       "|        3        | Female |    75-79    | Senior Citizen |            Hispanic            |\n",
       "|        4        | Female |    45-49    |  Prime Adult   |             Black              |\n",
       "|        5        | Female | 80 or older | Senior Citizen |             Other              |\n",
       "|        6        | Female |    60-64    |  Mature Adult  | American Indian/Alaskan Native |\n",
       "|        7        | Female |    30-34    |  Young Adult   |             White              |\n",
       "|        8        |  Male  |    30-34    |  Young Adult   | American Indian/Alaskan Native |\n",
       "|        9        |  Male  |    35-39    |  Prime Adult   |             White              |\n",
       "|        10       | Female |    18-24    |  Young Adult   |             Other              |\n",
       "+-----------------+--------+-------------+----------------+--------------------------------+\n",
       "Truncated to displaylimit of 10."
      ]
     },
     "execution_count": 29,
     "metadata": {},
     "output_type": "execute_result"
    }
   ],
   "source": [
    "%%sql\n",
    "SELECT * FROM demographic LIMIT 10;"
   ]
  },
  {
   "cell_type": "markdown",
   "id": "6ad1fbe8-5002-4191-a674-db50478a5278",
   "metadata": {},
   "source": [
    "Add demographic_key to fact table\n",
    "\n",
    "- Using `%%sql` to execute SQL commands directly within the Jupyter Notebook.\n",
    "- The `ALTER TABLE heartdisease` statement modifies the `heartdisease` table by adding a new column called `demographic_key` of type `INTEGER`.\n",
    "- The `ADD CONSTRAINT fk_demographic_key` clause defines a foreign key constraint on the `demographic_key` column.\n",
    "- The `FOREIGN KEY (demographic_key) REFERENCES demographic (demographic_key)` part establishes a relationship between the `heartdisease` and `demographic` tables by referencing the `demographic_key` column in the `demographic` table. This enforces referential integrity between the two tables."
   ]
  },
  {
   "cell_type": "code",
   "execution_count": 30,
   "id": "b8647d69-7987-49ef-abdb-8f908944146d",
   "metadata": {},
   "outputs": [
    {
     "data": {
      "text/html": [
       "<span style=\"None\">Running query in &#x27;postgresql://postgres@/final_project&#x27;</span>"
      ],
      "text/plain": [
       "Running query in 'postgresql://postgres@/final_project'"
      ]
     },
     "metadata": {},
     "output_type": "display_data"
    },
    {
     "data": {
      "text/html": [
       "<table>\n",
       "    <thead>\n",
       "        <tr>\n",
       "        </tr>\n",
       "    </thead>\n",
       "    <tbody>\n",
       "    </tbody>\n",
       "</table>"
      ],
      "text/plain": [
       "++\n",
       "||\n",
       "++\n",
       "++"
      ]
     },
     "execution_count": 30,
     "metadata": {},
     "output_type": "execute_result"
    }
   ],
   "source": [
    "%%sql\n",
    "ALTER TABLE heartdisease\n",
    "ADD COLUMN demographic_key INTEGER,\n",
    "ADD CONSTRAINT fk_demographic_key\n",
    "    FOREIGN KEY (demographic_key)\n",
    "    REFERENCES demographic (demographic_key);"
   ]
  },
  {
   "cell_type": "markdown",
   "id": "661854d0-c0f2-4cd1-ac7e-117f15347041",
   "metadata": {},
   "source": [
    "Check if the demographic_key column has been added to the heartdisease table as intended."
   ]
  },
  {
   "cell_type": "code",
   "execution_count": 31,
   "id": "a971614f-8dfe-45f9-8ba8-9a82fde1f3f6",
   "metadata": {},
   "outputs": [
    {
     "data": {
      "text/html": [
       "<span style=\"None\">Running query in &#x27;postgresql://postgres@/final_project&#x27;</span>"
      ],
      "text/plain": [
       "Running query in 'postgresql://postgres@/final_project'"
      ]
     },
     "metadata": {},
     "output_type": "display_data"
    },
    {
     "data": {
      "text/html": [
       "<span style=\"color: green\">10 rows affected.</span>"
      ],
      "text/plain": [
       "10 rows affected."
      ]
     },
     "metadata": {},
     "output_type": "display_data"
    },
    {
     "data": {
      "text/html": [
       "<table>\n",
       "    <thead>\n",
       "        <tr>\n",
       "            <th>heartdisease</th>\n",
       "            <th>bmi</th>\n",
       "            <th>smoking</th>\n",
       "            <th>alcoholdrinking</th>\n",
       "            <th>stroke</th>\n",
       "            <th>physicalhealth</th>\n",
       "            <th>mentalhealth</th>\n",
       "            <th>diffwalking</th>\n",
       "            <th>sex</th>\n",
       "            <th>agecategory</th>\n",
       "            <th>race</th>\n",
       "            <th>diabetic</th>\n",
       "            <th>physicalactivity</th>\n",
       "            <th>genhealth</th>\n",
       "            <th>sleeptime</th>\n",
       "            <th>asthma</th>\n",
       "            <th>kidneydisease</th>\n",
       "            <th>skincancer</th>\n",
       "            <th>bmicategory</th>\n",
       "            <th>age_category</th>\n",
       "            <th>demographic_key</th>\n",
       "        </tr>\n",
       "    </thead>\n",
       "    <tbody>\n",
       "        <tr>\n",
       "            <td>False</td>\n",
       "            <td>20.98</td>\n",
       "            <td>False</td>\n",
       "            <td>False</td>\n",
       "            <td>False</td>\n",
       "            <td>0</td>\n",
       "            <td>0</td>\n",
       "            <td>False</td>\n",
       "            <td>Female</td>\n",
       "            <td>80 or older</td>\n",
       "            <td>White</td>\n",
       "            <td>No</td>\n",
       "            <td>False</td>\n",
       "            <td>Good</td>\n",
       "            <td>8</td>\n",
       "            <td>False</td>\n",
       "            <td>False</td>\n",
       "            <td>False</td>\n",
       "            <td>Healthy weight</td>\n",
       "            <td>Senior Citizen</td>\n",
       "            <td>None</td>\n",
       "        </tr>\n",
       "        <tr>\n",
       "            <td>False</td>\n",
       "            <td>29.50</td>\n",
       "            <td>True</td>\n",
       "            <td>False</td>\n",
       "            <td>False</td>\n",
       "            <td>0</td>\n",
       "            <td>10</td>\n",
       "            <td>False</td>\n",
       "            <td>Male</td>\n",
       "            <td>45-49</td>\n",
       "            <td>Asian</td>\n",
       "            <td>No</td>\n",
       "            <td>True</td>\n",
       "            <td>Good</td>\n",
       "            <td>8</td>\n",
       "            <td>False</td>\n",
       "            <td>False</td>\n",
       "            <td>False</td>\n",
       "            <td>Overweight</td>\n",
       "            <td>Prime Adult</td>\n",
       "            <td>None</td>\n",
       "        </tr>\n",
       "        <tr>\n",
       "            <td>False</td>\n",
       "            <td>23.49</td>\n",
       "            <td>False</td>\n",
       "            <td>False</td>\n",
       "            <td>False</td>\n",
       "            <td>0</td>\n",
       "            <td>0</td>\n",
       "            <td>False</td>\n",
       "            <td>Female</td>\n",
       "            <td>55-59</td>\n",
       "            <td>White</td>\n",
       "            <td>No</td>\n",
       "            <td>True</td>\n",
       "            <td>Excellent</td>\n",
       "            <td>7</td>\n",
       "            <td>False</td>\n",
       "            <td>False</td>\n",
       "            <td>False</td>\n",
       "            <td>Healthy weight</td>\n",
       "            <td>Mature Adult</td>\n",
       "            <td>None</td>\n",
       "        </tr>\n",
       "        <tr>\n",
       "            <td>False</td>\n",
       "            <td>32.61</td>\n",
       "            <td>False</td>\n",
       "            <td>False</td>\n",
       "            <td>True</td>\n",
       "            <td>30</td>\n",
       "            <td>30</td>\n",
       "            <td>True</td>\n",
       "            <td>Female</td>\n",
       "            <td>80 or older</td>\n",
       "            <td>White</td>\n",
       "            <td>No</td>\n",
       "            <td>True</td>\n",
       "            <td>Poor</td>\n",
       "            <td>8</td>\n",
       "            <td>True</td>\n",
       "            <td>False</td>\n",
       "            <td>True</td>\n",
       "            <td>Obese</td>\n",
       "            <td>Senior Citizen</td>\n",
       "            <td>None</td>\n",
       "        </tr>\n",
       "        <tr>\n",
       "            <td>False</td>\n",
       "            <td>37.59</td>\n",
       "            <td>True</td>\n",
       "            <td>False</td>\n",
       "            <td>False</td>\n",
       "            <td>0</td>\n",
       "            <td>0</td>\n",
       "            <td>False</td>\n",
       "            <td>Male</td>\n",
       "            <td>70-74</td>\n",
       "            <td>White</td>\n",
       "            <td>No</td>\n",
       "            <td>True</td>\n",
       "            <td>Good</td>\n",
       "            <td>5</td>\n",
       "            <td>False</td>\n",
       "            <td>False</td>\n",
       "            <td>True</td>\n",
       "            <td>Obese</td>\n",
       "            <td>Senior Citizen</td>\n",
       "            <td>None</td>\n",
       "        </tr>\n",
       "        <tr>\n",
       "            <td>False</td>\n",
       "            <td>35.87</td>\n",
       "            <td>False</td>\n",
       "            <td>False</td>\n",
       "            <td>False</td>\n",
       "            <td>0</td>\n",
       "            <td>0</td>\n",
       "            <td>False</td>\n",
       "            <td>Male</td>\n",
       "            <td>65-69</td>\n",
       "            <td>White</td>\n",
       "            <td>No</td>\n",
       "            <td>True</td>\n",
       "            <td>Good</td>\n",
       "            <td>7</td>\n",
       "            <td>False</td>\n",
       "            <td>False</td>\n",
       "            <td>False</td>\n",
       "            <td>Obese</td>\n",
       "            <td>Senior Citizen</td>\n",
       "            <td>None</td>\n",
       "        </tr>\n",
       "        <tr>\n",
       "            <td>False</td>\n",
       "            <td>32.55</td>\n",
       "            <td>True</td>\n",
       "            <td>False</td>\n",
       "            <td>False</td>\n",
       "            <td>0</td>\n",
       "            <td>0</td>\n",
       "            <td>True</td>\n",
       "            <td>Male</td>\n",
       "            <td>70-74</td>\n",
       "            <td>White</td>\n",
       "            <td>Yes</td>\n",
       "            <td>False</td>\n",
       "            <td>Fair</td>\n",
       "            <td>6</td>\n",
       "            <td>False</td>\n",
       "            <td>False</td>\n",
       "            <td>False</td>\n",
       "            <td>Obese</td>\n",
       "            <td>Senior Citizen</td>\n",
       "            <td>None</td>\n",
       "        </tr>\n",
       "        <tr>\n",
       "            <td>False</td>\n",
       "            <td>32.49</td>\n",
       "            <td>True</td>\n",
       "            <td>False</td>\n",
       "            <td>False</td>\n",
       "            <td>1</td>\n",
       "            <td>30</td>\n",
       "            <td>False</td>\n",
       "            <td>Male</td>\n",
       "            <td>18-24</td>\n",
       "            <td>White</td>\n",
       "            <td>No</td>\n",
       "            <td>False</td>\n",
       "            <td>Good</td>\n",
       "            <td>8</td>\n",
       "            <td>False</td>\n",
       "            <td>False</td>\n",
       "            <td>False</td>\n",
       "            <td>Obese</td>\n",
       "            <td>Young Adult</td>\n",
       "            <td>None</td>\n",
       "        </tr>\n",
       "        <tr>\n",
       "            <td>False</td>\n",
       "            <td>38.00</td>\n",
       "            <td>True</td>\n",
       "            <td>False</td>\n",
       "            <td>False</td>\n",
       "            <td>0</td>\n",
       "            <td>0</td>\n",
       "            <td>False</td>\n",
       "            <td>Male</td>\n",
       "            <td>30-34</td>\n",
       "            <td>White</td>\n",
       "            <td>No</td>\n",
       "            <td>True</td>\n",
       "            <td>Good</td>\n",
       "            <td>5</td>\n",
       "            <td>True</td>\n",
       "            <td>False</td>\n",
       "            <td>False</td>\n",
       "            <td>Obese</td>\n",
       "            <td>Young Adult</td>\n",
       "            <td>None</td>\n",
       "        </tr>\n",
       "        <tr>\n",
       "            <td>False</td>\n",
       "            <td>30.99</td>\n",
       "            <td>False</td>\n",
       "            <td>False</td>\n",
       "            <td>False</td>\n",
       "            <td>0</td>\n",
       "            <td>0</td>\n",
       "            <td>False</td>\n",
       "            <td>Male</td>\n",
       "            <td>55-59</td>\n",
       "            <td>White</td>\n",
       "            <td>No</td>\n",
       "            <td>False</td>\n",
       "            <td>Fair</td>\n",
       "            <td>6</td>\n",
       "            <td>False</td>\n",
       "            <td>False</td>\n",
       "            <td>True</td>\n",
       "            <td>Obese</td>\n",
       "            <td>Mature Adult</td>\n",
       "            <td>None</td>\n",
       "        </tr>\n",
       "    </tbody>\n",
       "</table>\n",
       "<span style=\"font-style:italic;text-align:center;\">Truncated to <a href=\"https://jupysql.ploomber.io/en/latest/api/configuration.html#displaylimit\">displaylimit</a> of 10.</span>"
      ],
      "text/plain": [
       "+--------------+-------+---------+-----------------+--------+----------------+--------------+-------------+--------+-------------+-------+----------+------------------+-----------+-----------+--------+---------------+------------+----------------+----------------+-----------------+\n",
       "| heartdisease |  bmi  | smoking | alcoholdrinking | stroke | physicalhealth | mentalhealth | diffwalking |  sex   | agecategory |  race | diabetic | physicalactivity | genhealth | sleeptime | asthma | kidneydisease | skincancer |  bmicategory   |  age_category  | demographic_key |\n",
       "+--------------+-------+---------+-----------------+--------+----------------+--------------+-------------+--------+-------------+-------+----------+------------------+-----------+-----------+--------+---------------+------------+----------------+----------------+-----------------+\n",
       "|    False     | 20.98 |  False  |      False      | False  |       0        |      0       |    False    | Female | 80 or older | White |    No    |      False       |    Good   |     8     | False  |     False     |   False    | Healthy weight | Senior Citizen |       None      |\n",
       "|    False     | 29.50 |   True  |      False      | False  |       0        |      10      |    False    |  Male  |    45-49    | Asian |    No    |       True       |    Good   |     8     | False  |     False     |   False    |   Overweight   |  Prime Adult   |       None      |\n",
       "|    False     | 23.49 |  False  |      False      | False  |       0        |      0       |    False    | Female |    55-59    | White |    No    |       True       | Excellent |     7     | False  |     False     |   False    | Healthy weight |  Mature Adult  |       None      |\n",
       "|    False     | 32.61 |  False  |      False      |  True  |       30       |      30      |     True    | Female | 80 or older | White |    No    |       True       |    Poor   |     8     |  True  |     False     |    True    |     Obese      | Senior Citizen |       None      |\n",
       "|    False     | 37.59 |   True  |      False      | False  |       0        |      0       |    False    |  Male  |    70-74    | White |    No    |       True       |    Good   |     5     | False  |     False     |    True    |     Obese      | Senior Citizen |       None      |\n",
       "|    False     | 35.87 |  False  |      False      | False  |       0        |      0       |    False    |  Male  |    65-69    | White |    No    |       True       |    Good   |     7     | False  |     False     |   False    |     Obese      | Senior Citizen |       None      |\n",
       "|    False     | 32.55 |   True  |      False      | False  |       0        |      0       |     True    |  Male  |    70-74    | White |   Yes    |      False       |    Fair   |     6     | False  |     False     |   False    |     Obese      | Senior Citizen |       None      |\n",
       "|    False     | 32.49 |   True  |      False      | False  |       1        |      30      |    False    |  Male  |    18-24    | White |    No    |      False       |    Good   |     8     | False  |     False     |   False    |     Obese      |  Young Adult   |       None      |\n",
       "|    False     | 38.00 |   True  |      False      | False  |       0        |      0       |    False    |  Male  |    30-34    | White |    No    |       True       |    Good   |     5     |  True  |     False     |   False    |     Obese      |  Young Adult   |       None      |\n",
       "|    False     | 30.99 |  False  |      False      | False  |       0        |      0       |    False    |  Male  |    55-59    | White |    No    |      False       |    Fair   |     6     | False  |     False     |    True    |     Obese      |  Mature Adult  |       None      |\n",
       "+--------------+-------+---------+-----------------+--------+----------------+--------------+-------------+--------+-------------+-------+----------+------------------+-----------+-----------+--------+---------------+------------+----------------+----------------+-----------------+\n",
       "Truncated to displaylimit of 10."
      ]
     },
     "execution_count": 31,
     "metadata": {},
     "output_type": "execute_result"
    }
   ],
   "source": [
    "%%sql \n",
    "SELECT * FROM heartdisease LIMIT 10;"
   ]
  },
  {
   "cell_type": "markdown",
   "id": "185ee0be-9a91-44f1-8678-87526890c2d5",
   "metadata": {},
   "source": [
    "Link demographic_key by the variable \"Sex\", \"AgeCategory\",\"Age_Category\" \"Race\"\n",
    "\n",
    "- Using `%%sql` to execute SQL commands directly within the Jupyter Notebook.\n",
    "- The `UPDATE heartdisease` statement updates the `heartdisease` table by setting the `demographic_key` column.\n",
    "- The `SET demographic_key = demographic.demographic_key` clause assigns the value of the `demographic_key` from the `demographic` table to the `heartdisease` table.\n",
    "- The `FROM demographic` clause specifies the source table for the update.\n",
    "- The `WHERE` clause ensures that the update occurs only when there is a match between the `Sex`, `AgeCategory`, `Age_Category` and `Race` columns in both the `heartdisease` and `demographic` tables, establishing the correct relationship between the tables."
   ]
  },
  {
   "cell_type": "code",
   "execution_count": 32,
   "id": "c62477b4-0880-4c04-8e6b-684087bd0b1f",
   "metadata": {},
   "outputs": [
    {
     "data": {
      "text/html": [
       "<span style=\"None\">Running query in &#x27;postgresql://postgres@/final_project&#x27;</span>"
      ],
      "text/plain": [
       "Running query in 'postgresql://postgres@/final_project'"
      ]
     },
     "metadata": {},
     "output_type": "display_data"
    },
    {
     "data": {
      "text/html": [
       "<span style=\"color: green\">319795 rows affected.</span>"
      ],
      "text/plain": [
       "319795 rows affected."
      ]
     },
     "metadata": {},
     "output_type": "display_data"
    },
    {
     "data": {
      "text/html": [
       "<table>\n",
       "    <thead>\n",
       "        <tr>\n",
       "        </tr>\n",
       "    </thead>\n",
       "    <tbody>\n",
       "    </tbody>\n",
       "</table>"
      ],
      "text/plain": [
       "++\n",
       "||\n",
       "++\n",
       "++"
      ]
     },
     "execution_count": 32,
     "metadata": {},
     "output_type": "execute_result"
    }
   ],
   "source": [
    "%%sql\n",
    "UPDATE heartdisease\n",
    "SET demographic_key = demographic.demographic_key\n",
    "FROM demographic\n",
    "WHERE heartdisease.Sex = demographic.Sex\n",
    "    AND heartdisease.AgeCategory = demographic.Age\n",
    "    AND heartdisease.age_category = demographic.Age_Category\n",
    "    AND heartdisease.Race = demographic.Race\n",
    "    ; "
   ]
  },
  {
   "cell_type": "markdown",
   "id": "35e45165-361a-4b57-979b-f1cc67c384a6",
   "metadata": {},
   "source": [
    "Check if the link between both table is working as intended."
   ]
  },
  {
   "cell_type": "code",
   "execution_count": 33,
   "id": "d298eacb-a7c6-4dd9-99e8-ed8e67fff1fe",
   "metadata": {},
   "outputs": [
    {
     "data": {
      "text/html": [
       "<span style=\"None\">Running query in &#x27;postgresql://postgres@/final_project&#x27;</span>"
      ],
      "text/plain": [
       "Running query in 'postgresql://postgres@/final_project'"
      ]
     },
     "metadata": {},
     "output_type": "display_data"
    },
    {
     "data": {
      "text/html": [
       "<span style=\"color: green\">10 rows affected.</span>"
      ],
      "text/plain": [
       "10 rows affected."
      ]
     },
     "metadata": {},
     "output_type": "display_data"
    },
    {
     "data": {
      "text/html": [
       "<table>\n",
       "    <thead>\n",
       "        <tr>\n",
       "            <th>heartdisease</th>\n",
       "            <th>bmi</th>\n",
       "            <th>smoking</th>\n",
       "            <th>alcoholdrinking</th>\n",
       "            <th>stroke</th>\n",
       "            <th>physicalhealth</th>\n",
       "            <th>mentalhealth</th>\n",
       "            <th>diffwalking</th>\n",
       "            <th>sex</th>\n",
       "            <th>agecategory</th>\n",
       "            <th>race</th>\n",
       "            <th>diabetic</th>\n",
       "            <th>physicalactivity</th>\n",
       "            <th>genhealth</th>\n",
       "            <th>sleeptime</th>\n",
       "            <th>asthma</th>\n",
       "            <th>kidneydisease</th>\n",
       "            <th>skincancer</th>\n",
       "            <th>bmicategory</th>\n",
       "            <th>age_category</th>\n",
       "            <th>demographic_key</th>\n",
       "        </tr>\n",
       "    </thead>\n",
       "    <tbody>\n",
       "        <tr>\n",
       "            <td>False</td>\n",
       "            <td>35.44</td>\n",
       "            <td>False</td>\n",
       "            <td>False</td>\n",
       "            <td>False</td>\n",
       "            <td>0</td>\n",
       "            <td>0</td>\n",
       "            <td>False</td>\n",
       "            <td>Female</td>\n",
       "            <td>65-69</td>\n",
       "            <td>Hispanic</td>\n",
       "            <td>Yes</td>\n",
       "            <td>False</td>\n",
       "            <td>Good</td>\n",
       "            <td>8</td>\n",
       "            <td>False</td>\n",
       "            <td>False</td>\n",
       "            <td>False</td>\n",
       "            <td>Obese</td>\n",
       "            <td>Senior Citizen</td>\n",
       "            <td>144</td>\n",
       "        </tr>\n",
       "        <tr>\n",
       "            <td>False</td>\n",
       "            <td>24.89</td>\n",
       "            <td>False</td>\n",
       "            <td>False</td>\n",
       "            <td>False</td>\n",
       "            <td>0</td>\n",
       "            <td>7</td>\n",
       "            <td>False</td>\n",
       "            <td>Female</td>\n",
       "            <td>18-24</td>\n",
       "            <td>Hispanic</td>\n",
       "            <td>No</td>\n",
       "            <td>True</td>\n",
       "            <td>Excellent</td>\n",
       "            <td>8</td>\n",
       "            <td>False</td>\n",
       "            <td>False</td>\n",
       "            <td>False</td>\n",
       "            <td>Healthy weight</td>\n",
       "            <td>Young Adult</td>\n",
       "            <td>143</td>\n",
       "        </tr>\n",
       "        <tr>\n",
       "            <td>False</td>\n",
       "            <td>34.08</td>\n",
       "            <td>True</td>\n",
       "            <td>False</td>\n",
       "            <td>False</td>\n",
       "            <td>0</td>\n",
       "            <td>0</td>\n",
       "            <td>False</td>\n",
       "            <td>Male</td>\n",
       "            <td>40-44</td>\n",
       "            <td>White</td>\n",
       "            <td>No</td>\n",
       "            <td>False</td>\n",
       "            <td>Very good</td>\n",
       "            <td>6</td>\n",
       "            <td>False</td>\n",
       "            <td>False</td>\n",
       "            <td>False</td>\n",
       "            <td>Obese</td>\n",
       "            <td>Prime Adult</td>\n",
       "            <td>140</td>\n",
       "        </tr>\n",
       "        <tr>\n",
       "            <td>False</td>\n",
       "            <td>26.63</td>\n",
       "            <td>False</td>\n",
       "            <td>True</td>\n",
       "            <td>False</td>\n",
       "            <td>0</td>\n",
       "            <td>5</td>\n",
       "            <td>False</td>\n",
       "            <td>Female</td>\n",
       "            <td>18-24</td>\n",
       "            <td>White</td>\n",
       "            <td>No</td>\n",
       "            <td>True</td>\n",
       "            <td>Very good</td>\n",
       "            <td>6</td>\n",
       "            <td>False</td>\n",
       "            <td>False</td>\n",
       "            <td>False</td>\n",
       "            <td>Overweight</td>\n",
       "            <td>Young Adult</td>\n",
       "            <td>100</td>\n",
       "        </tr>\n",
       "        <tr>\n",
       "            <td>True</td>\n",
       "            <td>29.41</td>\n",
       "            <td>True</td>\n",
       "            <td>False</td>\n",
       "            <td>False</td>\n",
       "            <td>30</td>\n",
       "            <td>30</td>\n",
       "            <td>True</td>\n",
       "            <td>Male</td>\n",
       "            <td>70-74</td>\n",
       "            <td>American Indian/Alaskan Native</td>\n",
       "            <td>Yes</td>\n",
       "            <td>False</td>\n",
       "            <td>Poor</td>\n",
       "            <td>10</td>\n",
       "            <td>False</td>\n",
       "            <td>True</td>\n",
       "            <td>True</td>\n",
       "            <td>Overweight</td>\n",
       "            <td>Senior Citizen</td>\n",
       "            <td>88</td>\n",
       "        </tr>\n",
       "        <tr>\n",
       "            <td>False</td>\n",
       "            <td>29.13</td>\n",
       "            <td>False</td>\n",
       "            <td>False</td>\n",
       "            <td>False</td>\n",
       "            <td>15</td>\n",
       "            <td>10</td>\n",
       "            <td>False</td>\n",
       "            <td>Female</td>\n",
       "            <td>60-64</td>\n",
       "            <td>White</td>\n",
       "            <td>No</td>\n",
       "            <td>True</td>\n",
       "            <td>Very good</td>\n",
       "            <td>7</td>\n",
       "            <td>False</td>\n",
       "            <td>False</td>\n",
       "            <td>True</td>\n",
       "            <td>Overweight</td>\n",
       "            <td>Mature Adult</td>\n",
       "            <td>150</td>\n",
       "        </tr>\n",
       "        <tr>\n",
       "            <td>False</td>\n",
       "            <td>32.03</td>\n",
       "            <td>False</td>\n",
       "            <td>False</td>\n",
       "            <td>False</td>\n",
       "            <td>0</td>\n",
       "            <td>30</td>\n",
       "            <td>False</td>\n",
       "            <td>Female</td>\n",
       "            <td>35-39</td>\n",
       "            <td>Hispanic</td>\n",
       "            <td>No</td>\n",
       "            <td>False</td>\n",
       "            <td>Good</td>\n",
       "            <td>7</td>\n",
       "            <td>False</td>\n",
       "            <td>False</td>\n",
       "            <td>False</td>\n",
       "            <td>Obese</td>\n",
       "            <td>Prime Adult</td>\n",
       "            <td>82</td>\n",
       "        </tr>\n",
       "        <tr>\n",
       "            <td>False</td>\n",
       "            <td>40.44</td>\n",
       "            <td>True</td>\n",
       "            <td>False</td>\n",
       "            <td>False</td>\n",
       "            <td>0</td>\n",
       "            <td>0</td>\n",
       "            <td>False</td>\n",
       "            <td>Male</td>\n",
       "            <td>35-39</td>\n",
       "            <td>White</td>\n",
       "            <td>No</td>\n",
       "            <td>True</td>\n",
       "            <td>Good</td>\n",
       "            <td>7</td>\n",
       "            <td>False</td>\n",
       "            <td>False</td>\n",
       "            <td>False</td>\n",
       "            <td>Severly Obese</td>\n",
       "            <td>Prime Adult</td>\n",
       "            <td>9</td>\n",
       "        </tr>\n",
       "        <tr>\n",
       "            <td>False</td>\n",
       "            <td>26.63</td>\n",
       "            <td>True</td>\n",
       "            <td>True</td>\n",
       "            <td>False</td>\n",
       "            <td>3</td>\n",
       "            <td>5</td>\n",
       "            <td>False</td>\n",
       "            <td>Female</td>\n",
       "            <td>55-59</td>\n",
       "            <td>Hispanic</td>\n",
       "            <td>No</td>\n",
       "            <td>True</td>\n",
       "            <td>Very good</td>\n",
       "            <td>6</td>\n",
       "            <td>False</td>\n",
       "            <td>False</td>\n",
       "            <td>False</td>\n",
       "            <td>Overweight</td>\n",
       "            <td>Mature Adult</td>\n",
       "            <td>146</td>\n",
       "        </tr>\n",
       "        <tr>\n",
       "            <td>False</td>\n",
       "            <td>22.69</td>\n",
       "            <td>True</td>\n",
       "            <td>False</td>\n",
       "            <td>False</td>\n",
       "            <td>0</td>\n",
       "            <td>0</td>\n",
       "            <td>False</td>\n",
       "            <td>Male</td>\n",
       "            <td>35-39</td>\n",
       "            <td>White</td>\n",
       "            <td>No</td>\n",
       "            <td>True</td>\n",
       "            <td>Excellent</td>\n",
       "            <td>7</td>\n",
       "            <td>False</td>\n",
       "            <td>False</td>\n",
       "            <td>False</td>\n",
       "            <td>Healthy weight</td>\n",
       "            <td>Prime Adult</td>\n",
       "            <td>9</td>\n",
       "        </tr>\n",
       "    </tbody>\n",
       "</table>\n",
       "<span style=\"font-style:italic;text-align:center;\">Truncated to <a href=\"https://jupysql.ploomber.io/en/latest/api/configuration.html#displaylimit\">displaylimit</a> of 10.</span>"
      ],
      "text/plain": [
       "+--------------+-------+---------+-----------------+--------+----------------+--------------+-------------+--------+-------------+--------------------------------+----------+------------------+-----------+-----------+--------+---------------+------------+----------------+----------------+-----------------+\n",
       "| heartdisease |  bmi  | smoking | alcoholdrinking | stroke | physicalhealth | mentalhealth | diffwalking |  sex   | agecategory |              race              | diabetic | physicalactivity | genhealth | sleeptime | asthma | kidneydisease | skincancer |  bmicategory   |  age_category  | demographic_key |\n",
       "+--------------+-------+---------+-----------------+--------+----------------+--------------+-------------+--------+-------------+--------------------------------+----------+------------------+-----------+-----------+--------+---------------+------------+----------------+----------------+-----------------+\n",
       "|    False     | 35.44 |  False  |      False      | False  |       0        |      0       |    False    | Female |    65-69    |            Hispanic            |   Yes    |      False       |    Good   |     8     | False  |     False     |   False    |     Obese      | Senior Citizen |       144       |\n",
       "|    False     | 24.89 |  False  |      False      | False  |       0        |      7       |    False    | Female |    18-24    |            Hispanic            |    No    |       True       | Excellent |     8     | False  |     False     |   False    | Healthy weight |  Young Adult   |       143       |\n",
       "|    False     | 34.08 |   True  |      False      | False  |       0        |      0       |    False    |  Male  |    40-44    |             White              |    No    |      False       | Very good |     6     | False  |     False     |   False    |     Obese      |  Prime Adult   |       140       |\n",
       "|    False     | 26.63 |  False  |       True      | False  |       0        |      5       |    False    | Female |    18-24    |             White              |    No    |       True       | Very good |     6     | False  |     False     |   False    |   Overweight   |  Young Adult   |       100       |\n",
       "|     True     | 29.41 |   True  |      False      | False  |       30       |      30      |     True    |  Male  |    70-74    | American Indian/Alaskan Native |   Yes    |      False       |    Poor   |     10    | False  |      True     |    True    |   Overweight   | Senior Citizen |        88       |\n",
       "|    False     | 29.13 |  False  |      False      | False  |       15       |      10      |    False    | Female |    60-64    |             White              |    No    |       True       | Very good |     7     | False  |     False     |    True    |   Overweight   |  Mature Adult  |       150       |\n",
       "|    False     | 32.03 |  False  |      False      | False  |       0        |      30      |    False    | Female |    35-39    |            Hispanic            |    No    |      False       |    Good   |     7     | False  |     False     |   False    |     Obese      |  Prime Adult   |        82       |\n",
       "|    False     | 40.44 |   True  |      False      | False  |       0        |      0       |    False    |  Male  |    35-39    |             White              |    No    |       True       |    Good   |     7     | False  |     False     |   False    | Severly Obese  |  Prime Adult   |        9        |\n",
       "|    False     | 26.63 |   True  |       True      | False  |       3        |      5       |    False    | Female |    55-59    |            Hispanic            |    No    |       True       | Very good |     6     | False  |     False     |   False    |   Overweight   |  Mature Adult  |       146       |\n",
       "|    False     | 22.69 |   True  |      False      | False  |       0        |      0       |    False    |  Male  |    35-39    |             White              |    No    |       True       | Excellent |     7     | False  |     False     |   False    | Healthy weight |  Prime Adult   |        9        |\n",
       "+--------------+-------+---------+-----------------+--------+----------------+--------------+-------------+--------+-------------+--------------------------------+----------+------------------+-----------+-----------+--------+---------------+------------+----------------+----------------+-----------------+\n",
       "Truncated to displaylimit of 10."
      ]
     },
     "execution_count": 33,
     "metadata": {},
     "output_type": "execute_result"
    }
   ],
   "source": [
    "%%sql \n",
    "SELECT * FROM heartdisease LIMIT 10;"
   ]
  },
  {
   "cell_type": "markdown",
   "id": "78611d62-03f1-4935-8044-7043796caade",
   "metadata": {},
   "source": [
    "Drop the transfered columns from heartdisease table.\n",
    "\n",
    "- Using `%%sql` to execute SQL commands directly within the Jupyter Notebook.\n",
    "- The `ALTER TABLE heartdisease` statement modifies the `heartdisease` table by removing three columns: `Sex`, `AgeCategory`, `Age_Category`and `Race`.\n",
    "- The `DROP COLUMN` clause is used to delete these columns, because their data has already been integrated into the `demographic_key` column, and the columns are no longer necessary for analysis."
   ]
  },
  {
   "cell_type": "code",
   "execution_count": 34,
   "id": "a19517db-04f4-4cad-9e03-01019de4e69d",
   "metadata": {},
   "outputs": [
    {
     "data": {
      "text/html": [
       "<span style=\"None\">Running query in &#x27;postgresql://postgres@/final_project&#x27;</span>"
      ],
      "text/plain": [
       "Running query in 'postgresql://postgres@/final_project'"
      ]
     },
     "metadata": {},
     "output_type": "display_data"
    },
    {
     "data": {
      "text/html": [
       "<table>\n",
       "    <thead>\n",
       "        <tr>\n",
       "        </tr>\n",
       "    </thead>\n",
       "    <tbody>\n",
       "    </tbody>\n",
       "</table>"
      ],
      "text/plain": [
       "++\n",
       "||\n",
       "++\n",
       "++"
      ]
     },
     "execution_count": 34,
     "metadata": {},
     "output_type": "execute_result"
    }
   ],
   "source": [
    "%%sql\n",
    "ALTER TABLE heartdisease \n",
    "DROP COLUMN Sex,\n",
    "DROP COLUMN AgeCategory,\n",
    "DROP COLUMN Race,\n",
    "DROP COLUMN age_category\n",
    "    ;"
   ]
  },
  {
   "cell_type": "markdown",
   "id": "8c600590-4fd8-4ced-b9c9-72eafd0c6e35",
   "metadata": {},
   "source": [
    "#### B. OtherDisease dimension\n",
    "The same process as creating demographic table."
   ]
  },
  {
   "cell_type": "markdown",
   "id": "31e7415c-e62c-4356-aceb-0acf176a26fe",
   "metadata": {},
   "source": [
    "Create table\n",
    "\n",
    "- Using `%%sql` to execute SQL commands directly within the Jupyter Notebook.\n",
    "- The `DROP TABLE IF EXISTS otherdisease;` command ensures that if the `otherdisease` table already exists, it will be deleted before creating a new one.\n",
    "- The `CREATE TABLE` command creates a new table called `otherdisease` with the specified columns.\n",
    "- Each column is defined with a specific data type and a `NOT NULL` constraint, meaning values for these columns must be provided.\n",
    "- The table includes various Demographic attributes, such as `Diabetic`, `Asthma`, `Age_Category`, `KidneyDisease`, `Stroke`and `SkinCancer`."
   ]
  },
  {
   "cell_type": "code",
   "execution_count": 35,
   "id": "5625ea57-4121-4e02-b176-c2d6e27e6bd6",
   "metadata": {},
   "outputs": [
    {
     "data": {
      "text/html": [
       "<span style=\"None\">Running query in &#x27;postgresql://postgres@/final_project&#x27;</span>"
      ],
      "text/plain": [
       "Running query in 'postgresql://postgres@/final_project'"
      ]
     },
     "metadata": {},
     "output_type": "display_data"
    },
    {
     "data": {
      "text/html": [
       "<table>\n",
       "    <thead>\n",
       "        <tr>\n",
       "        </tr>\n",
       "    </thead>\n",
       "    <tbody>\n",
       "    </tbody>\n",
       "</table>"
      ],
      "text/plain": [
       "++\n",
       "||\n",
       "++\n",
       "++"
      ]
     },
     "execution_count": 35,
     "metadata": {},
     "output_type": "execute_result"
    }
   ],
   "source": [
    "%%sql\n",
    "DROP TABLE IF EXISTS otherdisease;\n",
    "\n",
    "CREATE TABLE otherdisease (\n",
    "    otherdisease_key SERIAL PRIMARY KEY,\n",
    "    Diabetic VARCHAR(50)  ,\n",
    "    Asthma BOOLEAN,\n",
    "    KidneyDisease BOOLEAN,\n",
    "    Stroke BOOLEAN,\n",
    "    SkinCancer BOOLEAN\n",
    ");"
   ]
  },
  {
   "cell_type": "markdown",
   "id": "d4978711-a505-4e20-ab02-139d0fe334a5",
   "metadata": {},
   "source": [
    "Insert value from fact table \n",
    "\n",
    "- Using `%%sql` to execute SQL commands directly within the Jupyter Notebook.\n",
    "- The `INSERT INTO otherdisease` statement inserts distinct values into the `otherdisease` table for each of the specific columns from the `heartdisease` table.\n",
    "- This operation helps populate the `otherdisease` table with unique otherdisease data from the `heartdisease` table without duplicates."
   ]
  },
  {
   "cell_type": "code",
   "execution_count": 36,
   "id": "6efe047f-c7ee-4f7e-bf47-a0df7063d1d2",
   "metadata": {},
   "outputs": [
    {
     "data": {
      "text/html": [
       "<span style=\"None\">Running query in &#x27;postgresql://postgres@/final_project&#x27;</span>"
      ],
      "text/plain": [
       "Running query in 'postgresql://postgres@/final_project'"
      ]
     },
     "metadata": {},
     "output_type": "display_data"
    },
    {
     "data": {
      "text/html": [
       "<span style=\"color: green\">64 rows affected.</span>"
      ],
      "text/plain": [
       "64 rows affected."
      ]
     },
     "metadata": {},
     "output_type": "display_data"
    },
    {
     "data": {
      "text/html": [
       "<table>\n",
       "    <thead>\n",
       "        <tr>\n",
       "        </tr>\n",
       "    </thead>\n",
       "    <tbody>\n",
       "    </tbody>\n",
       "</table>"
      ],
      "text/plain": [
       "++\n",
       "||\n",
       "++\n",
       "++"
      ]
     },
     "execution_count": 36,
     "metadata": {},
     "output_type": "execute_result"
    }
   ],
   "source": [
    "%%sql\n",
    "INSERT INTO otherdisease (Diabetic, Asthma, KidneyDisease, SkinCancer, Stroke)\n",
    "SELECT Distinct\n",
    "       Diabetic AS Diabetic, \n",
    "       Asthma AS Asthma,\n",
    "       KidneyDisease AS KidneyDisease,\n",
    "       Stroke AS Stroke,\n",
    "       SkinCancer AS SkinCancer\n",
    "FROM heartdisease"
   ]
  },
  {
   "cell_type": "markdown",
   "id": "5163357c-2b46-4514-9c2c-7f9c61a6713c",
   "metadata": {},
   "source": [
    "Check if data was inserted as intended.\n",
    "\n",
    "- Using `%%sql` to execute SQL commands directly within the Jupyter Notebook.\n",
    "- The `SELECT *` query retrieves all columns from the `otherdisease` table.\n",
    "- The `LIMIT 10` clause restricts the result to the first 10 rows, providing a quick preview of the data stored in the `otherdisease` table."
   ]
  },
  {
   "cell_type": "code",
   "execution_count": 37,
   "id": "6517933c-31e3-4dbc-83b3-98e0d1033a59",
   "metadata": {
    "scrolled": true
   },
   "outputs": [
    {
     "data": {
      "text/html": [
       "<span style=\"None\">Running query in &#x27;postgresql://postgres@/final_project&#x27;</span>"
      ],
      "text/plain": [
       "Running query in 'postgresql://postgres@/final_project'"
      ]
     },
     "metadata": {},
     "output_type": "display_data"
    },
    {
     "data": {
      "text/html": [
       "<span style=\"color: green\">10 rows affected.</span>"
      ],
      "text/plain": [
       "10 rows affected."
      ]
     },
     "metadata": {},
     "output_type": "display_data"
    },
    {
     "data": {
      "text/html": [
       "<table>\n",
       "    <thead>\n",
       "        <tr>\n",
       "            <th>otherdisease_key</th>\n",
       "            <th>diabetic</th>\n",
       "            <th>asthma</th>\n",
       "            <th>kidneydisease</th>\n",
       "            <th>stroke</th>\n",
       "            <th>skincancer</th>\n",
       "        </tr>\n",
       "    </thead>\n",
       "    <tbody>\n",
       "        <tr>\n",
       "            <td>1</td>\n",
       "            <td>No</td>\n",
       "            <td>False</td>\n",
       "            <td>False</td>\n",
       "            <td>False</td>\n",
       "            <td>True</td>\n",
       "        </tr>\n",
       "        <tr>\n",
       "            <td>2</td>\n",
       "            <td>No, borderline diabetes</td>\n",
       "            <td>True</td>\n",
       "            <td>False</td>\n",
       "            <td>True</td>\n",
       "            <td>True</td>\n",
       "        </tr>\n",
       "        <tr>\n",
       "            <td>3</td>\n",
       "            <td>Yes (during pregnancy)</td>\n",
       "            <td>True</td>\n",
       "            <td>True</td>\n",
       "            <td>False</td>\n",
       "            <td>False</td>\n",
       "        </tr>\n",
       "        <tr>\n",
       "            <td>4</td>\n",
       "            <td>Yes (during pregnancy)</td>\n",
       "            <td>True</td>\n",
       "            <td>False</td>\n",
       "            <td>True</td>\n",
       "            <td>False</td>\n",
       "        </tr>\n",
       "        <tr>\n",
       "            <td>5</td>\n",
       "            <td>Yes</td>\n",
       "            <td>False</td>\n",
       "            <td>True</td>\n",
       "            <td>False</td>\n",
       "            <td>True</td>\n",
       "        </tr>\n",
       "        <tr>\n",
       "            <td>6</td>\n",
       "            <td>Yes</td>\n",
       "            <td>False</td>\n",
       "            <td>True</td>\n",
       "            <td>False</td>\n",
       "            <td>False</td>\n",
       "        </tr>\n",
       "        <tr>\n",
       "            <td>7</td>\n",
       "            <td>Yes</td>\n",
       "            <td>True</td>\n",
       "            <td>False</td>\n",
       "            <td>False</td>\n",
       "            <td>False</td>\n",
       "        </tr>\n",
       "        <tr>\n",
       "            <td>8</td>\n",
       "            <td>No, borderline diabetes</td>\n",
       "            <td>True</td>\n",
       "            <td>False</td>\n",
       "            <td>True</td>\n",
       "            <td>False</td>\n",
       "        </tr>\n",
       "        <tr>\n",
       "            <td>9</td>\n",
       "            <td>Yes (during pregnancy)</td>\n",
       "            <td>False</td>\n",
       "            <td>False</td>\n",
       "            <td>False</td>\n",
       "            <td>False</td>\n",
       "        </tr>\n",
       "        <tr>\n",
       "            <td>10</td>\n",
       "            <td>Yes</td>\n",
       "            <td>True</td>\n",
       "            <td>True</td>\n",
       "            <td>True</td>\n",
       "            <td>False</td>\n",
       "        </tr>\n",
       "    </tbody>\n",
       "</table>\n",
       "<span style=\"font-style:italic;text-align:center;\">Truncated to <a href=\"https://jupysql.ploomber.io/en/latest/api/configuration.html#displaylimit\">displaylimit</a> of 10.</span>"
      ],
      "text/plain": [
       "+------------------+-------------------------+--------+---------------+--------+------------+\n",
       "| otherdisease_key |         diabetic        | asthma | kidneydisease | stroke | skincancer |\n",
       "+------------------+-------------------------+--------+---------------+--------+------------+\n",
       "|        1         |            No           | False  |     False     | False  |    True    |\n",
       "|        2         | No, borderline diabetes |  True  |     False     |  True  |    True    |\n",
       "|        3         |  Yes (during pregnancy) |  True  |      True     | False  |   False    |\n",
       "|        4         |  Yes (during pregnancy) |  True  |     False     |  True  |   False    |\n",
       "|        5         |           Yes           | False  |      True     | False  |    True    |\n",
       "|        6         |           Yes           | False  |      True     | False  |   False    |\n",
       "|        7         |           Yes           |  True  |     False     | False  |   False    |\n",
       "|        8         | No, borderline diabetes |  True  |     False     |  True  |   False    |\n",
       "|        9         |  Yes (during pregnancy) | False  |     False     | False  |   False    |\n",
       "|        10        |           Yes           |  True  |      True     |  True  |   False    |\n",
       "+------------------+-------------------------+--------+---------------+--------+------------+\n",
       "Truncated to displaylimit of 10."
      ]
     },
     "execution_count": 37,
     "metadata": {},
     "output_type": "execute_result"
    }
   ],
   "source": [
    "%%sql\n",
    "SELECT * FROM otherdisease LIMIT 10;"
   ]
  },
  {
   "cell_type": "markdown",
   "id": "6d2f2bf9-845b-4339-9523-dbc116a4a562",
   "metadata": {},
   "source": [
    "### Add otherdisease_key to fact table\n",
    "\n",
    "- Using `%%sql` to execute SQL commands directly within the Jupyter Notebook.  \n",
    "- The `ALTER TABLE heartdisease` statement modifies the `heartdisease` table by adding a new column called `otherdisease_key` of type `INTEGER`.  \n",
    "- The `ADD CONSTRAINT fk_otherdisease_key` clause defines a foreign key constraint on the `otherdisease_key` column.  \n",
    "- The `FOREIGN KEY (otherdisease_key) REFERENCES otherdisease (otherdisease_key)` part establishes a relationship between the `heartdisease` and `otherdisease` tables by referencing the `otherdisease_key` column in the `otherdisease` table. This enforces referential integrity between the two tables."
   ]
  },
  {
   "cell_type": "code",
   "execution_count": 38,
   "id": "b04ecc99-42e6-453a-9459-1f6d12bdbe28",
   "metadata": {},
   "outputs": [
    {
     "data": {
      "text/html": [
       "<span style=\"None\">Running query in &#x27;postgresql://postgres@/final_project&#x27;</span>"
      ],
      "text/plain": [
       "Running query in 'postgresql://postgres@/final_project'"
      ]
     },
     "metadata": {},
     "output_type": "display_data"
    },
    {
     "data": {
      "text/html": [
       "<table>\n",
       "    <thead>\n",
       "        <tr>\n",
       "        </tr>\n",
       "    </thead>\n",
       "    <tbody>\n",
       "    </tbody>\n",
       "</table>"
      ],
      "text/plain": [
       "++\n",
       "||\n",
       "++\n",
       "++"
      ]
     },
     "execution_count": 38,
     "metadata": {},
     "output_type": "execute_result"
    }
   ],
   "source": [
    "%%sql\n",
    "ALTER TABLE heartdisease\n",
    "ADD COLUMN otherdisease_key INTEGER,\n",
    "ADD CONSTRAINT fk_otherdisease_key\n",
    "    FOREIGN KEY (otherdisease_key)\n",
    "    REFERENCES otherdisease (otherdisease_key);"
   ]
  },
  {
   "cell_type": "markdown",
   "id": "6db09bd5-9989-4f20-9e83-34468053892d",
   "metadata": {},
   "source": [
    "Link otherdisease_key by the variables \"Diabetic\", \"Asthma\", \"KidneyDisease\", \"SkinCancer\", and \"Stroke\"\n",
    "\n",
    "- Using `%%sql` to execute SQL commands directly within the Jupyter Notebook.  \n",
    "- The `UPDATE heartdisease` statement updates the `heartdisease` table by setting the `otherdisease_key` column.  \n",
    "- The `SET otherdisease_key = otherdisease.otherdisease_key` clause assigns the value of the `otherdisease_key` from the `otherdisease` table to the `heartdisease` table.  \n",
    "- The `FROM otherdisease` clause specifies the source table for the update.  \n",
    "- The `WHERE` clause ensures that the update occurs only when there is a match between the `Diabetic`, `Asthma`, `KidneyDisease`, `SkinCancer`, and `Stroke` columns in both the `heartdisease` and `otherdisease` tables, establishing the correct relationship between the tables."
   ]
  },
  {
   "cell_type": "code",
   "execution_count": 39,
   "id": "c2e5165e-0505-4c5c-b5f2-e6373091e85e",
   "metadata": {},
   "outputs": [
    {
     "data": {
      "text/html": [
       "<span style=\"None\">Running query in &#x27;postgresql://postgres@/final_project&#x27;</span>"
      ],
      "text/plain": [
       "Running query in 'postgresql://postgres@/final_project'"
      ]
     },
     "metadata": {},
     "output_type": "display_data"
    },
    {
     "data": {
      "text/html": [
       "<span style=\"color: green\">319795 rows affected.</span>"
      ],
      "text/plain": [
       "319795 rows affected."
      ]
     },
     "metadata": {},
     "output_type": "display_data"
    },
    {
     "data": {
      "text/html": [
       "<table>\n",
       "    <thead>\n",
       "        <tr>\n",
       "        </tr>\n",
       "    </thead>\n",
       "    <tbody>\n",
       "    </tbody>\n",
       "</table>"
      ],
      "text/plain": [
       "++\n",
       "||\n",
       "++\n",
       "++"
      ]
     },
     "execution_count": 39,
     "metadata": {},
     "output_type": "execute_result"
    }
   ],
   "source": [
    "%%sql\n",
    "UPDATE heartdisease\n",
    "SET otherdisease_key = otherdisease.otherdisease_key\n",
    "FROM otherdisease\n",
    "WHERE heartdisease.Diabetic = otherdisease.Diabetic\n",
    "   AND heartdisease.Asthma = otherdisease.Asthma\n",
    "    AND heartdisease.KidneyDisease = otherdisease.KidneyDisease\n",
    "    AND heartdisease.SkinCancer = otherdisease.SkinCancer\n",
    "    AND heartdisease.Stroke = otherdisease.Stroke\n",
    "    ;"
   ]
  },
  {
   "cell_type": "markdown",
   "id": "fc015ddc-b886-4a18-853a-10c4ffd63f47",
   "metadata": {},
   "source": [
    "Check if the link between both table is working as intended."
   ]
  },
  {
   "cell_type": "code",
   "execution_count": 40,
   "id": "41135bbb-aa83-4c38-9902-ead7f9801b0f",
   "metadata": {},
   "outputs": [
    {
     "data": {
      "text/html": [
       "<span style=\"None\">Running query in &#x27;postgresql://postgres@/final_project&#x27;</span>"
      ],
      "text/plain": [
       "Running query in 'postgresql://postgres@/final_project'"
      ]
     },
     "metadata": {},
     "output_type": "display_data"
    },
    {
     "data": {
      "text/html": [
       "<span style=\"color: green\">10 rows affected.</span>"
      ],
      "text/plain": [
       "10 rows affected."
      ]
     },
     "metadata": {},
     "output_type": "display_data"
    },
    {
     "data": {
      "text/html": [
       "<table>\n",
       "    <thead>\n",
       "        <tr>\n",
       "            <th>heartdisease</th>\n",
       "            <th>bmi</th>\n",
       "            <th>smoking</th>\n",
       "            <th>alcoholdrinking</th>\n",
       "            <th>stroke</th>\n",
       "            <th>physicalhealth</th>\n",
       "            <th>mentalhealth</th>\n",
       "            <th>diffwalking</th>\n",
       "            <th>diabetic</th>\n",
       "            <th>physicalactivity</th>\n",
       "            <th>genhealth</th>\n",
       "            <th>sleeptime</th>\n",
       "            <th>asthma</th>\n",
       "            <th>kidneydisease</th>\n",
       "            <th>skincancer</th>\n",
       "            <th>bmicategory</th>\n",
       "            <th>demographic_key</th>\n",
       "            <th>otherdisease_key</th>\n",
       "        </tr>\n",
       "    </thead>\n",
       "    <tbody>\n",
       "        <tr>\n",
       "            <td>False</td>\n",
       "            <td>24.89</td>\n",
       "            <td>False</td>\n",
       "            <td>False</td>\n",
       "            <td>False</td>\n",
       "            <td>0</td>\n",
       "            <td>7</td>\n",
       "            <td>False</td>\n",
       "            <td>No</td>\n",
       "            <td>True</td>\n",
       "            <td>Excellent</td>\n",
       "            <td>8</td>\n",
       "            <td>False</td>\n",
       "            <td>False</td>\n",
       "            <td>False</td>\n",
       "            <td>Healthy weight</td>\n",
       "            <td>143</td>\n",
       "            <td>26</td>\n",
       "        </tr>\n",
       "        <tr>\n",
       "            <td>False</td>\n",
       "            <td>42.97</td>\n",
       "            <td>False</td>\n",
       "            <td>True</td>\n",
       "            <td>False</td>\n",
       "            <td>2</td>\n",
       "            <td>25</td>\n",
       "            <td>False</td>\n",
       "            <td>No</td>\n",
       "            <td>True</td>\n",
       "            <td>Good</td>\n",
       "            <td>8</td>\n",
       "            <td>False</td>\n",
       "            <td>False</td>\n",
       "            <td>False</td>\n",
       "            <td>Severly Obese</td>\n",
       "            <td>100</td>\n",
       "            <td>26</td>\n",
       "        </tr>\n",
       "        <tr>\n",
       "            <td>False</td>\n",
       "            <td>20.80</td>\n",
       "            <td>False</td>\n",
       "            <td>False</td>\n",
       "            <td>False</td>\n",
       "            <td>0</td>\n",
       "            <td>3</td>\n",
       "            <td>False</td>\n",
       "            <td>No</td>\n",
       "            <td>True</td>\n",
       "            <td>Very good</td>\n",
       "            <td>6</td>\n",
       "            <td>False</td>\n",
       "            <td>False</td>\n",
       "            <td>False</td>\n",
       "            <td>Healthy weight</td>\n",
       "            <td>24</td>\n",
       "            <td>26</td>\n",
       "        </tr>\n",
       "        <tr>\n",
       "            <td>False</td>\n",
       "            <td>26.61</td>\n",
       "            <td>False</td>\n",
       "            <td>True</td>\n",
       "            <td>False</td>\n",
       "            <td>0</td>\n",
       "            <td>15</td>\n",
       "            <td>False</td>\n",
       "            <td>No</td>\n",
       "            <td>True</td>\n",
       "            <td>Very good</td>\n",
       "            <td>5</td>\n",
       "            <td>False</td>\n",
       "            <td>False</td>\n",
       "            <td>False</td>\n",
       "            <td>Overweight</td>\n",
       "            <td>153</td>\n",
       "            <td>26</td>\n",
       "        </tr>\n",
       "        <tr>\n",
       "            <td>True</td>\n",
       "            <td>39.48</td>\n",
       "            <td>False</td>\n",
       "            <td>False</td>\n",
       "            <td>False</td>\n",
       "            <td>0</td>\n",
       "            <td>0</td>\n",
       "            <td>False</td>\n",
       "            <td>No</td>\n",
       "            <td>True</td>\n",
       "            <td>Good</td>\n",
       "            <td>8</td>\n",
       "            <td>False</td>\n",
       "            <td>False</td>\n",
       "            <td>False</td>\n",
       "            <td>Obese</td>\n",
       "            <td>150</td>\n",
       "            <td>26</td>\n",
       "        </tr>\n",
       "        <tr>\n",
       "            <td>False</td>\n",
       "            <td>24.96</td>\n",
       "            <td>False</td>\n",
       "            <td>False</td>\n",
       "            <td>False</td>\n",
       "            <td>0</td>\n",
       "            <td>0</td>\n",
       "            <td>False</td>\n",
       "            <td>No</td>\n",
       "            <td>True</td>\n",
       "            <td>Very good</td>\n",
       "            <td>7</td>\n",
       "            <td>False</td>\n",
       "            <td>False</td>\n",
       "            <td>False</td>\n",
       "            <td>Healthy weight</td>\n",
       "            <td>75</td>\n",
       "            <td>26</td>\n",
       "        </tr>\n",
       "        <tr>\n",
       "            <td>False</td>\n",
       "            <td>27.80</td>\n",
       "            <td>False</td>\n",
       "            <td>False</td>\n",
       "            <td>False</td>\n",
       "            <td>0</td>\n",
       "            <td>0</td>\n",
       "            <td>False</td>\n",
       "            <td>No</td>\n",
       "            <td>True</td>\n",
       "            <td>Excellent</td>\n",
       "            <td>7</td>\n",
       "            <td>False</td>\n",
       "            <td>False</td>\n",
       "            <td>False</td>\n",
       "            <td>Overweight</td>\n",
       "            <td>34</td>\n",
       "            <td>26</td>\n",
       "        </tr>\n",
       "        <tr>\n",
       "            <td>False</td>\n",
       "            <td>32.95</td>\n",
       "            <td>False</td>\n",
       "            <td>False</td>\n",
       "            <td>False</td>\n",
       "            <td>2</td>\n",
       "            <td>0</td>\n",
       "            <td>True</td>\n",
       "            <td>No</td>\n",
       "            <td>False</td>\n",
       "            <td>Fair</td>\n",
       "            <td>7</td>\n",
       "            <td>False</td>\n",
       "            <td>False</td>\n",
       "            <td>False</td>\n",
       "            <td>Obese</td>\n",
       "            <td>55</td>\n",
       "            <td>26</td>\n",
       "        </tr>\n",
       "        <tr>\n",
       "            <td>False</td>\n",
       "            <td>29.29</td>\n",
       "            <td>False</td>\n",
       "            <td>False</td>\n",
       "            <td>False</td>\n",
       "            <td>3</td>\n",
       "            <td>15</td>\n",
       "            <td>False</td>\n",
       "            <td>No</td>\n",
       "            <td>True</td>\n",
       "            <td>Fair</td>\n",
       "            <td>7</td>\n",
       "            <td>False</td>\n",
       "            <td>False</td>\n",
       "            <td>False</td>\n",
       "            <td>Overweight</td>\n",
       "            <td>147</td>\n",
       "            <td>26</td>\n",
       "        </tr>\n",
       "        <tr>\n",
       "            <td>False</td>\n",
       "            <td>27.89</td>\n",
       "            <td>True</td>\n",
       "            <td>True</td>\n",
       "            <td>False</td>\n",
       "            <td>0</td>\n",
       "            <td>0</td>\n",
       "            <td>False</td>\n",
       "            <td>No</td>\n",
       "            <td>False</td>\n",
       "            <td>Excellent</td>\n",
       "            <td>5</td>\n",
       "            <td>False</td>\n",
       "            <td>False</td>\n",
       "            <td>False</td>\n",
       "            <td>Overweight</td>\n",
       "            <td>17</td>\n",
       "            <td>26</td>\n",
       "        </tr>\n",
       "    </tbody>\n",
       "</table>\n",
       "<span style=\"font-style:italic;text-align:center;\">Truncated to <a href=\"https://jupysql.ploomber.io/en/latest/api/configuration.html#displaylimit\">displaylimit</a> of 10.</span>"
      ],
      "text/plain": [
       "+--------------+-------+---------+-----------------+--------+----------------+--------------+-------------+----------+------------------+-----------+-----------+--------+---------------+------------+----------------+-----------------+------------------+\n",
       "| heartdisease |  bmi  | smoking | alcoholdrinking | stroke | physicalhealth | mentalhealth | diffwalking | diabetic | physicalactivity | genhealth | sleeptime | asthma | kidneydisease | skincancer |  bmicategory   | demographic_key | otherdisease_key |\n",
       "+--------------+-------+---------+-----------------+--------+----------------+--------------+-------------+----------+------------------+-----------+-----------+--------+---------------+------------+----------------+-----------------+------------------+\n",
       "|    False     | 24.89 |  False  |      False      | False  |       0        |      7       |    False    |    No    |       True       | Excellent |     8     | False  |     False     |   False    | Healthy weight |       143       |        26        |\n",
       "|    False     | 42.97 |  False  |       True      | False  |       2        |      25      |    False    |    No    |       True       |    Good   |     8     | False  |     False     |   False    | Severly Obese  |       100       |        26        |\n",
       "|    False     | 20.80 |  False  |      False      | False  |       0        |      3       |    False    |    No    |       True       | Very good |     6     | False  |     False     |   False    | Healthy weight |        24       |        26        |\n",
       "|    False     | 26.61 |  False  |       True      | False  |       0        |      15      |    False    |    No    |       True       | Very good |     5     | False  |     False     |   False    |   Overweight   |       153       |        26        |\n",
       "|     True     | 39.48 |  False  |      False      | False  |       0        |      0       |    False    |    No    |       True       |    Good   |     8     | False  |     False     |   False    |     Obese      |       150       |        26        |\n",
       "|    False     | 24.96 |  False  |      False      | False  |       0        |      0       |    False    |    No    |       True       | Very good |     7     | False  |     False     |   False    | Healthy weight |        75       |        26        |\n",
       "|    False     | 27.80 |  False  |      False      | False  |       0        |      0       |    False    |    No    |       True       | Excellent |     7     | False  |     False     |   False    |   Overweight   |        34       |        26        |\n",
       "|    False     | 32.95 |  False  |      False      | False  |       2        |      0       |     True    |    No    |      False       |    Fair   |     7     | False  |     False     |   False    |     Obese      |        55       |        26        |\n",
       "|    False     | 29.29 |  False  |      False      | False  |       3        |      15      |    False    |    No    |       True       |    Fair   |     7     | False  |     False     |   False    |   Overweight   |       147       |        26        |\n",
       "|    False     | 27.89 |   True  |       True      | False  |       0        |      0       |    False    |    No    |      False       | Excellent |     5     | False  |     False     |   False    |   Overweight   |        17       |        26        |\n",
       "+--------------+-------+---------+-----------------+--------+----------------+--------------+-------------+----------+------------------+-----------+-----------+--------+---------------+------------+----------------+-----------------+------------------+\n",
       "Truncated to displaylimit of 10."
      ]
     },
     "execution_count": 40,
     "metadata": {},
     "output_type": "execute_result"
    }
   ],
   "source": [
    "%%sql\n",
    "SELECT * FROM heartdisease LIMIT 10;"
   ]
  },
  {
   "cell_type": "markdown",
   "id": "f168e52a-6757-45f7-b721-36a6b8fcc069",
   "metadata": {},
   "source": [
    "Drop the transferred columns from the `heartdisease` table.\n",
    "\n",
    "- Using `%%sql` to execute SQL commands directly within the Jupyter Notebook.  \n",
    "- The `ALTER TABLE heartdisease` statement modifies the `heartdisease` table by removing five columns: `Diabetic`, `Asthma`, `KidneyDisease`, `SkinCancer`, and `Stroke`.  \n",
    "- The `DROP COLUMN` clause is used to delete these columns because their data has already been integrated into the `otherdisease_key` column, and the columns are no longer necessary for analysis.  "
   ]
  },
  {
   "cell_type": "code",
   "execution_count": 41,
   "id": "b2b5a2ae-746d-4360-86fa-437f5aab3bdc",
   "metadata": {},
   "outputs": [
    {
     "data": {
      "text/html": [
       "<span style=\"None\">Running query in &#x27;postgresql://postgres@/final_project&#x27;</span>"
      ],
      "text/plain": [
       "Running query in 'postgresql://postgres@/final_project'"
      ]
     },
     "metadata": {},
     "output_type": "display_data"
    },
    {
     "data": {
      "text/html": [
       "<table>\n",
       "    <thead>\n",
       "        <tr>\n",
       "        </tr>\n",
       "    </thead>\n",
       "    <tbody>\n",
       "    </tbody>\n",
       "</table>"
      ],
      "text/plain": [
       "++\n",
       "||\n",
       "++\n",
       "++"
      ]
     },
     "execution_count": 41,
     "metadata": {},
     "output_type": "execute_result"
    }
   ],
   "source": [
    "%%sql\n",
    "ALTER TABLE heartdisease \n",
    "DROP COLUMN Diabetic,\n",
    "DROP COLUMN Asthma,\n",
    "DROP COLUMN KidneyDisease,\n",
    "DROP COLUMN SkinCancer,\n",
    "DROP COLUMN Stroke\n",
    "    ;"
   ]
  },
  {
   "cell_type": "markdown",
   "id": "3bb36f14-4bdb-4385-985a-ee6564147865",
   "metadata": {},
   "source": [
    "#### C. Behavior dimension\n",
    "The same process as creating the other tables."
   ]
  },
  {
   "cell_type": "markdown",
   "id": "05282057-8661-489d-bca9-8ac5f7682482",
   "metadata": {},
   "source": [
    "Create table\n",
    "\n",
    "- Using `%%sql` to execute SQL commands directly within the Jupyter Notebook.\n",
    "- The `DROP TABLE IF EXISTS behavior;` command ensures that if the `behavior` table already exists, it will be deleted before creating a new one.\n",
    "- The `CREATE TABLE` command creates a new table called `behavior` with the specified columns.\n",
    "- Each column is defined with a specific data type and a `NOT NULL` constraint, meaning values for these columns must be provided.\n",
    "- The table includes various Demographic attributes, such as `Smoking`, `AlcoholDrinking`, `SleepTime`, `PhysicalActivity`."
   ]
  },
  {
   "cell_type": "code",
   "execution_count": 42,
   "id": "ccd91587-d5da-4703-b92d-49c10ac45617",
   "metadata": {},
   "outputs": [
    {
     "data": {
      "text/html": [
       "<span style=\"None\">Running query in &#x27;postgresql://postgres@/final_project&#x27;</span>"
      ],
      "text/plain": [
       "Running query in 'postgresql://postgres@/final_project'"
      ]
     },
     "metadata": {},
     "output_type": "display_data"
    },
    {
     "data": {
      "text/html": [
       "<table>\n",
       "    <thead>\n",
       "        <tr>\n",
       "        </tr>\n",
       "    </thead>\n",
       "    <tbody>\n",
       "    </tbody>\n",
       "</table>"
      ],
      "text/plain": [
       "++\n",
       "||\n",
       "++\n",
       "++"
      ]
     },
     "execution_count": 42,
     "metadata": {},
     "output_type": "execute_result"
    }
   ],
   "source": [
    "%%sql\n",
    "DROP TABLE IF EXISTS behavior;\n",
    "\n",
    "CREATE TABLE behavior (\n",
    "    behavior_key SERIAL PRIMARY KEY,\n",
    "    Smoking BOOLEAN,\n",
    "    AlcoholDrinking BOOLEAN,\n",
    "    SleepTime FLOAT,\n",
    "    PhysicalActivity BOOLEAN \n",
    ");"
   ]
  },
  {
   "cell_type": "markdown",
   "id": "92298972-09aa-4148-9711-81d91323e52c",
   "metadata": {},
   "source": [
    "Insert value from fact table \n",
    "\n",
    "- Using `%%sql` to execute SQL commands directly within the Jupyter Notebook.\n",
    "- The `INSERT INTO behavior` statement inserts distinct values into the `behavior` table for each of the specific columns from the `heartdisease` table.\n",
    "- This operation helps populate the `behavior` table with unique behavior data from the `heartdisease` table without duplicates."
   ]
  },
  {
   "cell_type": "code",
   "execution_count": 43,
   "id": "c2f6629d-104e-4ab2-ba4f-b1adcc09269f",
   "metadata": {},
   "outputs": [
    {
     "data": {
      "text/html": [
       "<span style=\"None\">Running query in &#x27;postgresql://postgres@/final_project&#x27;</span>"
      ],
      "text/plain": [
       "Running query in 'postgresql://postgres@/final_project'"
      ]
     },
     "metadata": {},
     "output_type": "display_data"
    },
    {
     "data": {
      "text/html": [
       "<span style=\"color: green\">165 rows affected.</span>"
      ],
      "text/plain": [
       "165 rows affected."
      ]
     },
     "metadata": {},
     "output_type": "display_data"
    },
    {
     "data": {
      "text/html": [
       "<table>\n",
       "    <thead>\n",
       "        <tr>\n",
       "        </tr>\n",
       "    </thead>\n",
       "    <tbody>\n",
       "    </tbody>\n",
       "</table>"
      ],
      "text/plain": [
       "++\n",
       "||\n",
       "++\n",
       "++"
      ]
     },
     "execution_count": 43,
     "metadata": {},
     "output_type": "execute_result"
    }
   ],
   "source": [
    "%%sql\n",
    "INSERT INTO behavior (Smoking, AlcoholDrinking, SleepTime, PhysicalActivity)\n",
    "SELECT DISTINCT\n",
    "       Smoking AS Smoking, \n",
    "       AlcoholDrinking AS AlcoholDrinking,\n",
    "       SleepTime AS SleepTime,\n",
    "       PhysicalActivity AS PhysicalActivity\n",
    "FROM heartdisease"
   ]
  },
  {
   "cell_type": "markdown",
   "id": "2a139632-d4d8-4017-8b22-b8d8d9b4c918",
   "metadata": {},
   "source": [
    "Check if data was inserted as intended.\n",
    "\n",
    "- Using `%%sql` to execute SQL commands directly within the Jupyter Notebook.\n",
    "- The `SELECT *` query retrieves all columns from the `behavior` table.\n",
    "- The `LIMIT 10` clause restricts the result to the first 10 rows, providing a quick preview of the data stored in the `behavior` table."
   ]
  },
  {
   "cell_type": "code",
   "execution_count": 44,
   "id": "76da0e43-02a4-40db-8c0b-c56731774dbb",
   "metadata": {},
   "outputs": [
    {
     "data": {
      "text/html": [
       "<span style=\"None\">Running query in &#x27;postgresql://postgres@/final_project&#x27;</span>"
      ],
      "text/plain": [
       "Running query in 'postgresql://postgres@/final_project'"
      ]
     },
     "metadata": {},
     "output_type": "display_data"
    },
    {
     "data": {
      "text/html": [
       "<span style=\"color: green\">10 rows affected.</span>"
      ],
      "text/plain": [
       "10 rows affected."
      ]
     },
     "metadata": {},
     "output_type": "display_data"
    },
    {
     "data": {
      "text/html": [
       "<table>\n",
       "    <thead>\n",
       "        <tr>\n",
       "            <th>behavior_key</th>\n",
       "            <th>smoking</th>\n",
       "            <th>alcoholdrinking</th>\n",
       "            <th>sleeptime</th>\n",
       "            <th>physicalactivity</th>\n",
       "        </tr>\n",
       "    </thead>\n",
       "    <tbody>\n",
       "        <tr>\n",
       "            <td>1</td>\n",
       "            <td>False</td>\n",
       "            <td>True</td>\n",
       "            <td>6.0</td>\n",
       "            <td>True</td>\n",
       "        </tr>\n",
       "        <tr>\n",
       "            <td>2</td>\n",
       "            <td>True</td>\n",
       "            <td>False</td>\n",
       "            <td>9.0</td>\n",
       "            <td>False</td>\n",
       "        </tr>\n",
       "        <tr>\n",
       "            <td>3</td>\n",
       "            <td>True</td>\n",
       "            <td>True</td>\n",
       "            <td>10.0</td>\n",
       "            <td>False</td>\n",
       "        </tr>\n",
       "        <tr>\n",
       "            <td>4</td>\n",
       "            <td>False</td>\n",
       "            <td>False</td>\n",
       "            <td>1.0</td>\n",
       "            <td>True</td>\n",
       "        </tr>\n",
       "        <tr>\n",
       "            <td>5</td>\n",
       "            <td>True</td>\n",
       "            <td>False</td>\n",
       "            <td>17.0</td>\n",
       "            <td>False</td>\n",
       "        </tr>\n",
       "        <tr>\n",
       "            <td>6</td>\n",
       "            <td>True</td>\n",
       "            <td>False</td>\n",
       "            <td>1.0</td>\n",
       "            <td>True</td>\n",
       "        </tr>\n",
       "        <tr>\n",
       "            <td>7</td>\n",
       "            <td>False</td>\n",
       "            <td>False</td>\n",
       "            <td>17.0</td>\n",
       "            <td>True</td>\n",
       "        </tr>\n",
       "        <tr>\n",
       "            <td>8</td>\n",
       "            <td>False</td>\n",
       "            <td>False</td>\n",
       "            <td>21.0</td>\n",
       "            <td>True</td>\n",
       "        </tr>\n",
       "        <tr>\n",
       "            <td>9</td>\n",
       "            <td>False</td>\n",
       "            <td>True</td>\n",
       "            <td>12.0</td>\n",
       "            <td>False</td>\n",
       "        </tr>\n",
       "        <tr>\n",
       "            <td>10</td>\n",
       "            <td>True</td>\n",
       "            <td>False</td>\n",
       "            <td>17.0</td>\n",
       "            <td>True</td>\n",
       "        </tr>\n",
       "    </tbody>\n",
       "</table>\n",
       "<span style=\"font-style:italic;text-align:center;\">Truncated to <a href=\"https://jupysql.ploomber.io/en/latest/api/configuration.html#displaylimit\">displaylimit</a> of 10.</span>"
      ],
      "text/plain": [
       "+--------------+---------+-----------------+-----------+------------------+\n",
       "| behavior_key | smoking | alcoholdrinking | sleeptime | physicalactivity |\n",
       "+--------------+---------+-----------------+-----------+------------------+\n",
       "|      1       |  False  |       True      |    6.0    |       True       |\n",
       "|      2       |   True  |      False      |    9.0    |      False       |\n",
       "|      3       |   True  |       True      |    10.0   |      False       |\n",
       "|      4       |  False  |      False      |    1.0    |       True       |\n",
       "|      5       |   True  |      False      |    17.0   |      False       |\n",
       "|      6       |   True  |      False      |    1.0    |       True       |\n",
       "|      7       |  False  |      False      |    17.0   |       True       |\n",
       "|      8       |  False  |      False      |    21.0   |       True       |\n",
       "|      9       |  False  |       True      |    12.0   |      False       |\n",
       "|      10      |   True  |      False      |    17.0   |       True       |\n",
       "+--------------+---------+-----------------+-----------+------------------+\n",
       "Truncated to displaylimit of 10."
      ]
     },
     "execution_count": 44,
     "metadata": {},
     "output_type": "execute_result"
    }
   ],
   "source": [
    "%%sql\n",
    "SELECT * FROM behavior LIMIT 10;"
   ]
  },
  {
   "cell_type": "markdown",
   "id": "081127e4-22e6-451e-be17-7a8ce5fdce89",
   "metadata": {},
   "source": [
    " Add behavior_key to fact table\n",
    "\n",
    "- Using `%%sql` to execute SQL commands directly within the Jupyter Notebook.  \n",
    "- The `ALTER TABLE heartdisease` statement modifies the `heartdisease` table by adding a new column called `behavior_key` of type `INTEGER`.  \n",
    "- The `ADD CONSTRAINT fk_behavior_key` clause defines a foreign key constraint on the `behavior_key` column.  \n",
    "- The `FOREIGN KEY (behavior_key) REFERENCES behavior (behavior_key)` part establishes a relationship between the `heartdisease` and `behavior` tables by referencing the `behavior_key` column in the `behavior` table. This enforces referential integrity between the two tables.\n"
   ]
  },
  {
   "cell_type": "code",
   "execution_count": 45,
   "id": "0dff54ca-5953-4fa5-b956-46cdbb494502",
   "metadata": {},
   "outputs": [
    {
     "data": {
      "text/html": [
       "<span style=\"None\">Running query in &#x27;postgresql://postgres@/final_project&#x27;</span>"
      ],
      "text/plain": [
       "Running query in 'postgresql://postgres@/final_project'"
      ]
     },
     "metadata": {},
     "output_type": "display_data"
    },
    {
     "data": {
      "text/html": [
       "<table>\n",
       "    <thead>\n",
       "        <tr>\n",
       "        </tr>\n",
       "    </thead>\n",
       "    <tbody>\n",
       "    </tbody>\n",
       "</table>"
      ],
      "text/plain": [
       "++\n",
       "||\n",
       "++\n",
       "++"
      ]
     },
     "execution_count": 45,
     "metadata": {},
     "output_type": "execute_result"
    }
   ],
   "source": [
    "%%sql\n",
    "ALTER TABLE heartdisease\n",
    "ADD COLUMN behavior_key INTEGER,\n",
    "ADD CONSTRAINT fk_behavior_key\n",
    "    FOREIGN KEY (behavior_key)\n",
    "    REFERENCES behavior (behavior_key);"
   ]
  },
  {
   "cell_type": "markdown",
   "id": "6e7b2c57-cbdc-4333-98fb-24c21026c95c",
   "metadata": {},
   "source": [
    "Link behavior_key by the variables \"Smoking\", \"AlcoholDrinking\", \"SleepTime\", and \"PhysicalActivity\"\n",
    "\n",
    "- Using `%%sql` to execute SQL commands directly within the Jupyter Notebook.  \n",
    "- The `UPDATE heartdisease` statement updates the `heartdisease` table by setting the `behavior_key` column.  \n",
    "- The `SET behavior_key = behavior.behavior_key` clause assigns the value of the `behavior_key` from the `behavior` table to the `heartdisease` table.  \n",
    "- The `FROM behavior` clause specifies the source table for the update.  \n",
    "- The `WHERE` clause ensures that the update occurs only when there is a match between the `Smoking`, `AlcoholDrinking`, `SleepTime`, and `PhysicalActivity` columns in both the `heartdisease` and `behavior` tables, establishing the correct relationship between the tables.\n"
   ]
  },
  {
   "cell_type": "code",
   "execution_count": 46,
   "id": "d631d547-fefb-43ae-b9a1-9325580e3468",
   "metadata": {},
   "outputs": [
    {
     "data": {
      "text/html": [
       "<span style=\"None\">Running query in &#x27;postgresql://postgres@/final_project&#x27;</span>"
      ],
      "text/plain": [
       "Running query in 'postgresql://postgres@/final_project'"
      ]
     },
     "metadata": {},
     "output_type": "display_data"
    },
    {
     "data": {
      "text/html": [
       "<span style=\"color: green\">319795 rows affected.</span>"
      ],
      "text/plain": [
       "319795 rows affected."
      ]
     },
     "metadata": {},
     "output_type": "display_data"
    },
    {
     "data": {
      "text/html": [
       "<table>\n",
       "    <thead>\n",
       "        <tr>\n",
       "        </tr>\n",
       "    </thead>\n",
       "    <tbody>\n",
       "    </tbody>\n",
       "</table>"
      ],
      "text/plain": [
       "++\n",
       "||\n",
       "++\n",
       "++"
      ]
     },
     "execution_count": 46,
     "metadata": {},
     "output_type": "execute_result"
    }
   ],
   "source": [
    "%%sql\n",
    "UPDATE heartdisease\n",
    "SET behavior_key = behavior.behavior_key\n",
    "FROM behavior\n",
    "WHERE heartdisease.Smoking = behavior.Smoking\n",
    "   AND  heartdisease.AlcoholDrinking = behavior.AlcoholDrinking\n",
    "   AND  heartdisease.SleepTime = behavior.SleepTime\n",
    "   AND heartdisease.PhysicalActivity = behavior.PhysicalActivity\n",
    "    ;"
   ]
  },
  {
   "cell_type": "markdown",
   "id": "439e1c2f-f5ca-403f-bb71-6edc68c8e4e3",
   "metadata": {},
   "source": [
    "Check if the link between both table is working as intended."
   ]
  },
  {
   "cell_type": "code",
   "execution_count": 47,
   "id": "88954e7c-45d7-4c4c-a801-00f4695ba29c",
   "metadata": {},
   "outputs": [
    {
     "data": {
      "text/html": [
       "<span style=\"None\">Running query in &#x27;postgresql://postgres@/final_project&#x27;</span>"
      ],
      "text/plain": [
       "Running query in 'postgresql://postgres@/final_project'"
      ]
     },
     "metadata": {},
     "output_type": "display_data"
    },
    {
     "data": {
      "text/html": [
       "<span style=\"color: green\">10 rows affected.</span>"
      ],
      "text/plain": [
       "10 rows affected."
      ]
     },
     "metadata": {},
     "output_type": "display_data"
    },
    {
     "data": {
      "text/html": [
       "<table>\n",
       "    <thead>\n",
       "        <tr>\n",
       "            <th>heartdisease</th>\n",
       "            <th>bmi</th>\n",
       "            <th>smoking</th>\n",
       "            <th>alcoholdrinking</th>\n",
       "            <th>physicalhealth</th>\n",
       "            <th>mentalhealth</th>\n",
       "            <th>diffwalking</th>\n",
       "            <th>physicalactivity</th>\n",
       "            <th>genhealth</th>\n",
       "            <th>sleeptime</th>\n",
       "            <th>bmicategory</th>\n",
       "            <th>demographic_key</th>\n",
       "            <th>otherdisease_key</th>\n",
       "            <th>behavior_key</th>\n",
       "        </tr>\n",
       "    </thead>\n",
       "    <tbody>\n",
       "        <tr>\n",
       "            <td>False</td>\n",
       "            <td>32.95</td>\n",
       "            <td>False</td>\n",
       "            <td>False</td>\n",
       "            <td>2</td>\n",
       "            <td>0</td>\n",
       "            <td>True</td>\n",
       "            <td>False</td>\n",
       "            <td>Fair</td>\n",
       "            <td>7</td>\n",
       "            <td>Obese</td>\n",
       "            <td>55</td>\n",
       "            <td>26</td>\n",
       "            <td>158</td>\n",
       "        </tr>\n",
       "        <tr>\n",
       "            <td>False</td>\n",
       "            <td>29.29</td>\n",
       "            <td>False</td>\n",
       "            <td>False</td>\n",
       "            <td>3</td>\n",
       "            <td>15</td>\n",
       "            <td>False</td>\n",
       "            <td>True</td>\n",
       "            <td>Fair</td>\n",
       "            <td>7</td>\n",
       "            <td>Overweight</td>\n",
       "            <td>147</td>\n",
       "            <td>26</td>\n",
       "            <td>60</td>\n",
       "        </tr>\n",
       "        <tr>\n",
       "            <td>False</td>\n",
       "            <td>27.89</td>\n",
       "            <td>True</td>\n",
       "            <td>True</td>\n",
       "            <td>0</td>\n",
       "            <td>0</td>\n",
       "            <td>False</td>\n",
       "            <td>False</td>\n",
       "            <td>Excellent</td>\n",
       "            <td>5</td>\n",
       "            <td>Overweight</td>\n",
       "            <td>17</td>\n",
       "            <td>26</td>\n",
       "            <td>100</td>\n",
       "        </tr>\n",
       "        <tr>\n",
       "            <td>False</td>\n",
       "            <td>31.75</td>\n",
       "            <td>False</td>\n",
       "            <td>False</td>\n",
       "            <td>0</td>\n",
       "            <td>0</td>\n",
       "            <td>False</td>\n",
       "            <td>True</td>\n",
       "            <td>Very good</td>\n",
       "            <td>6</td>\n",
       "            <td>Obese</td>\n",
       "            <td>97</td>\n",
       "            <td>26</td>\n",
       "            <td>106</td>\n",
       "        </tr>\n",
       "        <tr>\n",
       "            <td>False</td>\n",
       "            <td>28.70</td>\n",
       "            <td>False</td>\n",
       "            <td>False</td>\n",
       "            <td>0</td>\n",
       "            <td>0</td>\n",
       "            <td>False</td>\n",
       "            <td>True</td>\n",
       "            <td>Excellent</td>\n",
       "            <td>8</td>\n",
       "            <td>Overweight</td>\n",
       "            <td>130</td>\n",
       "            <td>26</td>\n",
       "            <td>28</td>\n",
       "        </tr>\n",
       "        <tr>\n",
       "            <td>False</td>\n",
       "            <td>19.48</td>\n",
       "            <td>True</td>\n",
       "            <td>False</td>\n",
       "            <td>30</td>\n",
       "            <td>20</td>\n",
       "            <td>True</td>\n",
       "            <td>False</td>\n",
       "            <td>Poor</td>\n",
       "            <td>6</td>\n",
       "            <td>Healthy weight</td>\n",
       "            <td>150</td>\n",
       "            <td>26</td>\n",
       "            <td>53</td>\n",
       "        </tr>\n",
       "        <tr>\n",
       "            <td>False</td>\n",
       "            <td>34.44</td>\n",
       "            <td>True</td>\n",
       "            <td>False</td>\n",
       "            <td>0</td>\n",
       "            <td>5</td>\n",
       "            <td>False</td>\n",
       "            <td>True</td>\n",
       "            <td>Good</td>\n",
       "            <td>6</td>\n",
       "            <td>Obese</td>\n",
       "            <td>116</td>\n",
       "            <td>26</td>\n",
       "            <td>80</td>\n",
       "        </tr>\n",
       "        <tr>\n",
       "            <td>False</td>\n",
       "            <td>31.66</td>\n",
       "            <td>False</td>\n",
       "            <td>False</td>\n",
       "            <td>0</td>\n",
       "            <td>0</td>\n",
       "            <td>False</td>\n",
       "            <td>True</td>\n",
       "            <td>Excellent</td>\n",
       "            <td>7</td>\n",
       "            <td>Obese</td>\n",
       "            <td>80</td>\n",
       "            <td>26</td>\n",
       "            <td>60</td>\n",
       "        </tr>\n",
       "        <tr>\n",
       "            <td>False</td>\n",
       "            <td>33.29</td>\n",
       "            <td>False</td>\n",
       "            <td>False</td>\n",
       "            <td>0</td>\n",
       "            <td>0</td>\n",
       "            <td>False</td>\n",
       "            <td>True</td>\n",
       "            <td>Good</td>\n",
       "            <td>7</td>\n",
       "            <td>Obese</td>\n",
       "            <td>109</td>\n",
       "            <td>26</td>\n",
       "            <td>60</td>\n",
       "        </tr>\n",
       "        <tr>\n",
       "            <td>False</td>\n",
       "            <td>28.48</td>\n",
       "            <td>True</td>\n",
       "            <td>False</td>\n",
       "            <td>3</td>\n",
       "            <td>0</td>\n",
       "            <td>False</td>\n",
       "            <td>True</td>\n",
       "            <td>Very good</td>\n",
       "            <td>7</td>\n",
       "            <td>Overweight</td>\n",
       "            <td>116</td>\n",
       "            <td>26</td>\n",
       "            <td>15</td>\n",
       "        </tr>\n",
       "    </tbody>\n",
       "</table>\n",
       "<span style=\"font-style:italic;text-align:center;\">Truncated to <a href=\"https://jupysql.ploomber.io/en/latest/api/configuration.html#displaylimit\">displaylimit</a> of 10.</span>"
      ],
      "text/plain": [
       "+--------------+-------+---------+-----------------+----------------+--------------+-------------+------------------+-----------+-----------+----------------+-----------------+------------------+--------------+\n",
       "| heartdisease |  bmi  | smoking | alcoholdrinking | physicalhealth | mentalhealth | diffwalking | physicalactivity | genhealth | sleeptime |  bmicategory   | demographic_key | otherdisease_key | behavior_key |\n",
       "+--------------+-------+---------+-----------------+----------------+--------------+-------------+------------------+-----------+-----------+----------------+-----------------+------------------+--------------+\n",
       "|    False     | 32.95 |  False  |      False      |       2        |      0       |     True    |      False       |    Fair   |     7     |     Obese      |        55       |        26        |     158      |\n",
       "|    False     | 29.29 |  False  |      False      |       3        |      15      |    False    |       True       |    Fair   |     7     |   Overweight   |       147       |        26        |      60      |\n",
       "|    False     | 27.89 |   True  |       True      |       0        |      0       |    False    |      False       | Excellent |     5     |   Overweight   |        17       |        26        |     100      |\n",
       "|    False     | 31.75 |  False  |      False      |       0        |      0       |    False    |       True       | Very good |     6     |     Obese      |        97       |        26        |     106      |\n",
       "|    False     | 28.70 |  False  |      False      |       0        |      0       |    False    |       True       | Excellent |     8     |   Overweight   |       130       |        26        |      28      |\n",
       "|    False     | 19.48 |   True  |      False      |       30       |      20      |     True    |      False       |    Poor   |     6     | Healthy weight |       150       |        26        |      53      |\n",
       "|    False     | 34.44 |   True  |      False      |       0        |      5       |    False    |       True       |    Good   |     6     |     Obese      |       116       |        26        |      80      |\n",
       "|    False     | 31.66 |  False  |      False      |       0        |      0       |    False    |       True       | Excellent |     7     |     Obese      |        80       |        26        |      60      |\n",
       "|    False     | 33.29 |  False  |      False      |       0        |      0       |    False    |       True       |    Good   |     7     |     Obese      |       109       |        26        |      60      |\n",
       "|    False     | 28.48 |   True  |      False      |       3        |      0       |    False    |       True       | Very good |     7     |   Overweight   |       116       |        26        |      15      |\n",
       "+--------------+-------+---------+-----------------+----------------+--------------+-------------+------------------+-----------+-----------+----------------+-----------------+------------------+--------------+\n",
       "Truncated to displaylimit of 10."
      ]
     },
     "execution_count": 47,
     "metadata": {},
     "output_type": "execute_result"
    }
   ],
   "source": [
    "%%sql\n",
    "SELECT * FROM heartdisease LIMIT 10;"
   ]
  },
  {
   "cell_type": "markdown",
   "id": "1f35a971-ec20-4ff0-bae3-ab81fd8a283e",
   "metadata": {},
   "source": [
    "Drop the transferred columns from the `heartdisease` table.\n",
    "\n",
    "- Using `%%sql` to execute SQL commands directly within the Jupyter Notebook.  \n",
    "- The `ALTER TABLE heartdisease` statement modifies the `heartdisease` table by removing four columns: `Smoking`, `AlcoholDrinking`, `SleepTime`, and `PhysicalActivity`.  \n",
    "- The `DROP COLUMN` clause is used to delete these columns because their data has already been integrated into the `behavior_key` column, and the columns are no longer necessary for analysis.  "
   ]
  },
  {
   "cell_type": "code",
   "execution_count": 48,
   "id": "b8e0c14e-cc21-4f89-a352-beb65d5394aa",
   "metadata": {},
   "outputs": [
    {
     "data": {
      "text/html": [
       "<span style=\"None\">Running query in &#x27;postgresql://postgres@/final_project&#x27;</span>"
      ],
      "text/plain": [
       "Running query in 'postgresql://postgres@/final_project'"
      ]
     },
     "metadata": {},
     "output_type": "display_data"
    },
    {
     "data": {
      "text/html": [
       "<table>\n",
       "    <thead>\n",
       "        <tr>\n",
       "        </tr>\n",
       "    </thead>\n",
       "    <tbody>\n",
       "    </tbody>\n",
       "</table>"
      ],
      "text/plain": [
       "++\n",
       "||\n",
       "++\n",
       "++"
      ]
     },
     "execution_count": 48,
     "metadata": {},
     "output_type": "execute_result"
    }
   ],
   "source": [
    "%%sql\n",
    "ALTER TABLE heartdisease \n",
    "DROP COLUMN Smoking,\n",
    "DROP COLUMN AlcoholDrinking,  \n",
    "DROP COLUMN SleepTime,   \n",
    "DROP COLUMN PhysicalActivity   \n",
    "    ;"
   ]
  },
  {
   "cell_type": "markdown",
   "id": "9a092869-578b-4671-b336-2a944dd87849",
   "metadata": {},
   "source": [
    "#### D. General health dimension\n",
    "The same process as creating the other tables."
   ]
  },
  {
   "cell_type": "markdown",
   "id": "1496bdc5-b4cb-4548-bf40-6b71294e7ef0",
   "metadata": {},
   "source": [
    "reate table\n",
    "\n",
    "- Using `%%sql` to execute SQL commands directly within the Jupyter Notebook.\n",
    "- The `DROP TABLE IF EXISTS generalhealth;` command ensures that if the `generalhealth` table already exists, it will be deleted before creating a new one.\n",
    "- The `CREATE TABLE` command creates a new table called `generalhealth` with the specified columns.\n",
    "- Each column is defined with a specific data type and a `NOT NULL` constraint, meaning values for these columns must be provided.\n",
    "- The table includes various Demographic attributes, such as `BMI`, `BMI_Category`, `PhysicalHealth`, `MentalHealth`, `DiffWalking`, `GenHealth`"
   ]
  },
  {
   "cell_type": "code",
   "execution_count": 49,
   "id": "b109bfa5-c19d-4987-8fba-0fe46be5a60d",
   "metadata": {},
   "outputs": [
    {
     "data": {
      "text/html": [
       "<span style=\"None\">Running query in &#x27;postgresql://postgres@/final_project&#x27;</span>"
      ],
      "text/plain": [
       "Running query in 'postgresql://postgres@/final_project'"
      ]
     },
     "metadata": {},
     "output_type": "display_data"
    },
    {
     "data": {
      "text/html": [
       "<table>\n",
       "    <thead>\n",
       "        <tr>\n",
       "        </tr>\n",
       "    </thead>\n",
       "    <tbody>\n",
       "    </tbody>\n",
       "</table>"
      ],
      "text/plain": [
       "++\n",
       "||\n",
       "++\n",
       "++"
      ]
     },
     "execution_count": 49,
     "metadata": {},
     "output_type": "execute_result"
    }
   ],
   "source": [
    "%%sql\n",
    "DROP TABLE IF EXISTS generalhealth;\n",
    "\n",
    "CREATE TABLE generalhealth (\n",
    "    generalhealth_key SERIAL PRIMARY KEY,\n",
    "    BMI DECIMAL(5,2),\n",
    "    BMI_Category VARCHAR(20),\n",
    "    PhysicalHealth FLOAT,\n",
    "    MentalHealth FLOAT,\n",
    "    DiffWalking BOOLEAN,\n",
    "    GenHealth VARCHAR(20)\n",
    ");"
   ]
  },
  {
   "cell_type": "markdown",
   "id": "51820b0f-f6bc-4409-afbe-84ce49abf7f4",
   "metadata": {},
   "source": [
    "Insert value from fact table \n",
    "\n",
    "- Using `%%sql` to execute SQL commands directly within the Jupyter Notebook.\n",
    "- The `INSERT INTO generalhealth` statement inserts distinct values into the `generalhealth` table for each of the specific columns from the `heartdisease` table.\n",
    "- This operation helps populate the `generalhealth` table with unique generalhealth data from the `heartdisease` table without duplicates."
   ]
  },
  {
   "cell_type": "code",
   "execution_count": 50,
   "id": "9a9a7daa-38d6-4f30-b077-361b86c49d4d",
   "metadata": {},
   "outputs": [
    {
     "data": {
      "text/html": [
       "<span style=\"None\">Running query in &#x27;postgresql://postgres@/final_project&#x27;</span>"
      ],
      "text/plain": [
       "Running query in 'postgresql://postgres@/final_project'"
      ]
     },
     "metadata": {},
     "output_type": "display_data"
    },
    {
     "data": {
      "text/html": [
       "<span style=\"color: green\">109458 rows affected.</span>"
      ],
      "text/plain": [
       "109458 rows affected."
      ]
     },
     "metadata": {},
     "output_type": "display_data"
    },
    {
     "data": {
      "text/html": [
       "<table>\n",
       "    <thead>\n",
       "        <tr>\n",
       "        </tr>\n",
       "    </thead>\n",
       "    <tbody>\n",
       "    </tbody>\n",
       "</table>"
      ],
      "text/plain": [
       "++\n",
       "||\n",
       "++\n",
       "++"
      ]
     },
     "execution_count": 50,
     "metadata": {},
     "output_type": "execute_result"
    }
   ],
   "source": [
    "%%sql\n",
    "INSERT INTO generalhealth (BMI, BMI_Category, PhysicalHealth, MentalHealth, DiffWalking, GenHealth)\n",
    "SELECT DISTINCT\n",
    "       BMI AS BMI,\n",
    "       bmicategory AS BMI_Category,\n",
    "       PhysicalHealth AS PhysicalHealth, \n",
    "       MentalHealth AS MentalHealth,\n",
    "       DiffWalking AS DiffWalking,\n",
    "       GenHealth AS GenHealth\n",
    "    \n",
    "FROM heartdisease"
   ]
  },
  {
   "cell_type": "markdown",
   "id": "88f94d23-b591-4429-99db-f375c0775a9a",
   "metadata": {},
   "source": [
    "Check if data was inserted as intended.\n",
    "\n",
    "- Using `%%sql` to execute SQL commands directly within the Jupyter Notebook.\n",
    "- The `SELECT *` query retrieves all columns from the `generalhealth` table.\n",
    "- The `LIMIT 10` clause restricts the result to the first 10 rows, providing a quick preview of the data stored in the `generalhealth` table."
   ]
  },
  {
   "cell_type": "code",
   "execution_count": 51,
   "id": "8f47cab1-93db-4b3b-8d1e-639d872c1a9f",
   "metadata": {},
   "outputs": [
    {
     "data": {
      "text/html": [
       "<span style=\"None\">Running query in &#x27;postgresql://postgres@/final_project&#x27;</span>"
      ],
      "text/plain": [
       "Running query in 'postgresql://postgres@/final_project'"
      ]
     },
     "metadata": {},
     "output_type": "display_data"
    },
    {
     "data": {
      "text/html": [
       "<span style=\"color: green\">10 rows affected.</span>"
      ],
      "text/plain": [
       "10 rows affected."
      ]
     },
     "metadata": {},
     "output_type": "display_data"
    },
    {
     "data": {
      "text/html": [
       "<table>\n",
       "    <thead>\n",
       "        <tr>\n",
       "            <th>generalhealth_key</th>\n",
       "            <th>bmi</th>\n",
       "            <th>bmi_category</th>\n",
       "            <th>physicalhealth</th>\n",
       "            <th>mentalhealth</th>\n",
       "            <th>diffwalking</th>\n",
       "            <th>genhealth</th>\n",
       "        </tr>\n",
       "    </thead>\n",
       "    <tbody>\n",
       "        <tr>\n",
       "            <td>1</td>\n",
       "            <td>22.47</td>\n",
       "            <td>Healthy weight</td>\n",
       "            <td>1.0</td>\n",
       "            <td>1.0</td>\n",
       "            <td>False</td>\n",
       "            <td>Very good</td>\n",
       "        </tr>\n",
       "        <tr>\n",
       "            <td>2</td>\n",
       "            <td>20.48</td>\n",
       "            <td>Healthy weight</td>\n",
       "            <td>30.0</td>\n",
       "            <td>30.0</td>\n",
       "            <td>False</td>\n",
       "            <td>Fair</td>\n",
       "        </tr>\n",
       "        <tr>\n",
       "            <td>3</td>\n",
       "            <td>39.94</td>\n",
       "            <td>Obese</td>\n",
       "            <td>0.0</td>\n",
       "            <td>27.0</td>\n",
       "            <td>False</td>\n",
       "            <td>Good</td>\n",
       "        </tr>\n",
       "        <tr>\n",
       "            <td>4</td>\n",
       "            <td>21.58</td>\n",
       "            <td>Healthy weight</td>\n",
       "            <td>0.0</td>\n",
       "            <td>14.0</td>\n",
       "            <td>False</td>\n",
       "            <td>Excellent</td>\n",
       "        </tr>\n",
       "        <tr>\n",
       "            <td>5</td>\n",
       "            <td>24.97</td>\n",
       "            <td>Healthy weight</td>\n",
       "            <td>5.0</td>\n",
       "            <td>0.0</td>\n",
       "            <td>False</td>\n",
       "            <td>Good</td>\n",
       "        </tr>\n",
       "        <tr>\n",
       "            <td>6</td>\n",
       "            <td>23.99</td>\n",
       "            <td>Healthy weight</td>\n",
       "            <td>0.0</td>\n",
       "            <td>1.0</td>\n",
       "            <td>False</td>\n",
       "            <td>Excellent</td>\n",
       "        </tr>\n",
       "        <tr>\n",
       "            <td>7</td>\n",
       "            <td>34.67</td>\n",
       "            <td>Obese</td>\n",
       "            <td>3.0</td>\n",
       "            <td>20.0</td>\n",
       "            <td>True</td>\n",
       "            <td>Fair</td>\n",
       "        </tr>\n",
       "        <tr>\n",
       "            <td>8</td>\n",
       "            <td>28.89</td>\n",
       "            <td>Overweight</td>\n",
       "            <td>4.0</td>\n",
       "            <td>0.0</td>\n",
       "            <td>False</td>\n",
       "            <td>Good</td>\n",
       "        </tr>\n",
       "        <tr>\n",
       "            <td>9</td>\n",
       "            <td>34.02</td>\n",
       "            <td>Obese</td>\n",
       "            <td>0.0</td>\n",
       "            <td>14.0</td>\n",
       "            <td>True</td>\n",
       "            <td>Good</td>\n",
       "        </tr>\n",
       "        <tr>\n",
       "            <td>10</td>\n",
       "            <td>36.52</td>\n",
       "            <td>Obese</td>\n",
       "            <td>0.0</td>\n",
       "            <td>7.0</td>\n",
       "            <td>False</td>\n",
       "            <td>Good</td>\n",
       "        </tr>\n",
       "    </tbody>\n",
       "</table>\n",
       "<span style=\"font-style:italic;text-align:center;\">Truncated to <a href=\"https://jupysql.ploomber.io/en/latest/api/configuration.html#displaylimit\">displaylimit</a> of 10.</span>"
      ],
      "text/plain": [
       "+-------------------+-------+----------------+----------------+--------------+-------------+-----------+\n",
       "| generalhealth_key |  bmi  |  bmi_category  | physicalhealth | mentalhealth | diffwalking | genhealth |\n",
       "+-------------------+-------+----------------+----------------+--------------+-------------+-----------+\n",
       "|         1         | 22.47 | Healthy weight |      1.0       |     1.0      |    False    | Very good |\n",
       "|         2         | 20.48 | Healthy weight |      30.0      |     30.0     |    False    |    Fair   |\n",
       "|         3         | 39.94 |     Obese      |      0.0       |     27.0     |    False    |    Good   |\n",
       "|         4         | 21.58 | Healthy weight |      0.0       |     14.0     |    False    | Excellent |\n",
       "|         5         | 24.97 | Healthy weight |      5.0       |     0.0      |    False    |    Good   |\n",
       "|         6         | 23.99 | Healthy weight |      0.0       |     1.0      |    False    | Excellent |\n",
       "|         7         | 34.67 |     Obese      |      3.0       |     20.0     |     True    |    Fair   |\n",
       "|         8         | 28.89 |   Overweight   |      4.0       |     0.0      |    False    |    Good   |\n",
       "|         9         | 34.02 |     Obese      |      0.0       |     14.0     |     True    |    Good   |\n",
       "|         10        | 36.52 |     Obese      |      0.0       |     7.0      |    False    |    Good   |\n",
       "+-------------------+-------+----------------+----------------+--------------+-------------+-----------+\n",
       "Truncated to displaylimit of 10."
      ]
     },
     "execution_count": 51,
     "metadata": {},
     "output_type": "execute_result"
    }
   ],
   "source": [
    "%%sql\n",
    "SELECT * FROM generalhealth LIMIT 10;"
   ]
  },
  {
   "cell_type": "markdown",
   "id": "ff9c43b1-2398-471d-ae22-2a5c3e3eabb4",
   "metadata": {},
   "source": [
    " Add generalhealth_key to fact table\n",
    "\n",
    "- Using `%%sql` to execute SQL commands directly within the Jupyter Notebook.  \n",
    "- The `ALTER TABLE heartdisease` statement modifies the `heartdisease` table by adding a new column called `generalhealth_key` of type `INTEGER`.  \n",
    "- The `ADD CONSTRAINT fk_generalhealth_key` clause defines a foreign key constraint on the `generalhealth_key` column.  \n",
    "- The `FOREIGN KEY (generalhealth_key) REFERENCES generalhealth (generalhealth_key)` part establishes a relationship between the `heartdisease` and `generalhealth` tables by referencing the `generalhealth_key` column in the `generalhealth` table. This enforces referential integrity between the two tables.\n"
   ]
  },
  {
   "cell_type": "code",
   "execution_count": 52,
   "id": "e9f92a85-64bc-4aac-ab38-d198d7cb65f0",
   "metadata": {},
   "outputs": [
    {
     "data": {
      "text/html": [
       "<span style=\"None\">Running query in &#x27;postgresql://postgres@/final_project&#x27;</span>"
      ],
      "text/plain": [
       "Running query in 'postgresql://postgres@/final_project'"
      ]
     },
     "metadata": {},
     "output_type": "display_data"
    },
    {
     "data": {
      "text/html": [
       "<table>\n",
       "    <thead>\n",
       "        <tr>\n",
       "        </tr>\n",
       "    </thead>\n",
       "    <tbody>\n",
       "    </tbody>\n",
       "</table>"
      ],
      "text/plain": [
       "++\n",
       "||\n",
       "++\n",
       "++"
      ]
     },
     "execution_count": 52,
     "metadata": {},
     "output_type": "execute_result"
    }
   ],
   "source": [
    "%%sql\n",
    "ALTER TABLE heartdisease\n",
    "ADD COLUMN generalhealth_key INTEGER,\n",
    "ADD CONSTRAINT fk_generalhealth_key\n",
    "    FOREIGN KEY (generalhealth_key)\n",
    "    REFERENCES generalhealth (generalhealth_key);"
   ]
  },
  {
   "cell_type": "markdown",
   "id": "8a2e9696-5b96-4568-9e89-810074c44256",
   "metadata": {},
   "source": [
    "Link generalhealth_key by the variables \"PhysicalHealth\", \"MentalHealth\", \"DiffWalking\", \"GenHealth\", \"BMI\", and \"BMI_Category\"\n",
    "\n",
    "- Using `%%sql` to execute SQL commands directly within the Jupyter Notebook.  \n",
    "- The `UPDATE heartdisease` statement updates the `heartdisease` table by setting the `generalhealth_key` column.  \n",
    "- The `SET generalhealth_key = generalhealth.generalhealth_key` clause assigns the value of the `generalhealth_key` from the `generalhealth` table to the `heartdisease` table.  \n",
    "- The `FROM generalhealth` clause specifies the source table for the update.  \n",
    "- The `WHERE` clause ensures that the update occurs only when there is a match between the `PhysicalHealth`, `MentalHealth`, `DiffWalking`, `GenHealth`, `BMI`, and `BMI_Category` columns in both the `heartdisease` and `generalhealth` tables, establishing the correct relationship between the tables.\n"
   ]
  },
  {
   "cell_type": "code",
   "execution_count": 53,
   "id": "49835f4b-1d2a-44ed-877a-ecab2a318737",
   "metadata": {},
   "outputs": [
    {
     "data": {
      "text/html": [
       "<span style=\"None\">Running query in &#x27;postgresql://postgres@/final_project&#x27;</span>"
      ],
      "text/plain": [
       "Running query in 'postgresql://postgres@/final_project'"
      ]
     },
     "metadata": {},
     "output_type": "display_data"
    },
    {
     "data": {
      "text/html": [
       "<span style=\"color: green\">319795 rows affected.</span>"
      ],
      "text/plain": [
       "319795 rows affected."
      ]
     },
     "metadata": {},
     "output_type": "display_data"
    },
    {
     "data": {
      "text/html": [
       "<table>\n",
       "    <thead>\n",
       "        <tr>\n",
       "        </tr>\n",
       "    </thead>\n",
       "    <tbody>\n",
       "    </tbody>\n",
       "</table>"
      ],
      "text/plain": [
       "++\n",
       "||\n",
       "++\n",
       "++"
      ]
     },
     "execution_count": 53,
     "metadata": {},
     "output_type": "execute_result"
    }
   ],
   "source": [
    "%%sql\n",
    "UPDATE heartdisease\n",
    "SET generalhealth_key = generalhealth.generalhealth_key\n",
    "FROM generalhealth\n",
    "WHERE heartdisease.PhysicalHealth = generalhealth.PhysicalHealth\n",
    "    AND heartdisease.MentalHealth = generalhealth.MentalHealth\n",
    "    AND heartdisease.DiffWalking = generalhealth.DiffWalking\n",
    "    AND heartdisease.GenHealth = generalhealth.GenHealth\n",
    "    AND heartdisease.BMI = generalhealth.BMI   \n",
    "    AND heartdisease.bmicategory = generalhealth.BMI_Category\n",
    "    ;"
   ]
  },
  {
   "cell_type": "markdown",
   "id": "9ce9264a-ea15-4d0e-8ea8-7e219ff3b020",
   "metadata": {},
   "source": [
    "Check if the link between both table is working as intended."
   ]
  },
  {
   "cell_type": "code",
   "execution_count": 54,
   "id": "e5918e1f-2c5c-4fd8-a5b6-266403733e2b",
   "metadata": {},
   "outputs": [
    {
     "data": {
      "text/html": [
       "<span style=\"None\">Running query in &#x27;postgresql://postgres@/final_project&#x27;</span>"
      ],
      "text/plain": [
       "Running query in 'postgresql://postgres@/final_project'"
      ]
     },
     "metadata": {},
     "output_type": "display_data"
    },
    {
     "data": {
      "text/html": [
       "<span style=\"color: green\">10 rows affected.</span>"
      ],
      "text/plain": [
       "10 rows affected."
      ]
     },
     "metadata": {},
     "output_type": "display_data"
    },
    {
     "data": {
      "text/html": [
       "<table>\n",
       "    <thead>\n",
       "        <tr>\n",
       "            <th>heartdisease</th>\n",
       "            <th>bmi</th>\n",
       "            <th>physicalhealth</th>\n",
       "            <th>mentalhealth</th>\n",
       "            <th>diffwalking</th>\n",
       "            <th>genhealth</th>\n",
       "            <th>bmicategory</th>\n",
       "            <th>demographic_key</th>\n",
       "            <th>otherdisease_key</th>\n",
       "            <th>behavior_key</th>\n",
       "            <th>generalhealth_key</th>\n",
       "        </tr>\n",
       "    </thead>\n",
       "    <tbody>\n",
       "        <tr>\n",
       "            <td>False</td>\n",
       "            <td>25.73</td>\n",
       "            <td>0</td>\n",
       "            <td>0</td>\n",
       "            <td>False</td>\n",
       "            <td>Very good</td>\n",
       "            <td>Overweight</td>\n",
       "            <td>22</td>\n",
       "            <td>26</td>\n",
       "            <td>158</td>\n",
       "            <td>40081</td>\n",
       "        </tr>\n",
       "        <tr>\n",
       "            <td>False</td>\n",
       "            <td>25.73</td>\n",
       "            <td>0</td>\n",
       "            <td>0</td>\n",
       "            <td>False</td>\n",
       "            <td>Very good</td>\n",
       "            <td>Overweight</td>\n",
       "            <td>11</td>\n",
       "            <td>41</td>\n",
       "            <td>106</td>\n",
       "            <td>40081</td>\n",
       "        </tr>\n",
       "        <tr>\n",
       "            <td>False</td>\n",
       "            <td>25.73</td>\n",
       "            <td>0</td>\n",
       "            <td>0</td>\n",
       "            <td>False</td>\n",
       "            <td>Very good</td>\n",
       "            <td>Overweight</td>\n",
       "            <td>124</td>\n",
       "            <td>26</td>\n",
       "            <td>64</td>\n",
       "            <td>40081</td>\n",
       "        </tr>\n",
       "        <tr>\n",
       "            <td>False</td>\n",
       "            <td>25.73</td>\n",
       "            <td>0</td>\n",
       "            <td>0</td>\n",
       "            <td>False</td>\n",
       "            <td>Very good</td>\n",
       "            <td>Overweight</td>\n",
       "            <td>45</td>\n",
       "            <td>64</td>\n",
       "            <td>28</td>\n",
       "            <td>40081</td>\n",
       "        </tr>\n",
       "        <tr>\n",
       "            <td>True</td>\n",
       "            <td>25.73</td>\n",
       "            <td>0</td>\n",
       "            <td>0</td>\n",
       "            <td>False</td>\n",
       "            <td>Very good</td>\n",
       "            <td>Overweight</td>\n",
       "            <td>45</td>\n",
       "            <td>26</td>\n",
       "            <td>28</td>\n",
       "            <td>40081</td>\n",
       "        </tr>\n",
       "        <tr>\n",
       "            <td>True</td>\n",
       "            <td>25.73</td>\n",
       "            <td>0</td>\n",
       "            <td>0</td>\n",
       "            <td>False</td>\n",
       "            <td>Very good</td>\n",
       "            <td>Overweight</td>\n",
       "            <td>96</td>\n",
       "            <td>7</td>\n",
       "            <td>28</td>\n",
       "            <td>40081</td>\n",
       "        </tr>\n",
       "        <tr>\n",
       "            <td>False</td>\n",
       "            <td>25.73</td>\n",
       "            <td>0</td>\n",
       "            <td>0</td>\n",
       "            <td>False</td>\n",
       "            <td>Very good</td>\n",
       "            <td>Overweight</td>\n",
       "            <td>147</td>\n",
       "            <td>47</td>\n",
       "            <td>28</td>\n",
       "            <td>40081</td>\n",
       "        </tr>\n",
       "        <tr>\n",
       "            <td>False</td>\n",
       "            <td>25.73</td>\n",
       "            <td>0</td>\n",
       "            <td>0</td>\n",
       "            <td>False</td>\n",
       "            <td>Very good</td>\n",
       "            <td>Overweight</td>\n",
       "            <td>130</td>\n",
       "            <td>64</td>\n",
       "            <td>106</td>\n",
       "            <td>40081</td>\n",
       "        </tr>\n",
       "        <tr>\n",
       "            <td>False</td>\n",
       "            <td>25.73</td>\n",
       "            <td>0</td>\n",
       "            <td>0</td>\n",
       "            <td>False</td>\n",
       "            <td>Very good</td>\n",
       "            <td>Overweight</td>\n",
       "            <td>50</td>\n",
       "            <td>26</td>\n",
       "            <td>14</td>\n",
       "            <td>40081</td>\n",
       "        </tr>\n",
       "        <tr>\n",
       "            <td>False</td>\n",
       "            <td>25.73</td>\n",
       "            <td>0</td>\n",
       "            <td>0</td>\n",
       "            <td>False</td>\n",
       "            <td>Very good</td>\n",
       "            <td>Overweight</td>\n",
       "            <td>124</td>\n",
       "            <td>26</td>\n",
       "            <td>106</td>\n",
       "            <td>40081</td>\n",
       "        </tr>\n",
       "    </tbody>\n",
       "</table>\n",
       "<span style=\"font-style:italic;text-align:center;\">Truncated to <a href=\"https://jupysql.ploomber.io/en/latest/api/configuration.html#displaylimit\">displaylimit</a> of 10.</span>"
      ],
      "text/plain": [
       "+--------------+-------+----------------+--------------+-------------+-----------+-------------+-----------------+------------------+--------------+-------------------+\n",
       "| heartdisease |  bmi  | physicalhealth | mentalhealth | diffwalking | genhealth | bmicategory | demographic_key | otherdisease_key | behavior_key | generalhealth_key |\n",
       "+--------------+-------+----------------+--------------+-------------+-----------+-------------+-----------------+------------------+--------------+-------------------+\n",
       "|    False     | 25.73 |       0        |      0       |    False    | Very good |  Overweight |        22       |        26        |     158      |       40081       |\n",
       "|    False     | 25.73 |       0        |      0       |    False    | Very good |  Overweight |        11       |        41        |     106      |       40081       |\n",
       "|    False     | 25.73 |       0        |      0       |    False    | Very good |  Overweight |       124       |        26        |      64      |       40081       |\n",
       "|    False     | 25.73 |       0        |      0       |    False    | Very good |  Overweight |        45       |        64        |      28      |       40081       |\n",
       "|     True     | 25.73 |       0        |      0       |    False    | Very good |  Overweight |        45       |        26        |      28      |       40081       |\n",
       "|     True     | 25.73 |       0        |      0       |    False    | Very good |  Overweight |        96       |        7         |      28      |       40081       |\n",
       "|    False     | 25.73 |       0        |      0       |    False    | Very good |  Overweight |       147       |        47        |      28      |       40081       |\n",
       "|    False     | 25.73 |       0        |      0       |    False    | Very good |  Overweight |       130       |        64        |     106      |       40081       |\n",
       "|    False     | 25.73 |       0        |      0       |    False    | Very good |  Overweight |        50       |        26        |      14      |       40081       |\n",
       "|    False     | 25.73 |       0        |      0       |    False    | Very good |  Overweight |       124       |        26        |     106      |       40081       |\n",
       "+--------------+-------+----------------+--------------+-------------+-----------+-------------+-----------------+------------------+--------------+-------------------+\n",
       "Truncated to displaylimit of 10."
      ]
     },
     "execution_count": 54,
     "metadata": {},
     "output_type": "execute_result"
    }
   ],
   "source": [
    "%%sql\n",
    "SELECT * FROM heartdisease LIMIT 10;"
   ]
  },
  {
   "cell_type": "markdown",
   "id": "ca8f76b8-8c7c-42a4-88b7-ee6fac34ceb9",
   "metadata": {},
   "source": [
    "Drop the transferred columns from the `heartdisease` table.\n",
    "\n",
    "- Using `%%sql` to execute SQL commands directly within the Jupyter Notebook.  \n",
    "- The `ALTER TABLE heartdisease` statement modifies the `heartdisease` table by removing six columns: `PhysicalHealth`, `MentalHealth`, `DiffWalking`, `GenHealth`, `BMI`, and `bmicategory`.  \n",
    "- The `DROP COLUMN` clause is used to delete these columns because their data has already been integrated into the `generalhealth_key` column, and the columns are no longer necessary for analysis.  \n"
   ]
  },
  {
   "cell_type": "code",
   "execution_count": 55,
   "id": "a92acefd-2dd2-42ab-bd5c-bfe218c19f6c",
   "metadata": {},
   "outputs": [
    {
     "data": {
      "text/html": [
       "<span style=\"None\">Running query in &#x27;postgresql://postgres@/final_project&#x27;</span>"
      ],
      "text/plain": [
       "Running query in 'postgresql://postgres@/final_project'"
      ]
     },
     "metadata": {},
     "output_type": "display_data"
    },
    {
     "data": {
      "text/html": [
       "<table>\n",
       "    <thead>\n",
       "        <tr>\n",
       "        </tr>\n",
       "    </thead>\n",
       "    <tbody>\n",
       "    </tbody>\n",
       "</table>"
      ],
      "text/plain": [
       "++\n",
       "||\n",
       "++\n",
       "++"
      ]
     },
     "execution_count": 55,
     "metadata": {},
     "output_type": "execute_result"
    }
   ],
   "source": [
    "%%sql\n",
    "ALTER TABLE heartdisease \n",
    "DROP COLUMN PhysicalHealth,\n",
    "DROP COLUMN MentalHealth,\n",
    "DROP COLUMN DiffWalking,\n",
    "DROP COLUMN GenHealth,\n",
    "DROP COLUMN BMI,\n",
    "DROP COLUMN bmicategory\n",
    "    ;"
   ]
  },
  {
   "cell_type": "markdown",
   "id": "45e4006d-7ab6-4468-939b-94d1f5878a1b",
   "metadata": {},
   "source": [
    "## Heart disease dimension\n",
    "Lastly inspect our heartdisease table to check that all the keys have been inserted as intended "
   ]
  },
  {
   "cell_type": "code",
   "execution_count": 56,
   "id": "9a5872a6-e484-46b5-ba38-1a1a13c6ed65",
   "metadata": {},
   "outputs": [
    {
     "data": {
      "text/html": [
       "<span style=\"None\">Running query in &#x27;postgresql://postgres@/final_project&#x27;</span>"
      ],
      "text/plain": [
       "Running query in 'postgresql://postgres@/final_project'"
      ]
     },
     "metadata": {},
     "output_type": "display_data"
    },
    {
     "data": {
      "text/html": [
       "<span style=\"color: green\">10 rows affected.</span>"
      ],
      "text/plain": [
       "10 rows affected."
      ]
     },
     "metadata": {},
     "output_type": "display_data"
    },
    {
     "data": {
      "text/html": [
       "<table>\n",
       "    <thead>\n",
       "        <tr>\n",
       "            <th>heartdisease</th>\n",
       "            <th>demographic_key</th>\n",
       "            <th>otherdisease_key</th>\n",
       "            <th>behavior_key</th>\n",
       "            <th>generalhealth_key</th>\n",
       "        </tr>\n",
       "    </thead>\n",
       "    <tbody>\n",
       "        <tr>\n",
       "            <td>False</td>\n",
       "            <td>22</td>\n",
       "            <td>26</td>\n",
       "            <td>158</td>\n",
       "            <td>40081</td>\n",
       "        </tr>\n",
       "        <tr>\n",
       "            <td>False</td>\n",
       "            <td>11</td>\n",
       "            <td>41</td>\n",
       "            <td>106</td>\n",
       "            <td>40081</td>\n",
       "        </tr>\n",
       "        <tr>\n",
       "            <td>False</td>\n",
       "            <td>124</td>\n",
       "            <td>26</td>\n",
       "            <td>64</td>\n",
       "            <td>40081</td>\n",
       "        </tr>\n",
       "        <tr>\n",
       "            <td>False</td>\n",
       "            <td>45</td>\n",
       "            <td>64</td>\n",
       "            <td>28</td>\n",
       "            <td>40081</td>\n",
       "        </tr>\n",
       "        <tr>\n",
       "            <td>True</td>\n",
       "            <td>45</td>\n",
       "            <td>26</td>\n",
       "            <td>28</td>\n",
       "            <td>40081</td>\n",
       "        </tr>\n",
       "        <tr>\n",
       "            <td>True</td>\n",
       "            <td>96</td>\n",
       "            <td>7</td>\n",
       "            <td>28</td>\n",
       "            <td>40081</td>\n",
       "        </tr>\n",
       "        <tr>\n",
       "            <td>False</td>\n",
       "            <td>147</td>\n",
       "            <td>47</td>\n",
       "            <td>28</td>\n",
       "            <td>40081</td>\n",
       "        </tr>\n",
       "        <tr>\n",
       "            <td>False</td>\n",
       "            <td>130</td>\n",
       "            <td>64</td>\n",
       "            <td>106</td>\n",
       "            <td>40081</td>\n",
       "        </tr>\n",
       "        <tr>\n",
       "            <td>False</td>\n",
       "            <td>50</td>\n",
       "            <td>26</td>\n",
       "            <td>14</td>\n",
       "            <td>40081</td>\n",
       "        </tr>\n",
       "        <tr>\n",
       "            <td>False</td>\n",
       "            <td>124</td>\n",
       "            <td>26</td>\n",
       "            <td>106</td>\n",
       "            <td>40081</td>\n",
       "        </tr>\n",
       "    </tbody>\n",
       "</table>\n",
       "<span style=\"font-style:italic;text-align:center;\">Truncated to <a href=\"https://jupysql.ploomber.io/en/latest/api/configuration.html#displaylimit\">displaylimit</a> of 10.</span>"
      ],
      "text/plain": [
       "+--------------+-----------------+------------------+--------------+-------------------+\n",
       "| heartdisease | demographic_key | otherdisease_key | behavior_key | generalhealth_key |\n",
       "+--------------+-----------------+------------------+--------------+-------------------+\n",
       "|    False     |        22       |        26        |     158      |       40081       |\n",
       "|    False     |        11       |        41        |     106      |       40081       |\n",
       "|    False     |       124       |        26        |      64      |       40081       |\n",
       "|    False     |        45       |        64        |      28      |       40081       |\n",
       "|     True     |        45       |        26        |      28      |       40081       |\n",
       "|     True     |        96       |        7         |      28      |       40081       |\n",
       "|    False     |       147       |        47        |      28      |       40081       |\n",
       "|    False     |       130       |        64        |     106      |       40081       |\n",
       "|    False     |        50       |        26        |      14      |       40081       |\n",
       "|    False     |       124       |        26        |     106      |       40081       |\n",
       "+--------------+-----------------+------------------+--------------+-------------------+\n",
       "Truncated to displaylimit of 10."
      ]
     },
     "execution_count": 56,
     "metadata": {},
     "output_type": "execute_result"
    }
   ],
   "source": [
    "%%sql\n",
    "SELECT * FROM heartdisease LIMIT 10;"
   ]
  },
  {
   "cell_type": "markdown",
   "id": "b311fed7-8361-4e32-bd53-6c6b97d729b4",
   "metadata": {},
   "source": [
    "## Ask 3: Data Analysis and Visualization\n",
    "\n",
    "1. Impact of Demographics and General Health on Heart Disease\n",
    "Examine the role of demographic factors (e.g., sex, age, race) and general health indicators (e.g., BMI, self-reported health status) in predicting heart disease. For example:\n",
    "Are there significant differences in heart disease risk across gender or age groups?\n",
    "Can BMI and subjective health evaluations serve as predictors for heart disease?\n",
    "\n",
    "2. Effect of Health Behaviors on Heart Disease\n",
    "Analyze how health behaviors (e.g., smoking, alcohol consumption, physical activity, and sleep duration) influence the prevalence of heart disease. For example:\n",
    "Do smoking and alcohol consumption significantly raise the risk of heart disease?\n",
    "Can regular physical activity and adequate sleep reduce the likelihood of developing heart disease?\n",
    "\n",
    "3. Impact of Other Diseases on Heart Disease\n",
    "Investigate the relationship between chronic diseases (e.g., diabetes, asthma, kidney disease, stroke, and skin cancer) and heart disease. For example:\n",
    "Do these chronic conditions increase the risk of developing heart disease?\n",
    "How does the coexistence of multiple diseases affect the likelihood of heart disease?"
   ]
  },
  {
   "cell_type": "markdown",
   "id": "4f000709-964c-467f-bf78-52f616e90f11",
   "metadata": {},
   "source": [
    "# 1. Impact of Demographics and General Health"
   ]
  },
  {
   "cell_type": "markdown",
   "id": "a976292f-c029-483d-b151-02e7fa278eea",
   "metadata": {},
   "source": [
    "Demographics-Sex"
   ]
  },
  {
   "cell_type": "markdown",
   "id": "a8fe7de9-c1ec-44d7-85cf-1a40eed6ba41",
   "metadata": {},
   "source": [
    "### Query to Analyze Heart Disease by Sex\n",
    "\n",
    "- Using `%%sql` to execute SQL commands directly within the Jupyter Notebook.\n",
    "- The `SELECT` statement retrieves the following:\n",
    "  - `heartdisease.heartdisease`: Indicates whether the individual has heart disease.\n",
    "  - `demographic.Sex`: Represents the sex of the individual.\n",
    "  - `COUNT(*) AS count`: Counts the number of individuals for each combination of heart disease status and sex.\n",
    "- The `JOIN` clause links the `heartdisease` and `demographic` tables using the `demographic_key` column to establish the relationship.\n",
    "- The `GROUP BY` clause groups the results by `heartdisease.heartdisease` and `demographic.Sex` to calculate the count for each group.\n",
    "- This query helps analyze the distribution of heart disease status across different sexes."
   ]
  },
  {
   "cell_type": "code",
   "execution_count": 57,
   "id": "0ae75c95-5582-42a5-bc54-c2be04fdc896",
   "metadata": {},
   "outputs": [
    {
     "data": {
      "text/html": [
       "<span style=\"None\">Running query in &#x27;postgresql://postgres@/final_project&#x27;</span>"
      ],
      "text/plain": [
       "Running query in 'postgresql://postgres@/final_project'"
      ]
     },
     "metadata": {},
     "output_type": "display_data"
    },
    {
     "data": {
      "text/html": [
       "<span style=\"color: green\">4 rows affected.</span>"
      ],
      "text/plain": [
       "4 rows affected."
      ]
     },
     "metadata": {},
     "output_type": "display_data"
    },
    {
     "data": {
      "text/html": [
       "<table>\n",
       "    <thead>\n",
       "        <tr>\n",
       "            <th>heartdisease</th>\n",
       "            <th>sex</th>\n",
       "            <th>count</th>\n",
       "        </tr>\n",
       "    </thead>\n",
       "    <tbody>\n",
       "        <tr>\n",
       "            <td>False</td>\n",
       "            <td>Female</td>\n",
       "            <td>156571</td>\n",
       "        </tr>\n",
       "        <tr>\n",
       "            <td>False</td>\n",
       "            <td>Male</td>\n",
       "            <td>135851</td>\n",
       "        </tr>\n",
       "        <tr>\n",
       "            <td>True</td>\n",
       "            <td>Female</td>\n",
       "            <td>11234</td>\n",
       "        </tr>\n",
       "        <tr>\n",
       "            <td>True</td>\n",
       "            <td>Male</td>\n",
       "            <td>16139</td>\n",
       "        </tr>\n",
       "    </tbody>\n",
       "</table>"
      ],
      "text/plain": [
       "+--------------+--------+--------+\n",
       "| heartdisease |  sex   | count  |\n",
       "+--------------+--------+--------+\n",
       "|    False     | Female | 156571 |\n",
       "|    False     |  Male  | 135851 |\n",
       "|     True     | Female | 11234  |\n",
       "|     True     |  Male  | 16139  |\n",
       "+--------------+--------+--------+"
      ]
     },
     "execution_count": 57,
     "metadata": {},
     "output_type": "execute_result"
    }
   ],
   "source": [
    "%%sql\n",
    "SELECT \n",
    "    heartdisease.heartdisease,\n",
    "    demographic.Sex,\n",
    "    COUNT(*) AS count\n",
    "FROM \n",
    "    heartdisease\n",
    "JOIN \n",
    "    demographic\n",
    "ON \n",
    "    heartdisease.demographic_key = demographic.demographic_key\n",
    "GROUP BY \n",
    "    heartdisease.heartdisease, \n",
    "    demographic.Sex;"
   ]
  },
  {
   "cell_type": "markdown",
   "id": "5a883109-488d-4a93-a98d-94f1d925b0b0",
   "metadata": {},
   "source": [
    "### Interpretation of Results\n",
    "\n",
    "- The query results provide the count of individuals with and without heart disease grouped by their sex.\n",
    "- Observations:\n",
    "  - **Females without heart disease**: 156,571\n",
    "  - **Males without heart disease**: 135,851\n",
    "  - **Females with heart disease**: 11,234\n",
    "  - **Males with heart disease**: 16,139\n",
    "- Insights:\n",
    "  - A significantly higher proportion of individuals do not have heart disease in both males and females.\n",
    "  - Males show a higher count of heart disease cases (16,139) compared to females (11,234).\n",
    "  - This suggests that sex could be an influencing factor in the prevalence of heart disease, warranting further investigation into contributing factors."
   ]
  },
  {
   "cell_type": "markdown",
   "id": "8b7eff5f-39c7-43ec-890e-d7e68aae36ef",
   "metadata": {},
   "source": [
    "Demographics-Age Category"
   ]
  },
  {
   "cell_type": "code",
   "execution_count": 55,
   "id": "c83038a3-e9bb-4f9f-84fe-55d95517cd51",
   "metadata": {},
   "outputs": [
    {
     "data": {
      "text/html": [
       "<span style=\"None\">displaylimit: Value None will be treated as 0 (no limit)</span>"
      ],
      "text/plain": [
       "displaylimit: Value None will be treated as 0 (no limit)"
      ]
     },
     "metadata": {},
     "output_type": "display_data"
    }
   ],
   "source": [
    "%config SqlMagic.displaylimit = None"
   ]
  },
  {
   "cell_type": "markdown",
   "id": "3c72da40-3140-4007-9a9b-ec4f98fd2b24",
   "metadata": {},
   "source": [
    "### Query to Analyze Heart Disease by Age Category\n",
    "\n",
    "- Using `%%sql` to execute SQL commands directly within the Jupyter Notebook.\n",
    "- The `SELECT` statement retrieves the following:\n",
    "  - `heartdisease.heartdisease`: Indicates whether the individual has heart disease (`True` or `False`).\n",
    "  - `demographic.age_category`: Represents the age category of the individual (e.g., Young Adult, Prime Adult).\n",
    "  - `COUNT(*) AS count`: Counts the number of individuals for each combination of heart disease status and age category.\n",
    "- The `JOIN` clause links the `heartdisease` and `demographic` tables using the `demographic_key` column to establish the relationship between the two tables.\n",
    "- The `GROUP BY` clause groups the results by `heartdisease.heartdisease` and `demographic.age_category` to calculate the count for each group.\n",
    "- The `ORDER BY` clause sorts the results by `demographic.age_category` in ascending order to organize the data by age category.\n",
    "- This query helps analyze the distribution of heart disease prevalence across different age categories and identify any trends or patterns related to age.\n"
   ]
  },
  {
   "cell_type": "code",
   "execution_count": 58,
   "id": "5f95bdd9-4225-4b46-abd3-4b251cd352c8",
   "metadata": {},
   "outputs": [
    {
     "data": {
      "text/html": [
       "<span style=\"None\">Running query in &#x27;postgresql://postgres@/final_project&#x27;</span>"
      ],
      "text/plain": [
       "Running query in 'postgresql://postgres@/final_project'"
      ]
     },
     "metadata": {},
     "output_type": "display_data"
    },
    {
     "data": {
      "text/html": [
       "<span style=\"color: green\">8 rows affected.</span>"
      ],
      "text/plain": [
       "8 rows affected."
      ]
     },
     "metadata": {},
     "output_type": "display_data"
    },
    {
     "data": {
      "text/html": [
       "<table>\n",
       "    <thead>\n",
       "        <tr>\n",
       "            <th>heartdisease</th>\n",
       "            <th>age_category</th>\n",
       "            <th>count</th>\n",
       "        </tr>\n",
       "    </thead>\n",
       "    <tbody>\n",
       "        <tr>\n",
       "            <td>False</td>\n",
       "            <td>Mature Adult</td>\n",
       "            <td>81913</td>\n",
       "        </tr>\n",
       "        <tr>\n",
       "            <td>True</td>\n",
       "            <td>Mature Adult</td>\n",
       "            <td>6912</td>\n",
       "        </tr>\n",
       "        <tr>\n",
       "            <td>False</td>\n",
       "            <td>Prime Adult</td>\n",
       "            <td>61821</td>\n",
       "        </tr>\n",
       "        <tr>\n",
       "            <td>True</td>\n",
       "            <td>Prime Adult</td>\n",
       "            <td>1526</td>\n",
       "        </tr>\n",
       "        <tr>\n",
       "            <td>False</td>\n",
       "            <td>Senior Citizen</td>\n",
       "            <td>92405</td>\n",
       "        </tr>\n",
       "        <tr>\n",
       "            <td>True</td>\n",
       "            <td>Senior Citizen</td>\n",
       "            <td>18446</td>\n",
       "        </tr>\n",
       "        <tr>\n",
       "            <td>False</td>\n",
       "            <td>Young Adult</td>\n",
       "            <td>56283</td>\n",
       "        </tr>\n",
       "        <tr>\n",
       "            <td>True</td>\n",
       "            <td>Young Adult</td>\n",
       "            <td>489</td>\n",
       "        </tr>\n",
       "    </tbody>\n",
       "</table>"
      ],
      "text/plain": [
       "+--------------+----------------+-------+\n",
       "| heartdisease |  age_category  | count |\n",
       "+--------------+----------------+-------+\n",
       "|    False     |  Mature Adult  | 81913 |\n",
       "|     True     |  Mature Adult  |  6912 |\n",
       "|    False     |  Prime Adult   | 61821 |\n",
       "|     True     |  Prime Adult   |  1526 |\n",
       "|    False     | Senior Citizen | 92405 |\n",
       "|     True     | Senior Citizen | 18446 |\n",
       "|    False     |  Young Adult   | 56283 |\n",
       "|     True     |  Young Adult   |  489  |\n",
       "+--------------+----------------+-------+"
      ]
     },
     "execution_count": 58,
     "metadata": {},
     "output_type": "execute_result"
    }
   ],
   "source": [
    "%%sql\n",
    "SELECT \n",
    "    heartdisease.heartdisease,\n",
    "    demographic.age_category,\n",
    "    COUNT(*) AS count\n",
    "FROM \n",
    "    heartdisease\n",
    "JOIN \n",
    "    demographic\n",
    "ON \n",
    "    heartdisease.demographic_key = demographic.demographic_key\n",
    "GROUP BY \n",
    "    heartdisease.heartdisease, \n",
    "    demographic.age_category\n",
    "ORDER BY \n",
    "    demographic.age_category;"
   ]
  },
  {
   "cell_type": "markdown",
   "id": "de8b5514-d963-4975-8bed-fd9592d7cd64",
   "metadata": {
    "jp-MarkdownHeadingCollapsed": true
   },
   "source": [
    "### Interpretation of Heart Disease Distribution by Age Category\n",
    "\n",
    "The query examines the relationship between heart disease status and age categories by grouping individuals based on the `age_category` column.\n",
    "\n",
    "#### Results:\n",
    "1. **Young Adult** (18-34 years old):\n",
    "   - **False** (No Heart Disease): **56,283** individuals\n",
    "   - **True** (Heart Disease): **489** individuals  \n",
    "   - *Interpretation*: Heart disease prevalence is very low in the Young Adult category, indicating a reduced risk of heart disease in this age group.\n",
    "\n",
    "2. **Prime Adult** (35-49 years old):\n",
    "   - **False** (No Heart Disease): **61,821** individuals\n",
    "   - **True** (Heart Disease): **1,526** individuals  \n",
    "   - *Interpretation*: There is a slight increase in heart disease prevalence in the Prime Adult group compared to Young Adults, likely due to lifestyle changes or emerging health issues.\n",
    "\n",
    "3. **Mature Adult** (50-64 years old):\n",
    "   - **False** (No Heart Disease): **81,913** individuals\n",
    "   - **True** (Heart Disease): **6,912** individuals  \n",
    "   - *Interpretation*: Heart disease prevalence rises significantly in the Mature Adult category, indicating a higher risk of heart disease as individuals enter their 50s and 60s.\n",
    "\n",
    "4. **Senior Citizen** (65+ years old):\n",
    "   - **False** (No Heart Disease): **92,405** individuals\n",
    "   - **True** (Heart Disease): **18,446** individuals  \n",
    "   - *Interpretation*: The Senior Citizen group shows the highest heart disease prevalence, with a marked increase in individuals diagnosed with heart disease. This aligns with age being a significant risk factor for heart disease.\n",
    "\n",
    "### Overall Summary:\n",
    "- The risk of heart disease increases progressively with age, as evidenced by the rising counts of individuals with heart disease from the Young Adult to Senior Citizen categories.\n",
    "- Preventive measures and lifestyle changes earlier in life may help reduce heart disease risk as individuals age.\n"
   ]
  },
  {
   "cell_type": "markdown",
   "id": "4e535e0a-c197-47b3-83de-f091809220fc",
   "metadata": {},
   "source": [
    "### Query to Analyze General Health and Demographics for Individuals with Heart Disease\n",
    "\n",
    "- Using `%%sql` to execute SQL commands directly within the Jupyter Notebook.\n",
    "- The `SELECT` statement retrieves the following:\n",
    "  - `d.sex`: Represents the sex of the individual (e.g., Male or Female).\n",
    "  - `d.age_category`: Categorizes the individual's age (e.g., Young Adult, Prime Adult, etc.).\n",
    "  - `g.bmi_category`: Classifies the individual's BMI into categories (e.g., Underweight, Obese, etc.).\n",
    "  - `g.diffwalking`: Indicates whether the individual has difficulty walking (`True` or `False`).\n",
    "  - `g.genhealth`: Represents the individual's general health evaluation (e.g., Excellent, Poor).\n",
    "  - `COUNT(*) AS count`: Counts the number of individuals within each combination of the selected attributes.\n",
    "- The `JOIN` clauses link:\n",
    "  - The `heartdisease` and `demographic` tables using the `demographic_key`.\n",
    "  - The `heartdisease` and `generalhealth` tables using the `generalhealth_key`.\n",
    "- The `WHERE` clause filters the data to include only individuals who have heart disease (`h.heartdisease = True`).\n",
    "- The `GROUP BY` clause groups the results by the specified attributes: `h.heartdisease`, `d.sex`, `d.age_category`, `g.bmi_category`, `g.diffwalking`, and `g.genhealth`.\n",
    "- The `ORDER BY` clause organizes the results in ascending order of `d.age_category`, `d.sex`, and `g.bmi_category` for better readability.\n",
    "- This query helps analyze the relationship between demographic factors, general health attributes, and BMI categories for individuals diagnosed with heart disease. It provides insights into how these factors correlate with the presence of heart disease.\n"
   ]
  },
  {
   "cell_type": "code",
   "execution_count": 59,
   "id": "9da7ca26-d91e-4a1d-bfb8-aba54f2f5db8",
   "metadata": {},
   "outputs": [
    {
     "data": {
      "text/html": [
       "<span style=\"None\">Running query in &#x27;postgresql://postgres@/final_project&#x27;</span>"
      ],
      "text/plain": [
       "Running query in 'postgresql://postgres@/final_project'"
      ]
     },
     "metadata": {},
     "output_type": "display_data"
    },
    {
     "data": {
      "text/html": [
       "<span style=\"color: green\">10 rows affected.</span>"
      ],
      "text/plain": [
       "10 rows affected."
      ]
     },
     "metadata": {},
     "output_type": "display_data"
    },
    {
     "data": {
      "text/html": [
       "<table>\n",
       "    <thead>\n",
       "        <tr>\n",
       "            <th>sex</th>\n",
       "            <th>age_category</th>\n",
       "            <th>bmi_category</th>\n",
       "            <th>diffwalking</th>\n",
       "            <th>genhealth</th>\n",
       "            <th>count</th>\n",
       "        </tr>\n",
       "    </thead>\n",
       "    <tbody>\n",
       "        <tr>\n",
       "            <td>Female</td>\n",
       "            <td>Mature Adult</td>\n",
       "            <td>Healthy weight</td>\n",
       "            <td>False</td>\n",
       "            <td>Excellent</td>\n",
       "            <td>40</td>\n",
       "        </tr>\n",
       "        <tr>\n",
       "            <td>Female</td>\n",
       "            <td>Mature Adult</td>\n",
       "            <td>Healthy weight</td>\n",
       "            <td>False</td>\n",
       "            <td>Fair</td>\n",
       "            <td>90</td>\n",
       "        </tr>\n",
       "        <tr>\n",
       "            <td>Female</td>\n",
       "            <td>Mature Adult</td>\n",
       "            <td>Healthy weight</td>\n",
       "            <td>False</td>\n",
       "            <td>Good</td>\n",
       "            <td>140</td>\n",
       "        </tr>\n",
       "        <tr>\n",
       "            <td>Female</td>\n",
       "            <td>Mature Adult</td>\n",
       "            <td>Healthy weight</td>\n",
       "            <td>False</td>\n",
       "            <td>Poor</td>\n",
       "            <td>23</td>\n",
       "        </tr>\n",
       "        <tr>\n",
       "            <td>Female</td>\n",
       "            <td>Mature Adult</td>\n",
       "            <td>Healthy weight</td>\n",
       "            <td>False</td>\n",
       "            <td>Very good</td>\n",
       "            <td>77</td>\n",
       "        </tr>\n",
       "        <tr>\n",
       "            <td>Female</td>\n",
       "            <td>Mature Adult</td>\n",
       "            <td>Healthy weight</td>\n",
       "            <td>True</td>\n",
       "            <td>Excellent</td>\n",
       "            <td>3</td>\n",
       "        </tr>\n",
       "        <tr>\n",
       "            <td>Female</td>\n",
       "            <td>Mature Adult</td>\n",
       "            <td>Healthy weight</td>\n",
       "            <td>True</td>\n",
       "            <td>Fair</td>\n",
       "            <td>79</td>\n",
       "        </tr>\n",
       "        <tr>\n",
       "            <td>Female</td>\n",
       "            <td>Mature Adult</td>\n",
       "            <td>Healthy weight</td>\n",
       "            <td>True</td>\n",
       "            <td>Good</td>\n",
       "            <td>42</td>\n",
       "        </tr>\n",
       "        <tr>\n",
       "            <td>Female</td>\n",
       "            <td>Mature Adult</td>\n",
       "            <td>Healthy weight</td>\n",
       "            <td>True</td>\n",
       "            <td>Poor</td>\n",
       "            <td>88</td>\n",
       "        </tr>\n",
       "        <tr>\n",
       "            <td>Female</td>\n",
       "            <td>Mature Adult</td>\n",
       "            <td>Healthy weight</td>\n",
       "            <td>True</td>\n",
       "            <td>Very good</td>\n",
       "            <td>11</td>\n",
       "        </tr>\n",
       "    </tbody>\n",
       "</table>\n",
       "<span style=\"font-style:italic;text-align:center;\">Truncated to <a href=\"https://jupysql.ploomber.io/en/latest/api/configuration.html#displaylimit\">displaylimit</a> of 10.</span>"
      ],
      "text/plain": [
       "+--------+--------------+----------------+-------------+-----------+-------+\n",
       "|  sex   | age_category |  bmi_category  | diffwalking | genhealth | count |\n",
       "+--------+--------------+----------------+-------------+-----------+-------+\n",
       "| Female | Mature Adult | Healthy weight |    False    | Excellent |   40  |\n",
       "| Female | Mature Adult | Healthy weight |    False    |    Fair   |   90  |\n",
       "| Female | Mature Adult | Healthy weight |    False    |    Good   |  140  |\n",
       "| Female | Mature Adult | Healthy weight |    False    |    Poor   |   23  |\n",
       "| Female | Mature Adult | Healthy weight |    False    | Very good |   77  |\n",
       "| Female | Mature Adult | Healthy weight |     True    | Excellent |   3   |\n",
       "| Female | Mature Adult | Healthy weight |     True    |    Fair   |   79  |\n",
       "| Female | Mature Adult | Healthy weight |     True    |    Good   |   42  |\n",
       "| Female | Mature Adult | Healthy weight |     True    |    Poor   |   88  |\n",
       "| Female | Mature Adult | Healthy weight |     True    | Very good |   11  |\n",
       "+--------+--------------+----------------+-------------+-----------+-------+\n",
       "Truncated to displaylimit of 10."
      ]
     },
     "execution_count": 59,
     "metadata": {},
     "output_type": "execute_result"
    }
   ],
   "source": [
    "%%sql\n",
    "SELECT\n",
    "    d.sex,\n",
    "    d.age_category,\n",
    "    g.bmi_category,\n",
    "    g.diffwalking,\n",
    "    g.genhealth,\n",
    "    COUNT(*) AS count\n",
    "FROM \n",
    "    heartdisease AS h\n",
    "JOIN\n",
    "    demographic AS d\n",
    "ON \n",
    "    h.demographic_key = d.demographic_key\n",
    "JOIN \n",
    "    generalhealth AS g\n",
    "ON \n",
    "    h.generalhealth_key = g.generalhealth_key\n",
    "WHERE \n",
    "    h.heartdisease = True\n",
    "GROUP BY \n",
    "    h.heartdisease, \n",
    "    d.sex, \n",
    "    d.age_category, \n",
    "    g.bmi_category, \n",
    "    g.diffwalking, \n",
    "    g.genhealth\n",
    "ORDER BY \n",
    "    d.age_category, \n",
    "    d.sex, \n",
    "    g.bmi_category\n",
    "LIMIT 10;"
   ]
  },
  {
   "cell_type": "markdown",
   "id": "ff2c4423-ab1f-439b-9990-a715e79f5a3f",
   "metadata": {},
   "source": [
    "### Query to Analyze General Health Indicators and Heart Disease\n",
    "\n",
    "- **Purpose**: The query examines individuals with heart disease (`heartdisease = True`) and analyzes the relationship between their demographic details and general health indicators.\n",
    "\n",
    "#### Results:\n",
    "The query retrieves the following columns:\n",
    "- **`d.sex`**: Represents the sex of the individual (e.g., Female or Male).\n",
    "- **`d.age_category`**: Indicates the age group of the individual (e.g., Mature Adult).\n",
    "- **`g.bmi_category`**: Categorizes individuals based on their BMI (e.g., Healthy weight, Obese).\n",
    "- **`g.diffwalking`**: Indicates whether individuals have difficulty walking (True/False).\n",
    "- **`g.genhealth`**: Reflects the self-reported general health status (e.g., Excellent, Good, Poor).\n",
    "- **`COUNT(*) AS count`**: Counts the number of individuals for each combination of the above factors.\n",
    "\n",
    "#### Sample Results:\n",
    "1. **Mature Adult Females with Healthy Weight**:\n",
    "   - **Excellent health, No difficulty walking** → 40 individuals.\n",
    "   - **Fair health, No difficulty walking** → 90 individuals.\n",
    "   - **Good health, No difficulty walking** → 140 individuals.\n",
    "   - **Poor health, No difficulty walking** → 23 individuals.\n",
    "   - **Very Good health, No difficulty walking** → 77 individuals.\n",
    "   \n",
    "2. **Mature Adult Females with Difficulty Walking**:\n",
    "   - **Excellent health** → 3 individuals.\n",
    "   - **Fair health** → 79 individuals.\n",
    "   - **Good health** → 42 individuals.\n",
    "   - **Poor health** → 88 individuals.\n",
    "   - **Very Good health** → 11 individuals.\n",
    "\n",
    "#### Insights:\n",
    "1. **BMI and Difficulty Walking**:\n",
    "   - The **Healthy weight** BMI category dominates this subset of individuals.\n",
    "   - A significant number of individuals report **difficulty walking**, especially those in poorer health categories.\n",
    "\n",
    "2. **General Health Observations**:\n",
    "   - General health ratings (e.g., Excellent, Fair, Poor) vary widely, with a noticeable trend of **Fair** and **Good** health status among those reporting difficulty walking.\n",
    "\n",
    "3. **Age and Sex Patterns**:\n",
    "   - The data focuses on **Mature Adult** females, indicating a target group where heart disease prevalence and associated health factors require further investigation.\n",
    "\n",
    "### Conclusion:\n",
    "- The analysis highlights key relationships between general health, BMI categories, and difficulty walking among individuals with heart disease.\n",
    "- **Poor general health** and **difficulty walking** may serve as early indicators for heart disease in certain demographic groups, particularly in Mature Adults.\n"
   ]
  },
  {
   "cell_type": "markdown",
   "id": "2cce2209-8c11-4232-a256-678ae03f38bc",
   "metadata": {},
   "source": [
    "# 2. Effect of Health Behavior"
   ]
  },
  {
   "cell_type": "markdown",
   "id": "3f6ffa18-1cb2-4f62-8de7-54eb4479a4b1",
   "metadata": {},
   "source": [
    "Smoking"
   ]
  },
  {
   "cell_type": "markdown",
   "id": "6e24fc5e-689a-47e7-8259-a692742aa029",
   "metadata": {},
   "source": [
    "### Query to Analyze the Effect of Smoking on Heart Disease\n",
    "\n",
    "- Using `%%sql` to execute SQL commands directly within the Jupyter Notebook.\n",
    "- The `SELECT` statement retrieves the following:\n",
    "  - `heartdisease.heartdisease`: Indicates whether the individual has heart disease (`True` or `False`).\n",
    "  - `behavior.Smoking`: Represents whether the individual smokes (`True` or `False`).\n",
    "  - `COUNT(*) AS count`: Counts the number of individuals for each combination of heart disease status and smoking behavior.\n",
    "- The `JOIN` clause links the `heartdisease` and `behavior` tables using the `behavior_key` to establish the relationship.\n",
    "- The `GROUP BY` clause groups the results by `heartdisease.heartdisease` and `behavior.Smoking` to calculate the count for each group.\n",
    "- This query provides insights into how smoking behavior correlates with the prevalence of heart disease. It helps identify whether individuals who smoke have a higher likelihood of being diagnosed with heart disease compared to non-smokers.\n"
   ]
  },
  {
   "cell_type": "code",
   "execution_count": 60,
   "id": "aa9a0f8b-d013-4b70-8f8b-b85854f854de",
   "metadata": {},
   "outputs": [
    {
     "data": {
      "text/html": [
       "<span style=\"None\">Running query in &#x27;postgresql://postgres@/final_project&#x27;</span>"
      ],
      "text/plain": [
       "Running query in 'postgresql://postgres@/final_project'"
      ]
     },
     "metadata": {},
     "output_type": "display_data"
    },
    {
     "data": {
      "text/html": [
       "<span style=\"color: green\">4 rows affected.</span>"
      ],
      "text/plain": [
       "4 rows affected."
      ]
     },
     "metadata": {},
     "output_type": "display_data"
    },
    {
     "data": {
      "text/html": [
       "<table>\n",
       "    <thead>\n",
       "        <tr>\n",
       "            <th>heartdisease</th>\n",
       "            <th>smoking</th>\n",
       "            <th>count</th>\n",
       "        </tr>\n",
       "    </thead>\n",
       "    <tbody>\n",
       "        <tr>\n",
       "            <td>False</td>\n",
       "            <td>False</td>\n",
       "            <td>176551</td>\n",
       "        </tr>\n",
       "        <tr>\n",
       "            <td>False</td>\n",
       "            <td>True</td>\n",
       "            <td>115871</td>\n",
       "        </tr>\n",
       "        <tr>\n",
       "            <td>True</td>\n",
       "            <td>False</td>\n",
       "            <td>11336</td>\n",
       "        </tr>\n",
       "        <tr>\n",
       "            <td>True</td>\n",
       "            <td>True</td>\n",
       "            <td>16037</td>\n",
       "        </tr>\n",
       "    </tbody>\n",
       "</table>"
      ],
      "text/plain": [
       "+--------------+---------+--------+\n",
       "| heartdisease | smoking | count  |\n",
       "+--------------+---------+--------+\n",
       "|    False     |  False  | 176551 |\n",
       "|    False     |   True  | 115871 |\n",
       "|     True     |  False  | 11336  |\n",
       "|     True     |   True  | 16037  |\n",
       "+--------------+---------+--------+"
      ]
     },
     "execution_count": 60,
     "metadata": {},
     "output_type": "execute_result"
    }
   ],
   "source": [
    "%%sql\n",
    "SELECT heartdisease.heartdisease,behavior.Smoking, COUNT(*) count\n",
    "FROM heartdisease\n",
    "JOIN behavior\n",
    "    ON heartdisease.behavior_key = behavior.behavior_key\n",
    "GROUP BY heartdisease.heartdisease, behavior.Smoking\n",
    "\n",
    ";"
   ]
  },
  {
   "cell_type": "markdown",
   "id": "ff72ff8b-1905-441b-86b3-04e87c8e8e41",
   "metadata": {},
   "source": [
    "### Interpretation of Heart Disease Prevalence by Smoking Status  \n",
    "\n",
    "The query examines the relationship between **heart disease status** and **smoking behavior** by grouping individuals based on the `Smoking` column.\n",
    "\n",
    "#### Results:  \n",
    "\n",
    "1. **Non-Smokers** (Smoking = False):  \n",
    "   - **No Heart Disease** (False): **176,551** individuals  \n",
    "   - **With Heart Disease** (True): **11,336** individuals   \n",
    "\n",
    "2. **Smokers** (Smoking = True):  \n",
    "   - **No Heart Disease** (False): **115,871** individuals  \n",
    "   - **With Heart Disease** (True): **16,037** individuals  \n",
    "   - *Interpretation*: While most smokers do not have heart disease, there is a **higher count of individuals with heart disease** (16,037) compared to non-smokers (11,336), suggesting that smoking could be a contributing factor to heart disease.  \n",
    "\n",
    "### Overall Summary:  \n",
    "- Smoking appears to be associated with an increased prevalence of heart disease, as evidenced by the higher number of heart disease cases among smokers compared to non-smokers.  \n",
    "- Preventive measures, such as smoking cessation programs, could potentially help reduce heart disease risk.  \n"
   ]
  },
  {
   "cell_type": "markdown",
   "id": "5b41bb12-e5ff-4152-bf1a-93e59be5fa50",
   "metadata": {},
   "source": [
    "AlcoholDrinking"
   ]
  },
  {
   "cell_type": "markdown",
   "id": "17f7b453-2edf-4fd2-b056-91e512502922",
   "metadata": {},
   "source": [
    "### Query to Analyze the Effect of Alcohol Consumption on Heart Disease\n",
    "\n",
    "- Using `%%sql` to execute SQL commands directly within the Jupyter Notebook.\n",
    "- The `SELECT` statement retrieves the following:\n",
    "  - `heartdisease.heartdisease`: Indicates whether the individual has heart disease (`True` or `False`).\n",
    "  - `behavior.AlcoholDrinking`: Represents whether the individual consumes alcohol (`True` or `False`).\n",
    "  - `COUNT(*) AS count`: Counts the number of individuals for each combination of heart disease status and alcohol consumption behavior.\n",
    "- The `JOIN` clause links the `heartdisease` and `behavior` tables using the `behavior_key` to establish the relationship.\n",
    "- The `GROUP BY` clause groups the results by `heartdisease.heartdisease` and `behavior.AlcoholDrinking` to calculate the count for each group.\n",
    "- This query helps analyze the correlation between alcohol consumption and the prevalence of heart disease, providing insights into whether individuals who consume alcohol are more likely to have heart disease compared to non-drinkers.\n"
   ]
  },
  {
   "cell_type": "code",
   "execution_count": 61,
   "id": "0b939e0b-4f32-4fdc-aa9b-8fbba4290a79",
   "metadata": {},
   "outputs": [
    {
     "data": {
      "text/html": [
       "<span style=\"None\">Running query in &#x27;postgresql://postgres@/final_project&#x27;</span>"
      ],
      "text/plain": [
       "Running query in 'postgresql://postgres@/final_project'"
      ]
     },
     "metadata": {},
     "output_type": "display_data"
    },
    {
     "data": {
      "text/html": [
       "<span style=\"color: green\">4 rows affected.</span>"
      ],
      "text/plain": [
       "4 rows affected."
      ]
     },
     "metadata": {},
     "output_type": "display_data"
    },
    {
     "data": {
      "text/html": [
       "<table>\n",
       "    <thead>\n",
       "        <tr>\n",
       "            <th>heartdisease</th>\n",
       "            <th>alcoholdrinking</th>\n",
       "            <th>count</th>\n",
       "        </tr>\n",
       "    </thead>\n",
       "    <tbody>\n",
       "        <tr>\n",
       "            <td>False</td>\n",
       "            <td>False</td>\n",
       "            <td>271786</td>\n",
       "        </tr>\n",
       "        <tr>\n",
       "            <td>False</td>\n",
       "            <td>True</td>\n",
       "            <td>20636</td>\n",
       "        </tr>\n",
       "        <tr>\n",
       "            <td>True</td>\n",
       "            <td>False</td>\n",
       "            <td>26232</td>\n",
       "        </tr>\n",
       "        <tr>\n",
       "            <td>True</td>\n",
       "            <td>True</td>\n",
       "            <td>1141</td>\n",
       "        </tr>\n",
       "    </tbody>\n",
       "</table>"
      ],
      "text/plain": [
       "+--------------+-----------------+--------+\n",
       "| heartdisease | alcoholdrinking | count  |\n",
       "+--------------+-----------------+--------+\n",
       "|    False     |      False      | 271786 |\n",
       "|    False     |       True      | 20636  |\n",
       "|     True     |      False      | 26232  |\n",
       "|     True     |       True      |  1141  |\n",
       "+--------------+-----------------+--------+"
      ]
     },
     "execution_count": 61,
     "metadata": {},
     "output_type": "execute_result"
    }
   ],
   "source": [
    "%%sql\n",
    "SELECT heartdisease.heartdisease,behavior.AlcoholDrinking, COUNT(*) count\n",
    "FROM heartdisease\n",
    "JOIN behavior\n",
    "    ON heartdisease.behavior_key = behavior.behavior_key\n",
    "GROUP BY heartdisease.heartdisease, behavior.AlcoholDrinking\n",
    "\n",
    ";"
   ]
  },
  {
   "cell_type": "markdown",
   "id": "5b9b4f77-33a6-45d4-8042-779dba976a6f",
   "metadata": {},
   "source": [
    "### Interpretation of Heart Disease Prevalence by Alcohol Consumption  \n",
    "\n",
    "The query examines the relationship between **heart disease status** and **alcohol consumption behavior** (`AlcoholDrinking`).\n",
    "\n",
    "#### Results:\n",
    "\n",
    "1. **Non-Drinkers** (AlcoholDrinking = False):  \n",
    "   - **No Heart Disease** (False): **271,786** individuals  \n",
    "   - **With Heart Disease** (True): **26,232** individuals    \n",
    "\n",
    "2. **Drinkers** (AlcoholDrinking = True):  \n",
    "   - **No Heart Disease** (False): **20,636** individuals  \n",
    "   - **With Heart Disease** (True): **1,141** individuals  \n",
    "   - *Interpretation*: A much smaller proportion of drinkers have heart disease (1,141) compared to non-drinkers, although the overall number of drinkers is much lower in the dataset.  \n",
    "\n",
    "### Overall Summary:\n",
    "- The majority of individuals in the dataset are non-drinkers.  \n",
    "- The prevalence of heart disease is higher among non-drinkers in absolute numbers, but this could be attributed to the larger population of non-drinkers.  \n",
    "- Alcohol consumption does not show a clear trend of association with heart disease based on the provided counts, and further analysis might be required to consider other influencing factors.  \n"
   ]
  },
  {
   "cell_type": "markdown",
   "id": "eaaafabb-1465-46b2-9880-3dbe1d91062e",
   "metadata": {},
   "source": [
    "PhysicalActivity- During the past month, other than your regular job, did you participate in any physical activities or exercises such as running, calisthenics, golf, gardening, or walking for exercise?"
   ]
  },
  {
   "cell_type": "markdown",
   "id": "834d6715-3623-4722-9338-6cb31af98363",
   "metadata": {},
   "source": [
    "### Query to Analyze the Effect of Physical Activity on Heart Disease\n",
    "\n",
    "- Using `%%sql` to execute SQL commands directly within the Jupyter Notebook.\n",
    "- The `SELECT` statement retrieves the following:\n",
    "  - `heartdisease.heartdisease`: Indicates whether the individual has heart disease (`True` or `False`).\n",
    "  - `behavior.PhysicalActivity`: Represents whether the individual participated in any physical activities or exercises other than their regular job (`True` or `False`).\n",
    "  - `COUNT(*) AS count`: Counts the number of individuals for each combination of heart disease status and physical activity behavior.\n",
    "- The `JOIN` clause links the `heartdisease` and `behavior` tables using the `behavior_key` to establish the relationship.\n",
    "- The `GROUP BY` clause groups the results by `heartdisease.heartdisease` and `behavior.PhysicalActivity` to calculate the count for each group.\n",
    "- This query helps analyze the correlation between physical activity and the prevalence of heart disease, providing insights into whether individuals who engage in physical activities are less likely to have heart disease compared to those who do not.\n"
   ]
  },
  {
   "cell_type": "code",
   "execution_count": 62,
   "id": "3dd7277e-696a-4132-8a02-abaffd3a4716",
   "metadata": {},
   "outputs": [
    {
     "data": {
      "text/html": [
       "<span style=\"None\">Running query in &#x27;postgresql://postgres@/final_project&#x27;</span>"
      ],
      "text/plain": [
       "Running query in 'postgresql://postgres@/final_project'"
      ]
     },
     "metadata": {},
     "output_type": "display_data"
    },
    {
     "data": {
      "text/html": [
       "<span style=\"color: green\">4 rows affected.</span>"
      ],
      "text/plain": [
       "4 rows affected."
      ]
     },
     "metadata": {},
     "output_type": "display_data"
    },
    {
     "data": {
      "text/html": [
       "<table>\n",
       "    <thead>\n",
       "        <tr>\n",
       "            <th>heartdisease</th>\n",
       "            <th>physicalactivity</th>\n",
       "            <th>count</th>\n",
       "        </tr>\n",
       "    </thead>\n",
       "    <tbody>\n",
       "        <tr>\n",
       "            <td>False</td>\n",
       "            <td>False</td>\n",
       "            <td>61954</td>\n",
       "        </tr>\n",
       "        <tr>\n",
       "            <td>False</td>\n",
       "            <td>True</td>\n",
       "            <td>230468</td>\n",
       "        </tr>\n",
       "        <tr>\n",
       "            <td>True</td>\n",
       "            <td>False</td>\n",
       "            <td>9884</td>\n",
       "        </tr>\n",
       "        <tr>\n",
       "            <td>True</td>\n",
       "            <td>True</td>\n",
       "            <td>17489</td>\n",
       "        </tr>\n",
       "    </tbody>\n",
       "</table>"
      ],
      "text/plain": [
       "+--------------+------------------+--------+\n",
       "| heartdisease | physicalactivity | count  |\n",
       "+--------------+------------------+--------+\n",
       "|    False     |      False       | 61954  |\n",
       "|    False     |       True       | 230468 |\n",
       "|     True     |      False       |  9884  |\n",
       "|     True     |       True       | 17489  |\n",
       "+--------------+------------------+--------+"
      ]
     },
     "execution_count": 62,
     "metadata": {},
     "output_type": "execute_result"
    }
   ],
   "source": [
    "%%sql\n",
    "SELECT heartdisease.heartdisease,behavior.PhysicalActivity, COUNT(*) count\n",
    "FROM heartdisease\n",
    "JOIN behavior\n",
    "    ON heartdisease.behavior_key = behavior.behavior_key\n",
    "GROUP BY heartdisease.heartdisease, behavior.PhysicalActivity\n",
    "\n",
    ";"
   ]
  },
  {
   "cell_type": "markdown",
   "id": "16743777-7a73-455a-8ce3-899541a67781",
   "metadata": {},
   "source": [
    "### Interpretation of Heart Disease Prevalence by Physical Activity  \n",
    "\n",
    "The query analyzes the relationship between **heart disease status** and participation in **physical activity** (`PhysicalActivity`).\n",
    "\n",
    "#### Results:\n",
    "\n",
    "1. **No Physical Activity** (PhysicalActivity = False):  \n",
    "   - **No Heart Disease** (False): **61,954** individuals  \n",
    "   - **With Heart Disease** (True): **9,884** individuals  \n",
    "   - *Interpretation*: Among individuals who did not engage in physical activity, there is a notable count of individuals with heart disease (9,884). This highlights a possible association between a sedentary lifestyle and increased risk of heart disease.  \n",
    "\n",
    "2. **Engages in Physical Activity** (PhysicalActivity = True):  \n",
    "   - **No Heart Disease** (False): **230,468** individuals  \n",
    "   - **With Heart Disease** (True): **17,489** individuals  \n",
    "\n",
    "### Overall Summary:\n",
    "- Individuals who engage in physical activity are less likely to have heart disease compared to those who do not participate in physical activity.  \n",
    "- The findings suggest that regular physical activity is a protective factor against heart disease but does not completely mitigate the risk, indicating the presence of other contributing factors.  \n"
   ]
  },
  {
   "cell_type": "markdown",
   "id": "c5473fc6-8eda-449e-8744-0bfed9c4287e",
   "metadata": {},
   "source": [
    "SleepTime-On average, how many hours of sleep do you get in a 24-hour period?"
   ]
  },
  {
   "cell_type": "markdown",
   "id": "a0281c6c-a773-4e03-9462-98e4a9851bc5",
   "metadata": {},
   "source": [
    "### Query to Analyze the Effect of Sleep Time on Heart Disease\n",
    "\n",
    "- Using `%%sql` to execute SQL commands directly within the Jupyter Notebook.\n",
    "- The `SELECT` statement retrieves the following:\n",
    "  - `heartdisease.heartdisease`: Indicates whether the individual has heart disease (`True` or `False`).\n",
    "  - `AVG(behavior.SleepTime) AS average`: Calculates the average number of hours of sleep reported by individuals for each heart disease status.\n",
    "  - `STDDEV(behavior.SleepTime) AS deviation`: Computes the standard deviation of sleep hours for each heart disease status, providing an idea of variability in sleep duration.\n",
    "- The `JOIN` clause links the `heartdisease` and `behavior` tables using the `behavior_key` to establish the relationship.\n",
    "- The `GROUP BY` clause groups the results by `heartdisease.heartdisease` to calculate the average and standard deviation of sleep time for individuals with and without heart disease.\n",
    "- This query provides insights into the relationship between sleep duration and heart disease, helping to determine whether individuals with heart disease have different sleep patterns compared to those without heart disease."
   ]
  },
  {
   "cell_type": "code",
   "execution_count": 63,
   "id": "66abca06-a2cc-462c-97f2-c8628a0c5865",
   "metadata": {},
   "outputs": [
    {
     "data": {
      "text/html": [
       "<span style=\"None\">Running query in &#x27;postgresql://postgres@/final_project&#x27;</span>"
      ],
      "text/plain": [
       "Running query in 'postgresql://postgres@/final_project'"
      ]
     },
     "metadata": {},
     "output_type": "display_data"
    },
    {
     "data": {
      "text/html": [
       "<span style=\"color: green\">2 rows affected.</span>"
      ],
      "text/plain": [
       "2 rows affected."
      ]
     },
     "metadata": {},
     "output_type": "display_data"
    },
    {
     "data": {
      "text/html": [
       "<table>\n",
       "    <thead>\n",
       "        <tr>\n",
       "            <th>heartdisease</th>\n",
       "            <th>average</th>\n",
       "            <th>deviation</th>\n",
       "        </tr>\n",
       "    </thead>\n",
       "    <tbody>\n",
       "        <tr>\n",
       "            <td>False</td>\n",
       "            <td>7.093416364021858</td>\n",
       "            <td>1.399330532403584</td>\n",
       "        </tr>\n",
       "        <tr>\n",
       "            <td>True</td>\n",
       "            <td>7.136156066196617</td>\n",
       "            <td>1.7808628636528998</td>\n",
       "        </tr>\n",
       "    </tbody>\n",
       "</table>"
      ],
      "text/plain": [
       "+--------------+-------------------+--------------------+\n",
       "| heartdisease |      average      |     deviation      |\n",
       "+--------------+-------------------+--------------------+\n",
       "|    False     | 7.093416364021858 | 1.399330532403584  |\n",
       "|     True     | 7.136156066196617 | 1.7808628636528998 |\n",
       "+--------------+-------------------+--------------------+"
      ]
     },
     "execution_count": 63,
     "metadata": {},
     "output_type": "execute_result"
    }
   ],
   "source": [
    "%%sql\n",
    "SELECT heartdisease.heartdisease,avg(behavior.SleepTime)AS average,stddev(behavior.SleepTime)AS deviation\n",
    "FROM heartdisease\n",
    "JOIN behavior\n",
    "    ON heartdisease.behavior_key = behavior.behavior_key\n",
    "GROUP BY heartdisease.heartdisease\n",
    "\n",
    ";"
   ]
  },
  {
   "cell_type": "markdown",
   "id": "99ad433e-e3d7-4f68-815a-aae07581cef7",
   "metadata": {},
   "source": [
    "### Interpretation of Average Sleep Time by Heart Disease Status  \n",
    "\n",
    "This query calculates the **average sleep time** and its standard deviation for individuals with and without heart disease.  \n",
    "\n",
    "#### Results:  \n",
    "\n",
    "1. **No Heart Disease (False)**:  \n",
    "   - **Average Sleep Time**: **7.09 hours**  \n",
    "   - **Standard Deviation**: **1.39 hours**  \n",
    "   - *Interpretation*: Individuals without heart disease get an average of **7.09 hours** of sleep per day, with relatively low variation. This aligns closely with the recommended 7-8 hours of sleep for adults.  \n",
    "\n",
    "2. **With Heart Disease (True)**:  \n",
    "   - **Average Sleep Time**: **7.13 hours**  \n",
    "   - **Standard Deviation**: **1.78 hours**  \n",
    "   - *Interpretation*: Individuals with heart disease also report an average of **7.13 hours** of sleep per day. However, the **standard deviation** of **1.78** indicates greater variability in sleep patterns among this group compared to individuals without heart disease.  \n",
    "\n",
    "### Overall Summary:  \n",
    "- Both groups have a similar **average sleep time** (~7.1 hours), which suggests that sleep duration itself may not strongly differentiate individuals with and without heart disease.  \n",
    "- However, the higher standard deviation in individuals with heart disease indicates more inconsistent sleep patterns, which could be a factor contributing to their health condition.  \n",
    "- Further investigation into **sleep quality** and other behavioral factors might provide additional insights into the link between sleep and heart disease.  \n"
   ]
  },
  {
   "cell_type": "markdown",
   "id": "12167909-6cef-4706-a8ae-5088edfb3762",
   "metadata": {},
   "source": [
    "#### 3. Impact of Other Disease"
   ]
  },
  {
   "cell_type": "markdown",
   "id": "a42ed8fb-adb9-438c-8d42-aa7115a43856",
   "metadata": {},
   "source": [
    "Diabetic"
   ]
  },
  {
   "cell_type": "markdown",
   "id": "224fb385-979a-455f-a358-d2a42a6a99c1",
   "metadata": {},
   "source": [
    "### Query to Analyze the Effect of Diabetes on Heart Disease\n",
    "\n",
    "- Using `%%sql` to execute SQL commands directly within the Jupyter Notebook.\n",
    "- The `SELECT` statement retrieves the following:\n",
    "  - `heartdisease.heartdisease`: Indicates whether the individual has heart disease (`True` or `False`).\n",
    "  - `otherdisease.Diabetic`: Captures the diabetes status of individuals (e.g., \"Yes\", \"No\", \"Borderline\", etc.).\n",
    "  - `COUNT(*) AS count`: Counts the number of individuals for each combination of heart disease status and diabetes status.\n",
    "- The `JOIN` clause links the `heartdisease` and `otherdisease` tables using the `otherdisease_key` to establish the relationship.\n",
    "- The `GROUP BY` clause groups the results by `heartdisease.heartdisease` and `otherdisease.Diabetic` to calculate the count of individuals for each combination.\n",
    "- This query provides insights into the relationship between diabetes and heart disease, helping to understand how different diabetes statuses are distributed among individuals with and without heart disease."
   ]
  },
  {
   "cell_type": "code",
   "execution_count": 64,
   "id": "aed7284f-d72d-47b5-bab8-45f6993d481e",
   "metadata": {},
   "outputs": [
    {
     "data": {
      "text/html": [
       "<span style=\"None\">Running query in &#x27;postgresql://postgres@/final_project&#x27;</span>"
      ],
      "text/plain": [
       "Running query in 'postgresql://postgres@/final_project'"
      ]
     },
     "metadata": {},
     "output_type": "display_data"
    },
    {
     "data": {
      "text/html": [
       "<span style=\"color: green\">8 rows affected.</span>"
      ],
      "text/plain": [
       "8 rows affected."
      ]
     },
     "metadata": {},
     "output_type": "display_data"
    },
    {
     "data": {
      "text/html": [
       "<table>\n",
       "    <thead>\n",
       "        <tr>\n",
       "            <th>heartdisease</th>\n",
       "            <th>diabetic</th>\n",
       "            <th>count</th>\n",
       "        </tr>\n",
       "    </thead>\n",
       "    <tbody>\n",
       "        <tr>\n",
       "            <td>False</td>\n",
       "            <td>No</td>\n",
       "            <td>252134</td>\n",
       "        </tr>\n",
       "        <tr>\n",
       "            <td>False</td>\n",
       "            <td>No, borderline diabetes</td>\n",
       "            <td>5992</td>\n",
       "        </tr>\n",
       "        <tr>\n",
       "            <td>False</td>\n",
       "            <td>Yes</td>\n",
       "            <td>31845</td>\n",
       "        </tr>\n",
       "        <tr>\n",
       "            <td>False</td>\n",
       "            <td>Yes (during pregnancy)</td>\n",
       "            <td>2451</td>\n",
       "        </tr>\n",
       "        <tr>\n",
       "            <td>True</td>\n",
       "            <td>No</td>\n",
       "            <td>17519</td>\n",
       "        </tr>\n",
       "        <tr>\n",
       "            <td>True</td>\n",
       "            <td>No, borderline diabetes</td>\n",
       "            <td>789</td>\n",
       "        </tr>\n",
       "        <tr>\n",
       "            <td>True</td>\n",
       "            <td>Yes</td>\n",
       "            <td>8957</td>\n",
       "        </tr>\n",
       "        <tr>\n",
       "            <td>True</td>\n",
       "            <td>Yes (during pregnancy)</td>\n",
       "            <td>108</td>\n",
       "        </tr>\n",
       "    </tbody>\n",
       "</table>"
      ],
      "text/plain": [
       "+--------------+-------------------------+--------+\n",
       "| heartdisease |         diabetic        | count  |\n",
       "+--------------+-------------------------+--------+\n",
       "|    False     |            No           | 252134 |\n",
       "|    False     | No, borderline diabetes |  5992  |\n",
       "|    False     |           Yes           | 31845  |\n",
       "|    False     |  Yes (during pregnancy) |  2451  |\n",
       "|     True     |            No           | 17519  |\n",
       "|     True     | No, borderline diabetes |  789   |\n",
       "|     True     |           Yes           |  8957  |\n",
       "|     True     |  Yes (during pregnancy) |  108   |\n",
       "+--------------+-------------------------+--------+"
      ]
     },
     "execution_count": 64,
     "metadata": {},
     "output_type": "execute_result"
    }
   ],
   "source": [
    "%%sql\n",
    "SELECT heartdisease.heartdisease,otherdisease.Diabetic, COUNT(*) count\n",
    "FROM heartdisease\n",
    "JOIN otherdisease\n",
    "    ON heartdisease.otherdisease_key = otherdisease.otherdisease_key\n",
    "GROUP BY heartdisease.heartdisease, otherdisease.Diabetic\n",
    "\n",
    ";"
   ]
  },
  {
   "cell_type": "markdown",
   "id": "3820f45d-8cd1-4bd8-82bc-a39e66c6b0f7",
   "metadata": {},
   "source": [
    "### Interpretation of Heart Disease Prevalence by Diabetes Status  \n",
    "\n",
    "This query examines the relationship between heart disease status and diabetes categories. The results are grouped based on whether individuals have diabetes or not.  \n",
    "\n",
    "#### Results:  \n",
    "\n",
    "1. **No Diabetes**:  \n",
    "   - **Without Heart Disease (False)**: **252,134** individuals  \n",
    "   - **With Heart Disease (True)**: **17,519** individuals  \n",
    "   - *Interpretation*: A significant majority of individuals without diabetes do not have heart disease. However, 17,519 cases indicate that even without diabetes, heart disease is still present in a smaller subset.  \n",
    "\n",
    "2. **No, Borderline Diabetes**:  \n",
    "   - **Without Heart Disease**: **5,992** individuals  \n",
    "   - **With Heart Disease**: **789** individuals  \n",
    "   - *Interpretation*: Borderline diabetes shows a lower prevalence overall, but individuals in this category still exhibit cases of heart disease.  \n",
    "\n",
    "3. **Yes (Diabetes)**:  \n",
    "   - **Without Heart Disease**: **31,845** individuals  \n",
    "   - **With Heart Disease**: **8,957** individuals  \n",
    "   - *Interpretation*: Individuals with diabetes show a **higher prevalence of heart disease** compared to those without diabetes. This highlights diabetes as a potential risk factor for heart disease.  \n",
    "\n",
    "4. **Yes (During Pregnancy)**:  \n",
    "   - **Without Heart Disease**: **2,451** individuals  \n",
    "   - **With Heart Disease**: **108** individuals  \n",
    "   - *Interpretation*: Diabetes during pregnancy shows a minimal count, but cases of heart disease exist in this group, warranting further investigation into gestational diabetes as a contributing factor.  \n",
    "\n",
    "### Overall Summary:  \n",
    "- Diabetes is strongly associated with a higher prevalence of heart disease, as indicated by the significant counts in the **\"Yes (Diabetes)\"** group.  \n",
    "- Individuals without diabetes or with borderline diabetes exhibit lower heart disease counts.  \n",
    "- Preventive care and diabetes management could play a significant role in reducing heart disease risk.  "
   ]
  },
  {
   "cell_type": "markdown",
   "id": "b9d12c0d-3497-4ba1-a4f2-bb3cc646e03a",
   "metadata": {},
   "source": [
    "Asthma"
   ]
  },
  {
   "cell_type": "markdown",
   "id": "6ad83f02-3164-48de-899a-6b806ba37078",
   "metadata": {},
   "source": [
    "### Query to Analyze the Effect of Asthma on Heart Disease\n",
    "\n",
    "- Using `%%sql` to execute SQL commands directly within the Jupyter Notebook.\n",
    "- The `SELECT` statement retrieves the following:\n",
    "  - `heartdisease.heartdisease`: Indicates whether the individual has heart disease (`True` or `False`).\n",
    "  - `otherdisease.Asthma`: Indicates whether the individual has asthma (`True` or `False`).\n",
    "  - `COUNT(*) AS count`: Counts the number of individuals for each combination of heart disease status and asthma status.\n",
    "- The `JOIN` clause links the `heartdisease` and `otherdisease` tables using the `otherdisease_key` to establish the relationship.\n",
    "- The `GROUP BY` clause groups the results by `heartdisease.heartdisease` and `otherdisease.Asthma` to calculate the count of individuals for each combination.\n",
    "- This query helps to analyze the distribution of asthma among individuals with and without heart disease, providing insights into its potential impact on heart disease risk."
   ]
  },
  {
   "cell_type": "code",
   "execution_count": 65,
   "id": "662cc838-3749-4632-a088-b317b88f09fd",
   "metadata": {},
   "outputs": [
    {
     "data": {
      "text/html": [
       "<span style=\"None\">Running query in &#x27;postgresql://postgres@/final_project&#x27;</span>"
      ],
      "text/plain": [
       "Running query in 'postgresql://postgres@/final_project'"
      ]
     },
     "metadata": {},
     "output_type": "display_data"
    },
    {
     "data": {
      "text/html": [
       "<span style=\"color: green\">4 rows affected.</span>"
      ],
      "text/plain": [
       "4 rows affected."
      ]
     },
     "metadata": {},
     "output_type": "display_data"
    },
    {
     "data": {
      "text/html": [
       "<table>\n",
       "    <thead>\n",
       "        <tr>\n",
       "            <th>heartdisease</th>\n",
       "            <th>asthma</th>\n",
       "            <th>count</th>\n",
       "        </tr>\n",
       "    </thead>\n",
       "    <tbody>\n",
       "        <tr>\n",
       "            <td>False</td>\n",
       "            <td>False</td>\n",
       "            <td>254483</td>\n",
       "        </tr>\n",
       "        <tr>\n",
       "            <td>False</td>\n",
       "            <td>True</td>\n",
       "            <td>37939</td>\n",
       "        </tr>\n",
       "        <tr>\n",
       "            <td>True</td>\n",
       "            <td>False</td>\n",
       "            <td>22440</td>\n",
       "        </tr>\n",
       "        <tr>\n",
       "            <td>True</td>\n",
       "            <td>True</td>\n",
       "            <td>4933</td>\n",
       "        </tr>\n",
       "    </tbody>\n",
       "</table>"
      ],
      "text/plain": [
       "+--------------+--------+--------+\n",
       "| heartdisease | asthma | count  |\n",
       "+--------------+--------+--------+\n",
       "|    False     | False  | 254483 |\n",
       "|    False     |  True  | 37939  |\n",
       "|     True     | False  | 22440  |\n",
       "|     True     |  True  |  4933  |\n",
       "+--------------+--------+--------+"
      ]
     },
     "execution_count": 65,
     "metadata": {},
     "output_type": "execute_result"
    }
   ],
   "source": [
    "%%sql\n",
    "SELECT heartdisease.heartdisease,otherdisease.Asthma, COUNT(*) count\n",
    "FROM heartdisease\n",
    "JOIN otherdisease\n",
    "    ON heartdisease.otherdisease_key = otherdisease.otherdisease_key\n",
    "GROUP BY heartdisease.heartdisease, otherdisease.Asthma\n",
    "\n",
    ";"
   ]
  },
  {
   "cell_type": "markdown",
   "id": "94e620e0-f0a2-4e1b-a631-8524f1e7f805",
   "metadata": {},
   "source": [
    "### Interpretation of Heart Disease Prevalence by Asthma Status  \n",
    "\n",
    "This query analyzes the relationship between heart disease and asthma status by grouping individuals based on whether they have asthma or not.\n",
    "\n",
    "#### Results:\n",
    "\n",
    "1. **No Asthma**:  \n",
    "   - **Without Heart Disease (False)**: **254,483** individuals  \n",
    "   - **With Heart Disease (True)**: **22,440** individuals  \n",
    "   - *Interpretation*: A large majority of individuals without asthma do not have heart disease, but there is still a notable number of heart disease cases in this group.\n",
    "\n",
    "2. **With Asthma**:  \n",
    "   - **Without Heart Disease (False)**: **37,939** individuals  \n",
    "   - **With Heart Disease (True)**: **4,933** individuals  \n",
    "   - *Interpretation*: Individuals with asthma exhibit a higher proportion of heart disease cases compared to their non-asthmatic counterparts. This suggests a potential relationship between asthma and the risk of heart disease.\n",
    "\n",
    "### Overall Summary:  \n",
    "- Individuals with asthma show a **higher prevalence** of heart disease (4,933 cases) compared to those without asthma.  \n",
    "- Although most individuals with asthma do not have heart disease, the increased proportion warrants further exploration into asthma as a possible contributing factor.  \n",
    "- Monitoring and managing asthma may play a role in reducing the risk of heart disease, especially in vulnerable populations.  \n"
   ]
  },
  {
   "cell_type": "markdown",
   "id": "4182ce10-79ef-482d-ba39-5e2f3abeda17",
   "metadata": {},
   "source": [
    "KidneyDisease"
   ]
  },
  {
   "cell_type": "markdown",
   "id": "1e449a58-5b51-4571-852a-0a4f227c6523",
   "metadata": {},
   "source": [
    "### Query to Analyze the Effect of Kidney Disease on Heart Disease\n",
    "\n",
    "- Using `%%sql` to execute SQL commands directly within the Jupyter Notebook.\n",
    "- The `SELECT` statement retrieves the following:\n",
    "  - `heartdisease.heartdisease`: Indicates whether the individual has heart disease (`True` or `False`).\n",
    "  - `otherdisease.KidneyDisease`: Indicates whether the individual has kidney disease (`True` or `False`).\n",
    "  - `COUNT(*) AS count`: Counts the number of individuals for each combination of heart disease status and kidney disease status.\n",
    "- The `JOIN` clause links the `heartdisease` and `otherdisease` tables using the `otherdisease_key` to establish the relationship.\n",
    "- The `GROUP BY` clause groups the results by `heartdisease.heartdisease` and `otherdisease.KidneyDisease` to calculate the count of individuals for each combination.\n",
    "- This query helps to explore the relationship between kidney disease and heart disease, providing insights into how kidney disease prevalence varies among individuals with and without heart disease.\n"
   ]
  },
  {
   "cell_type": "code",
   "execution_count": 66,
   "id": "26b777fb-c01e-4935-b4a5-2fb31c1a6307",
   "metadata": {},
   "outputs": [
    {
     "data": {
      "text/html": [
       "<span style=\"None\">Running query in &#x27;postgresql://postgres@/final_project&#x27;</span>"
      ],
      "text/plain": [
       "Running query in 'postgresql://postgres@/final_project'"
      ]
     },
     "metadata": {},
     "output_type": "display_data"
    },
    {
     "data": {
      "text/html": [
       "<span style=\"color: green\">4 rows affected.</span>"
      ],
      "text/plain": [
       "4 rows affected."
      ]
     },
     "metadata": {},
     "output_type": "display_data"
    },
    {
     "data": {
      "text/html": [
       "<table>\n",
       "    <thead>\n",
       "        <tr>\n",
       "            <th>heartdisease</th>\n",
       "            <th>kidneydisease</th>\n",
       "            <th>count</th>\n",
       "        </tr>\n",
       "    </thead>\n",
       "    <tbody>\n",
       "        <tr>\n",
       "            <td>False</td>\n",
       "            <td>False</td>\n",
       "            <td>284098</td>\n",
       "        </tr>\n",
       "        <tr>\n",
       "            <td>False</td>\n",
       "            <td>True</td>\n",
       "            <td>8324</td>\n",
       "        </tr>\n",
       "        <tr>\n",
       "            <td>True</td>\n",
       "            <td>False</td>\n",
       "            <td>23918</td>\n",
       "        </tr>\n",
       "        <tr>\n",
       "            <td>True</td>\n",
       "            <td>True</td>\n",
       "            <td>3455</td>\n",
       "        </tr>\n",
       "    </tbody>\n",
       "</table>"
      ],
      "text/plain": [
       "+--------------+---------------+--------+\n",
       "| heartdisease | kidneydisease | count  |\n",
       "+--------------+---------------+--------+\n",
       "|    False     |     False     | 284098 |\n",
       "|    False     |      True     |  8324  |\n",
       "|     True     |     False     | 23918  |\n",
       "|     True     |      True     |  3455  |\n",
       "+--------------+---------------+--------+"
      ]
     },
     "execution_count": 66,
     "metadata": {},
     "output_type": "execute_result"
    }
   ],
   "source": [
    "%%sql\n",
    "SELECT heartdisease.heartdisease,otherdisease.KidneyDisease, COUNT(*) count\n",
    "FROM heartdisease\n",
    "JOIN otherdisease\n",
    "    ON heartdisease.otherdisease_key = otherdisease.otherdisease_key\n",
    "GROUP BY heartdisease.heartdisease, otherdisease.KidneyDisease\n",
    "\n",
    ";"
   ]
  },
  {
   "cell_type": "markdown",
   "id": "9d481dce-26d7-48ac-8bdb-8351fb645e9e",
   "metadata": {},
   "source": [
    "### Interpretation of Heart Disease Prevalence by Kidney Disease Status  \n",
    "\n",
    "This query examines the relationship between heart disease and kidney disease status by grouping individuals based on whether they have kidney disease or not.\n",
    "\n",
    "#### Results:\n",
    "\n",
    "1. **No Kidney Disease**:  \n",
    "   - **Without Heart Disease (False)**: **284,098** individuals  \n",
    "   - **With Heart Disease (True)**: **23,918** individuals  \n",
    "   - *Interpretation*: A significant majority of individuals without kidney disease do not have heart disease. However, there is still a noticeable proportion of individuals with heart disease in this group.\n",
    "\n",
    "2. **With Kidney Disease**:  \n",
    "   - **Without Heart Disease (False)**: **8,324** individuals  \n",
    "   - **With Heart Disease (True)**: **3,455** individuals  \n",
    "   - *Interpretation*: Individuals with kidney disease have a higher likelihood of also having heart disease, as evidenced by the ratio of heart disease cases in this group.\n",
    "\n",
    "### Overall Summary:  \n",
    "- Kidney disease appears to be associated with a higher prevalence of heart disease. The percentage of individuals with heart disease among those with kidney disease (3,455 cases) is notably higher relative to the total size of this group.  \n",
    "- Individuals with kidney disease might be at an increased risk of developing heart disease, highlighting the importance of closely monitoring heart health in patients with kidney conditions.  \n",
    "- Further research or analysis could help clarify the underlying connection between kidney disease and heart disease.\n"
   ]
  },
  {
   "cell_type": "markdown",
   "id": "f0826770-47d6-450a-81ec-36f27ffd28b2",
   "metadata": {},
   "source": [
    "Stroke"
   ]
  },
  {
   "cell_type": "markdown",
   "id": "a3a28771-69a9-42fd-a2ad-d0cf6f34ab56",
   "metadata": {},
   "source": [
    "### Query to Analyze the Effect of Stroke on Heart Disease\n",
    "\n",
    "- Using `%%sql` to execute SQL commands directly within the Jupyter Notebook.\n",
    "- The `SELECT` statement retrieves the following:\n",
    "  - `heartdisease.heartdisease`: Indicates whether the individual has heart disease (`True` or `False`).\n",
    "  - `otherdisease.Stroke`: Indicates whether the individual has experienced a stroke (`True` or `False`).\n",
    "  - `COUNT(*) AS count`: Counts the number of individuals for each combination of heart disease status and stroke history.\n",
    "- The `JOIN` clause links the `heartdisease` and `otherdisease` tables using the `otherdisease_key` to establish the relationship.\n",
    "- The `GROUP BY` clause groups the results by `heartdisease.heartdisease` and `otherdisease.Stroke` to calculate the count of individuals for each combination.\n",
    "- This query helps analyze the relationship between stroke history and heart disease, providing insights into how the occurrence of strokes correlates with heart disease prevalence."
   ]
  },
  {
   "cell_type": "code",
   "execution_count": 67,
   "id": "8e22fd60-a917-4ee6-92e1-9fc50db495cd",
   "metadata": {},
   "outputs": [
    {
     "data": {
      "text/html": [
       "<span style=\"None\">Running query in &#x27;postgresql://postgres@/final_project&#x27;</span>"
      ],
      "text/plain": [
       "Running query in 'postgresql://postgres@/final_project'"
      ]
     },
     "metadata": {},
     "output_type": "display_data"
    },
    {
     "data": {
      "text/html": [
       "<span style=\"color: green\">4 rows affected.</span>"
      ],
      "text/plain": [
       "4 rows affected."
      ]
     },
     "metadata": {},
     "output_type": "display_data"
    },
    {
     "data": {
      "text/html": [
       "<table>\n",
       "    <thead>\n",
       "        <tr>\n",
       "            <th>heartdisease</th>\n",
       "            <th>stroke</th>\n",
       "            <th>count</th>\n",
       "        </tr>\n",
       "    </thead>\n",
       "    <tbody>\n",
       "        <tr>\n",
       "            <td>False</td>\n",
       "            <td>False</td>\n",
       "            <td>284742</td>\n",
       "        </tr>\n",
       "        <tr>\n",
       "            <td>False</td>\n",
       "            <td>True</td>\n",
       "            <td>7680</td>\n",
       "        </tr>\n",
       "        <tr>\n",
       "            <td>True</td>\n",
       "            <td>False</td>\n",
       "            <td>22984</td>\n",
       "        </tr>\n",
       "        <tr>\n",
       "            <td>True</td>\n",
       "            <td>True</td>\n",
       "            <td>4389</td>\n",
       "        </tr>\n",
       "    </tbody>\n",
       "</table>"
      ],
      "text/plain": [
       "+--------------+--------+--------+\n",
       "| heartdisease | stroke | count  |\n",
       "+--------------+--------+--------+\n",
       "|    False     | False  | 284742 |\n",
       "|    False     |  True  |  7680  |\n",
       "|     True     | False  | 22984  |\n",
       "|     True     |  True  |  4389  |\n",
       "+--------------+--------+--------+"
      ]
     },
     "execution_count": 67,
     "metadata": {},
     "output_type": "execute_result"
    }
   ],
   "source": [
    "%%sql\n",
    "SELECT heartdisease.heartdisease,otherdisease.Stroke, COUNT(*) count\n",
    "FROM heartdisease\n",
    "JOIN otherdisease\n",
    "    ON heartdisease.otherdisease_key = otherdisease.otherdisease_key\n",
    "GROUP BY heartdisease.heartdisease, otherdisease.Stroke\n",
    "\n",
    ";"
   ]
  },
  {
   "cell_type": "markdown",
   "id": "8b4fc16d-5ef7-4f6c-a08a-4a4c64160f2a",
   "metadata": {},
   "source": [
    "### Interpretation of Heart Disease Prevalence by Stroke Status  \n",
    "\n",
    "This query explores the relationship between heart disease and stroke by grouping individuals based on whether they have experienced a stroke.\n",
    "\n",
    "#### Results:\n",
    "\n",
    "1. **No Stroke**:  \n",
    "   - **Without Heart Disease (False)**: **284,742** individuals  \n",
    "   - **With Heart Disease (True)**: **22,984** individuals  \n",
    "   - *Interpretation*: A majority of individuals without a history of stroke do not have heart disease. However, a substantial number still suffer from heart disease.\n",
    "\n",
    "2. **With Stroke**:  \n",
    "   - **Without Heart Disease (False)**: **7,680** individuals  \n",
    "   - **With Heart Disease (True)**: **4,389** individuals  \n",
    "   - *Interpretation*: Individuals with a history of stroke show a higher prevalence of heart disease, as nearly 36% of individuals in this group have heart disease.\n",
    "\n",
    "### Overall Summary:\n",
    "- The results indicate a strong association between stroke and heart disease. A higher proportion of individuals who have experienced a stroke also have heart disease compared to those without a history of stroke.  \n",
    "- Stroke might serve as a significant predictor or comorbidity factor for heart disease, emphasizing the need for integrated cardiovascular and neurological health management.  \n",
    "- Monitoring and preventive care for individuals with stroke histories may help mitigate heart disease risk."
   ]
  },
  {
   "cell_type": "markdown",
   "id": "f767b3d8-9458-4be9-8b2a-0b9b797b1e52",
   "metadata": {},
   "source": [
    "### Query to Analyze the Effect of Skin Cancer on Heart Disease\n",
    "\n",
    "- Using `%%sql` to execute SQL commands directly within the Jupyter Notebook.\n",
    "- The `SELECT` statement retrieves the following:\n",
    "  - `heartdisease.heartdisease`: Indicates whether the individual has heart disease (`True` or `False`).\n",
    "  - `otherdisease.SkinCancer`: Indicates whether the individual has skin cancer (`True` or `False`).\n",
    "  - `COUNT(*) AS count`: Counts the number of individuals for each combination of heart disease status and skin cancer presence.\n",
    "- The `JOIN` clause links the `heartdisease` and `otherdisease` tables using the `otherdisease_key` to establish the relationship.\n",
    "- The `GROUP BY` clause groups the results by `heartdisease.heartdisease` and `otherdisease.SkinCancer` to calculate the count of individuals for each combination.\n",
    "- This query provides insights into the prevalence of skin cancer among individuals with and without heart disease, helping to explore whether there is any significant relationship between skin cancer and heart disease."
   ]
  },
  {
   "cell_type": "code",
   "execution_count": 68,
   "id": "176e3f30-c5af-4b7d-83f9-44a07c712466",
   "metadata": {},
   "outputs": [
    {
     "data": {
      "text/html": [
       "<span style=\"None\">Running query in &#x27;postgresql://postgres@/final_project&#x27;</span>"
      ],
      "text/plain": [
       "Running query in 'postgresql://postgres@/final_project'"
      ]
     },
     "metadata": {},
     "output_type": "display_data"
    },
    {
     "data": {
      "text/html": [
       "<span style=\"color: green\">4 rows affected.</span>"
      ],
      "text/plain": [
       "4 rows affected."
      ]
     },
     "metadata": {},
     "output_type": "display_data"
    },
    {
     "data": {
      "text/html": [
       "<table>\n",
       "    <thead>\n",
       "        <tr>\n",
       "            <th>heartdisease</th>\n",
       "            <th>skincancer</th>\n",
       "            <th>count</th>\n",
       "        </tr>\n",
       "    </thead>\n",
       "    <tbody>\n",
       "        <tr>\n",
       "            <td>False</td>\n",
       "            <td>False</td>\n",
       "            <td>267583</td>\n",
       "        </tr>\n",
       "        <tr>\n",
       "            <td>False</td>\n",
       "            <td>True</td>\n",
       "            <td>24839</td>\n",
       "        </tr>\n",
       "        <tr>\n",
       "            <td>True</td>\n",
       "            <td>False</td>\n",
       "            <td>22393</td>\n",
       "        </tr>\n",
       "        <tr>\n",
       "            <td>True</td>\n",
       "            <td>True</td>\n",
       "            <td>4980</td>\n",
       "        </tr>\n",
       "    </tbody>\n",
       "</table>"
      ],
      "text/plain": [
       "+--------------+------------+--------+\n",
       "| heartdisease | skincancer | count  |\n",
       "+--------------+------------+--------+\n",
       "|    False     |   False    | 267583 |\n",
       "|    False     |    True    | 24839  |\n",
       "|     True     |   False    | 22393  |\n",
       "|     True     |    True    |  4980  |\n",
       "+--------------+------------+--------+"
      ]
     },
     "execution_count": 68,
     "metadata": {},
     "output_type": "execute_result"
    }
   ],
   "source": [
    "%%sql\n",
    "SELECT heartdisease.heartdisease,otherdisease.SkinCancer, COUNT(*) count\n",
    "FROM heartdisease\n",
    "JOIN otherdisease\n",
    "    ON heartdisease.otherdisease_key = otherdisease.otherdisease_key\n",
    "GROUP BY heartdisease.heartdisease, otherdisease.SkinCancer\n",
    "\n",
    ";"
   ]
  },
  {
   "cell_type": "markdown",
   "id": "d956af9e-1548-4fcb-90f4-cbf0c5a29371",
   "metadata": {},
   "source": [
    "### Interpretation of Heart Disease Prevalence by Skin Cancer Status  \n",
    "\n",
    "This query examines the relationship between heart disease and skin cancer by grouping individuals based on whether they have a history of skin cancer.\n",
    "\n",
    "#### Results:\n",
    "\n",
    "1. **No Skin Cancer**:  \n",
    "   - **Without Heart Disease (False)**: **267,583** individuals  \n",
    "   - **With Heart Disease (True)**: **22,393** individuals  \n",
    "   - *Interpretation*: A significant majority of individuals without a history of skin cancer do not have heart disease. However, a notable group (22,393) still exhibits heart disease.\n",
    "\n",
    "2. **With Skin Cancer**:  \n",
    "   - **Without Heart Disease (False)**: **24,839** individuals  \n",
    "   - **With Heart Disease (True)**: **4,980** individuals  \n",
    "   - *Interpretation*: Among individuals with a history of skin cancer, **16.7%** also have heart disease, which indicates an increased prevalence compared to those without skin cancer.\n",
    "\n",
    "### Overall Summary:\n",
    "- The data suggests a potential relationship between skin cancer and heart disease, with individuals having a history of skin cancer showing a higher percentage of heart disease cases.\n",
    "- While causality cannot be inferred, the co-occurrence may point to shared risk factors such as aging, lifestyle choices (e.g., prolonged sun exposure, smoking), or overall chronic disease vulnerability.\n",
    "- Further investigation into overlapping risk factors and health behaviors could provide deeper insights into this relationship."
   ]
  },
  {
   "cell_type": "markdown",
   "id": "4bbec50f-0690-46a2-83ba-c95bbe025ad3",
   "metadata": {},
   "source": [
    "### Query to Analyze the Relationship Between Sex, Other Diseases, and Heart Disease\n",
    "\n",
    "- Using `%%sql` to execute SQL commands directly within the Jupyter Notebook.\n",
    "- The `SELECT` statement retrieves the following:\n",
    "  - `d.sex`: Represents the sex of the individual (e.g., Male or Female).\n",
    "  - `o.diabetic`: Indicates whether the individual has diabetes.\n",
    "  - `o.asthma`: Indicates whether the individual has asthma.\n",
    "  - `o.stroke`: Indicates whether the individual has experienced a stroke.\n",
    "  - `o.skincancer`: Indicates whether the individual has skin cancer.\n",
    "  - `COUNT(*) AS count`: Counts the number of individuals for each combination of sex, other diseases, and heart disease.\n",
    "- The `JOIN` clauses link:\n",
    "  - The `heartdisease` and `demographic` tables using the `demographic_key`.\n",
    "  - The `heartdisease` and `otherdisease` tables using the `otherdisease_key`.\n",
    "- The `WHERE` clause filters the results to include only individuals with heart disease (`h.heartdisease = True`).\n",
    "- The `GROUP BY` clause groups the results by `d.sex`, `o.diabetic`, `o.asthma`, `o.stroke`, and `o.skincancer` to calculate the count for each combination.\n",
    "- This query provides insights into how different combinations of sex and other diseases (e.g., diabetes, asthma, stroke, skin cancer) correlate with heart disease prevalence.\n"
   ]
  },
  {
   "cell_type": "code",
   "execution_count": 70,
   "id": "0ba3874f-16e1-4d58-89e6-c7d2b0c6bef8",
   "metadata": {},
   "outputs": [
    {
     "data": {
      "text/html": [
       "<span style=\"None\">Running query in &#x27;postgresql://postgres@/final_project&#x27;</span>"
      ],
      "text/plain": [
       "Running query in 'postgresql://postgres@/final_project'"
      ]
     },
     "metadata": {},
     "output_type": "display_data"
    },
    {
     "data": {
      "text/html": [
       "<span style=\"color: green\">10 rows affected.</span>"
      ],
      "text/plain": [
       "10 rows affected."
      ]
     },
     "metadata": {},
     "output_type": "display_data"
    },
    {
     "data": {
      "text/html": [
       "<table>\n",
       "    <thead>\n",
       "        <tr>\n",
       "            <th>sex</th>\n",
       "            <th>diabetic</th>\n",
       "            <th>asthma</th>\n",
       "            <th>stroke</th>\n",
       "            <th>skincancer</th>\n",
       "            <th>count</th>\n",
       "        </tr>\n",
       "    </thead>\n",
       "    <tbody>\n",
       "        <tr>\n",
       "            <td>Female</td>\n",
       "            <td>No</td>\n",
       "            <td>False</td>\n",
       "            <td>False</td>\n",
       "            <td>False</td>\n",
       "            <td>4044</td>\n",
       "        </tr>\n",
       "        <tr>\n",
       "            <td>Female</td>\n",
       "            <td>No</td>\n",
       "            <td>False</td>\n",
       "            <td>False</td>\n",
       "            <td>True</td>\n",
       "            <td>784</td>\n",
       "        </tr>\n",
       "        <tr>\n",
       "            <td>Female</td>\n",
       "            <td>No</td>\n",
       "            <td>False</td>\n",
       "            <td>True</td>\n",
       "            <td>False</td>\n",
       "            <td>689</td>\n",
       "        </tr>\n",
       "        <tr>\n",
       "            <td>Female</td>\n",
       "            <td>No</td>\n",
       "            <td>False</td>\n",
       "            <td>True</td>\n",
       "            <td>True</td>\n",
       "            <td>162</td>\n",
       "        </tr>\n",
       "        <tr>\n",
       "            <td>Female</td>\n",
       "            <td>No</td>\n",
       "            <td>True</td>\n",
       "            <td>False</td>\n",
       "            <td>False</td>\n",
       "            <td>1074</td>\n",
       "        </tr>\n",
       "        <tr>\n",
       "            <td>Female</td>\n",
       "            <td>No</td>\n",
       "            <td>True</td>\n",
       "            <td>False</td>\n",
       "            <td>True</td>\n",
       "            <td>160</td>\n",
       "        </tr>\n",
       "        <tr>\n",
       "            <td>Female</td>\n",
       "            <td>No</td>\n",
       "            <td>True</td>\n",
       "            <td>True</td>\n",
       "            <td>False</td>\n",
       "            <td>248</td>\n",
       "        </tr>\n",
       "        <tr>\n",
       "            <td>Female</td>\n",
       "            <td>No</td>\n",
       "            <td>True</td>\n",
       "            <td>True</td>\n",
       "            <td>True</td>\n",
       "            <td>49</td>\n",
       "        </tr>\n",
       "        <tr>\n",
       "            <td>Female</td>\n",
       "            <td>No, borderline diabetes</td>\n",
       "            <td>False</td>\n",
       "            <td>False</td>\n",
       "            <td>False</td>\n",
       "            <td>165</td>\n",
       "        </tr>\n",
       "        <tr>\n",
       "            <td>Female</td>\n",
       "            <td>No, borderline diabetes</td>\n",
       "            <td>False</td>\n",
       "            <td>False</td>\n",
       "            <td>True</td>\n",
       "            <td>26</td>\n",
       "        </tr>\n",
       "    </tbody>\n",
       "</table>\n",
       "<span style=\"font-style:italic;text-align:center;\">Truncated to <a href=\"https://jupysql.ploomber.io/en/latest/api/configuration.html#displaylimit\">displaylimit</a> of 10.</span>"
      ],
      "text/plain": [
       "+--------+-------------------------+--------+--------+------------+-------+\n",
       "|  sex   |         diabetic        | asthma | stroke | skincancer | count |\n",
       "+--------+-------------------------+--------+--------+------------+-------+\n",
       "| Female |            No           | False  | False  |   False    |  4044 |\n",
       "| Female |            No           | False  | False  |    True    |  784  |\n",
       "| Female |            No           | False  |  True  |   False    |  689  |\n",
       "| Female |            No           | False  |  True  |    True    |  162  |\n",
       "| Female |            No           |  True  | False  |   False    |  1074 |\n",
       "| Female |            No           |  True  | False  |    True    |  160  |\n",
       "| Female |            No           |  True  |  True  |   False    |  248  |\n",
       "| Female |            No           |  True  |  True  |    True    |   49  |\n",
       "| Female | No, borderline diabetes | False  | False  |   False    |  165  |\n",
       "| Female | No, borderline diabetes | False  | False  |    True    |   26  |\n",
       "+--------+-------------------------+--------+--------+------------+-------+\n",
       "Truncated to displaylimit of 10."
      ]
     },
     "execution_count": 70,
     "metadata": {},
     "output_type": "execute_result"
    }
   ],
   "source": [
    "%%sql\n",
    "SELECT \n",
    "    d.sex,\n",
    "    o.diabetic,\n",
    "    o.asthma,\n",
    "    o.stroke,\n",
    "    o.skincancer,\n",
    "    COUNT(*) AS count\n",
    "FROM \n",
    "    heartdisease AS h\n",
    "JOIN \n",
    "    demographic AS d\n",
    "ON \n",
    "    h.demographic_key = d.demographic_key\n",
    "JOIN \n",
    "    otherdisease AS o\n",
    "ON \n",
    "    h.otherdisease_key = o.otherdisease_key\n",
    "WHERE \n",
    "    h.heartdisease = True\n",
    "GROUP BY \n",
    "    d.sex,\n",
    "    o.diabetic, \n",
    "    o.asthma, \n",
    "    o.stroke,\n",
    "    o.skincancer\n",
    "LIMIT 10;"
   ]
  },
  {
   "cell_type": "markdown",
   "id": "5a70acf4-5eef-4147-921c-644394a2a861",
   "metadata": {},
   "source": [
    "### Interpretation of Results\n",
    "\n",
    "The query analyzes individuals with heart disease (`heartdisease = True`) and examines the relationship between their **sex** and other chronic conditions (diabetes, asthma, stroke, and skin cancer).\n",
    "\n",
    "#### Results:\n",
    "1. **Sex and Disease Combinations**:\n",
    "   - **Female, No diabetes, No asthma, No stroke, No skin cancer** → **4,044** individuals.\n",
    "   - **Female, No diabetes, No asthma, No stroke, Skin cancer** → **784** individuals.\n",
    "   - **Female, No diabetes, Stroke, No skin cancer** → **689** individuals.\n",
    "   - **Female, No diabetes, Stroke, Skin cancer** → **162** individuals.\n",
    "   - Additional combinations reflect varying occurrences of chronic conditions alongside heart disease.\n",
    "\n",
    "#### Insights:\n",
    "1. **Major Patterns**:\n",
    "   - A significant number of females with heart disease do not report any chronic conditions like diabetes, asthma, stroke, or skin cancer.\n",
    "   - The presence of **stroke** and **skin cancer** appears frequently in combinations, especially among females, indicating a potential link between these chronic conditions and heart disease.\n",
    "\n",
    "2. **Chronic Disease Impact**:\n",
    "   - Diabetes, asthma, stroke, and skin cancer appear in various combinations, suggesting they might contribute differently to heart disease risk.\n",
    "   - For instance, individuals with both **stroke** and **skin cancer** show smaller counts but highlight the need for targeted investigation.\n",
    "\n",
    "3. **Sex-Based Observations**:\n",
    "   - The data emphasizes sex-specific trends in chronic conditions among individuals with heart disease.\n",
    "   - **Females** exhibit unique combinations of chronic conditions, which may inform future research on disease prevalence and prevention strategies.\n",
    "\n",
    "### Conclusion:\n",
    "- This analysis underscores the importance of studying chronic diseases like diabetes, asthma, stroke, and skin cancer alongside heart disease.\n",
    "- Identifying patterns and correlations in chronic disease combinations can guide targeted interventions and healthcare strategies for individuals at higher risk of heart disease.\n"
   ]
  },
  {
   "cell_type": "code",
   "execution_count": null,
   "id": "b7fe630a-dde7-4f61-8bf5-a13bde7b20b0",
   "metadata": {},
   "outputs": [],
   "source": []
  }
 ],
 "metadata": {
  "kernelspec": {
   "display_name": "Python 3 (ipykernel)",
   "language": "python",
   "name": "python3"
  },
  "language_info": {
   "codemirror_mode": {
    "name": "ipython",
    "version": 3
   },
   "file_extension": ".py",
   "mimetype": "text/x-python",
   "name": "python",
   "nbconvert_exporter": "python",
   "pygments_lexer": "ipython3",
   "version": "3.12.3"
  }
 },
 "nbformat": 4,
 "nbformat_minor": 5
}
